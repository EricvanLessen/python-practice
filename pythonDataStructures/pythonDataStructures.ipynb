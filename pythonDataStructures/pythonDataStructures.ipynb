{
 "cells": [
  {
   "cell_type": "code",
   "execution_count": 19,
   "id": "ad8fbb96",
   "metadata": {},
   "outputs": [
    {
     "name": "stdout",
     "output_type": "stream",
     "text": [
      "g\n",
      "cow\n",
      "omp\n",
      "opt\n",
      "puter\n",
      "compu\n",
      "r\n",
      "ter\n",
      "comput\n",
      "\n",
      " horseshoe ['pig', 'cow', 'monkey'] ('House', 'Bridge', 'Street')\n",
      "\n",
      " bugbugbug [1, 2, 1, 2, 1, 2] (1, 2, 1, 2, 1, 2)\n",
      "\n",
      " True\n",
      "\n",
      " True\n",
      "\n",
      " False \n",
      "\n",
      "4\n",
      "3\n",
      "2\n",
      "1\n",
      "0 4\n",
      "1 3\n",
      "2 2\n",
      "3 1\n",
      "\n",
      " 4\n",
      "\n",
      " 5\n",
      "1\n"
     ]
    }
   ],
   "source": [
    "# operations for sequence types (string, list, tuple)\n",
    "\n",
    "# indexing\n",
    "# string\n",
    "x = 'frog'\n",
    "print(x[3])\n",
    "\n",
    "# list\n",
    "x = ['pig', 'cow', 'horse']\n",
    "print(x[1])\n",
    "\n",
    "# slicing\n",
    "x = 'computer'\n",
    "print(x[1:4])  # omp\n",
    "print(x[1:6:2]) # opt\n",
    "print(x[3:]) # puter\n",
    "print(x[:5]) # compu\n",
    "print(x[-1]) # r\n",
    "print(x[-3:]) # ter\n",
    "print(x[:-2]) # comput\n",
    "\n",
    "# adding/ concatenating\n",
    "x = 'horse' + 'shoe'\n",
    "\n",
    "# list\n",
    "y = ['pig', 'cow'] + ['monkey']\n",
    "\n",
    "# tuple \n",
    "z = ('House', 'Bridge') + ('Street',)\n",
    "\n",
    "print('\\n',x, y, z)\n",
    "\n",
    "# multiplying\n",
    "x = 'bug' * 3\n",
    "y = [1,2] * 3\n",
    "z = (1,2) * 3\n",
    "print('\\n',x, y, z)\n",
    "\n",
    "# membership\n",
    "print('\\n','u' in x)\n",
    "print('\\n',not 'pig' in y)\n",
    "print('\\n','Tower' in z,'\\n')\n",
    "\n",
    "# iterating\n",
    "x = [4,3,2,1]\n",
    "for i in x:\n",
    "    print(i)\n",
    "    \n",
    "for i,v in enumerate(x):\n",
    "    print(i,v)\n",
    "    \n",
    "# length x\n",
    "print('\\n',len(x))\n",
    "# count\n",
    "x = 'huhuuhuhu'\n",
    "print('\\n',x.count('u'))\n",
    "print(x.index('u'))"
   ]
  },
  {
   "cell_type": "code",
   "execution_count": 21,
   "id": "a3bf9581",
   "metadata": {},
   "outputs": [
    {
     "name": "stdout",
     "output_type": "stream",
     "text": [
      "under_10: [0, 1, 2, 3, 4, 5, 6, 7, 8, 9]\n"
     ]
    }
   ],
   "source": [
    "# list comprehensions\n",
    "# basic format: new_list = [transform sequence [filter] ]\n",
    "import random\n",
    "\n",
    "under_10 = [x for x in range(10)]\n",
    "print('under_10: ' + str(under_10))\n"
   ]
  },
  {
   "cell_type": "code",
   "execution_count": 22,
   "id": "ecbf0cb3",
   "metadata": {},
   "outputs": [
    {
     "name": "stdout",
     "output_type": "stream",
     "text": [
      "squares: [0, 1, 4, 9, 16, 25, 36, 49, 64, 81]\n"
     ]
    }
   ],
   "source": [
    "squares = [x**2 for x in under_10]\n",
    "print('squares: ' + str(squares))\n"
   ]
  },
  {
   "cell_type": "code",
   "execution_count": 23,
   "id": "de5d2982",
   "metadata": {},
   "outputs": [
    {
     "name": "stdout",
     "output_type": "stream",
     "text": [
      "odds: [1, 3, 5, 7, 9]\n"
     ]
    }
   ],
   "source": [
    "odds =  [x for x in range(10) if x%2 == 1]\n",
    "print('odds: ' + str(odds))"
   ]
  },
  {
   "cell_type": "code",
   "execution_count": 24,
   "id": "131a8f4d",
   "metadata": {},
   "outputs": [
    {
     "name": "stdout",
     "output_type": "stream",
     "text": [
      "ten_x: [0, 10, 20, 30, 40, 50, 60, 70, 80, 90]\n"
     ]
    }
   ],
   "source": [
    "ten_x = [x * 10 for x in range(10)]\n",
    "print('ten_x: ' + str(ten_x))"
   ]
  },
  {
   "cell_type": "code",
   "execution_count": 25,
   "id": "b7ba27c6",
   "metadata": {},
   "outputs": [
    {
     "name": "stdout",
     "output_type": "stream",
     "text": [
      "nums: 2073\n"
     ]
    }
   ],
   "source": [
    "# get all numbers from a string\n",
    "s = 'I love 2 go t0 the store 7 times a w3ek.'\n",
    "nums = [x for x in s if x.isnumeric()]\n",
    "print('nums: ' + ''.join(nums))\n"
   ]
  },
  {
   "cell_type": "code",
   "execution_count": 26,
   "id": "897a1006",
   "metadata": {},
   "outputs": [
    {
     "name": "stdout",
     "output_type": "stream",
     "text": [
      "index = 2\n"
     ]
    }
   ],
   "source": [
    "# get index of a list item\n",
    "names = ['Cosmo', 'Pedro', 'Anu', 'Ray']\n",
    "idx = [k for k,v in enumerate(names) if v == 'Anu']\n",
    "print('index = ' + str(idx[0]))"
   ]
  },
  {
   "cell_type": "code",
   "execution_count": 27,
   "id": "af5e3736",
   "metadata": {},
   "outputs": [
    {
     "name": "stdout",
     "output_type": "stream",
     "text": [
      "['A', 'D', 'F', 'C', 'B', 'E'] ['A', 'D', 'F', 'B', 'E']\n"
     ]
    }
   ],
   "source": [
    "# delete an item from a list\n",
    "letters = [x for x in 'ABCDEF']\n",
    "random.shuffle(letters)\n",
    "letrs = [a for a in letters if a != 'C']\n",
    "print(letters, letrs)"
   ]
  },
  {
   "cell_type": "code",
   "execution_count": 28,
   "id": "86846b68",
   "metadata": {},
   "outputs": [
    {
     "name": "stdout",
     "output_type": "stream",
     "text": [
      "new list: [50, 30, 10, 18, 6, 70]\n"
     ]
    }
   ],
   "source": [
    "# if-else condition in a comprehension (must come before iteration)\n",
    "nums = [5, 3, 10, 18, 6, 7]\n",
    "new_list = [x if x%2 == 0 else 10*x for x in nums]\n",
    "print('new list: ' + str(new_list))"
   ]
  },
  {
   "cell_type": "code",
   "execution_count": 29,
   "id": "ec7ac103",
   "metadata": {},
   "outputs": [
    {
     "name": "stdout",
     "output_type": "stream",
     "text": [
      "[1, 2, 3, 4]\n"
     ]
    }
   ],
   "source": [
    "# nested loop iteration for 2D list\n",
    "a = [[1,2],[3,4]]\n",
    "new_list = [x for b in a for x in b]\n",
    "print(new_list)"
   ]
  },
  {
   "cell_type": "code",
   "execution_count": 32,
   "id": "c866a66d",
   "metadata": {},
   "outputs": [
    {
     "name": "stdout",
     "output_type": "stream",
     "text": [
      "[5, 10, 15, 20]\n"
     ]
    }
   ],
   "source": [
    "my_list = [x for x in range(5,21,5)]\n",
    "\n",
    "print(my_list)"
   ]
  },
  {
   "cell_type": "code",
   "execution_count": 37,
   "id": "9223efb7",
   "metadata": {},
   "outputs": [
    {
     "name": "stdout",
     "output_type": "stream",
     "text": [
      "[8, 9, 10, 9, 10]\n"
     ]
    }
   ],
   "source": [
    "m = list()\n",
    "m.append(8)\n",
    "m.append(9)\n",
    "m.append(10)\n",
    "m.append(9)\n",
    "m.append(10)\n",
    "print(m)"
   ]
  },
  {
   "cell_type": "code",
   "execution_count": 38,
   "id": "ae0133f9",
   "metadata": {},
   "outputs": [
    {
     "name": "stdout",
     "output_type": "stream",
     "text": [
      "10\n",
      "9\n",
      "[8, 9, 10]\n"
     ]
    }
   ],
   "source": [
    "print(m.pop())\n",
    "print(m.pop())\n",
    "print(m)"
   ]
  },
  {
   "cell_type": "code",
   "execution_count": 43,
   "id": "42112a62",
   "metadata": {},
   "outputs": [],
   "source": [
    "# stack wrapper\n",
    "class Stack():\n",
    "    def __init__(self):\n",
    "        self.stack = list()\n",
    "    def push(self, item):\n",
    "        self.stack.append(item)\n",
    "    def pop(self):\n",
    "        if len(self.stack) > 0:\n",
    "            return self.stack.pop()\n",
    "        else:\n",
    "            return None\n",
    "    def peek(self):\n",
    "        if len(self.stack) > 0:\n",
    "            return self.stack[len(self.stack)-1]\n",
    "        else:\n",
    "            return None\n",
    "    def __str__(self):\n",
    "        return str(self.stack)"
   ]
  },
  {
   "cell_type": "code",
   "execution_count": 45,
   "id": "b99a229d",
   "metadata": {},
   "outputs": [
    {
     "name": "stdout",
     "output_type": "stream",
     "text": [
      "4\n",
      "[1, 3]\n"
     ]
    }
   ],
   "source": [
    "# test the stack wrapper\n",
    "my_stack = Stack()\n",
    "my_stack.push(1)\n",
    "my_stack.push(3)\n",
    "my_stack.push(4)\n",
    "p = my_stack.peek()\n",
    "print(p)\n",
    "my_stack.pop()\n",
    "print(my_stack)"
   ]
  },
  {
   "cell_type": "code",
   "execution_count": 49,
   "id": "5a414009",
   "metadata": {},
   "outputs": [
    {
     "name": "stdout",
     "output_type": "stream",
     "text": [
      "deque([5, 10])\n",
      "<class 'collections.deque'>\n",
      "5\n"
     ]
    }
   ],
   "source": [
    "# queue\n",
    "from collections import deque\n",
    "my_queue = deque()\n",
    "my_queue.append(5)\n",
    "my_queue.append(10)\n",
    "print(my_queue)\n",
    "print(type(my_queue))\n",
    "print(my_queue.popleft())"
   ]
  },
  {
   "cell_type": "code",
   "execution_count": 64,
   "id": "dc29ef0c",
   "metadata": {},
   "outputs": [],
   "source": [
    "from collections import deque\n",
    "# Queue wrapper class\n",
    "class Queue():\n",
    "    \n",
    "    def __init__(self):\n",
    "        self.queue = deque()\n",
    "        self.size = 0\n",
    "    def enqueue(self, item):\n",
    "        self.queue.append(item)\n",
    "    def dequeue(self):\n",
    "        if len(self.queue) > 0:\n",
    "            return self.queue.popleft()\n",
    "        else:\n",
    "            return None\n",
    "    def get_size(self):\n",
    "        return len(self.queue)\n",
    "    def __str__(self):\n",
    "        return str(self.queue)"
   ]
  },
  {
   "cell_type": "code",
   "execution_count": 65,
   "id": "517667af",
   "metadata": {},
   "outputs": [
    {
     "name": "stdout",
     "output_type": "stream",
     "text": [
      "deque([4, 5])\n"
     ]
    }
   ],
   "source": [
    "my_queue = Queue()\n",
    "my_queue.enqueue(3)\n",
    "my_queue.enqueue(4)\n",
    "my_queue.enqueue(5)\n",
    "my_queue.dequeue()\n",
    "print(my_queue)\n"
   ]
  },
  {
   "cell_type": "code",
   "execution_count": 72,
   "id": "d24fd549",
   "metadata": {},
   "outputs": [
    {
     "name": "stdout",
     "output_type": "stream",
     "text": [
      "[0, 95, 10, 21, 3]\n",
      "95\n",
      "21\n"
     ]
    }
   ],
   "source": [
    "# lets code a MaxHeap\n",
    "class MaxHeap:\n",
    "    def __init__(self, items=[]):\n",
    "        super().__init__()\n",
    "        self.heap = [0]\n",
    "        for item in items:\n",
    "            self.heap.append(item)\n",
    "            self.__floatUp(len(self.heap) - 1)\n",
    "    \n",
    "    def push(self, data):\n",
    "        self.heap.append(data)\n",
    "        self.__floatUp(len(self.heap) - 1)\n",
    "        \n",
    "    def peek(self):\n",
    "        if self.heap[1]:\n",
    "            return self.heap[1]\n",
    "        else:\n",
    "            return False\n",
    "    \n",
    "    def pop(self):\n",
    "        if len(self.heap) > 2:\n",
    "            self.__swap(1, len(self.heap) - 1)\n",
    "            max = self.heap.pop()\n",
    "            self.__bubbleDown(1)\n",
    "        elif len(self.heap) == 2:\n",
    "            max = self.heap.pop()\n",
    "        else:\n",
    "            max = False\n",
    "        return max\n",
    "    \n",
    "    def __swap(self, i, j):\n",
    "        self.heap[i], self.heap[j] = self.heap[j], self.heap[i]\n",
    "        \n",
    "    def __floatUp(self, index):\n",
    "        parent = index//2\n",
    "        if index <= 1:\n",
    "            return\n",
    "        elif self.heap[index] > self.heap[parent]:\n",
    "            self.__swap(index, parent)\n",
    "            self.__floatUp(parent)\n",
    "            \n",
    "    def __bubbleDown(self, index):\n",
    "        left = index * 2\n",
    "        right = index * 2 + 1\n",
    "        largest = index\n",
    "        if len(self.heap) > left and self.heap[largest] < self.heap[left]:\n",
    "            largest = left\n",
    "        if len(self.heap) > right and self.heap[largest] < self.heap[right]:\n",
    "            largest = right\n",
    "        if largest != index:\n",
    "            self.__swap(index, largest)\n",
    "            self.__bubbleDown(largest)\n",
    "    \n",
    "    def __str__(self):\n",
    "        return str(self.heap)\n",
    "        \n",
    "        \n",
    "\n",
    "m = MaxHeap([95, 3, 21])\n",
    "m.push(10)\n",
    "print(m)\n",
    "print(m.pop())\n",
    "print(m.peek())\n",
    "            "
   ]
  },
  {
   "cell_type": "code",
   "execution_count": 1,
   "id": "60974cd0",
   "metadata": {},
   "outputs": [],
   "source": [
    "# linked lists\n",
    "\n",
    "# node\n",
    "class Node:\n",
    "    def __init__(self, d, n=None, p=None):\n",
    "        self.data = d\n",
    "        self.next_node = n\n",
    "        # self.prev_node = p\n",
    "        \n",
    "    def __str__ (self):\n",
    "        return ('(' + str(self.data) + ')')\n",
    "    \n",
    "# add, find, remove, print_list are the methods\n",
    "class LinkedList:\n",
    "    def __init__(self, r = None):\n",
    "        self.root = r\n",
    "        self.size = 0\n",
    "        \n",
    "    def add(self, d):\n",
    "        new_node = Node(d, self.root)\n",
    "        self.root = new_node\n",
    "        self.size += 1\n",
    "        \n",
    "    def find(self, d):\n",
    "        this_node = self.root\n",
    "        while this_node is not None:\n",
    "            if this_node.data == d:\n",
    "                return d\n",
    "            else:\n",
    "                this_node = this_node.next_node\n",
    "        return None\n",
    "    \n",
    "    def remove(self, d):\n",
    "        this_node = self.root\n",
    "        prev_node = None\n",
    "        \n",
    "        while this_node is not None:\n",
    "            if this_node.data == d:\n",
    "                if prev_node is not None:\n",
    "                    prev_node.next_node = this_node.next_node\n",
    "                else: \n",
    "                    self.root = this_node.next_node\n",
    "                self.size -= 1\n",
    "                return True\n",
    "            else:\n",
    "                prev_node = this_node\n",
    "                this_node = this_node.next_node\n",
    "        return False\n",
    "    \n",
    "    def print_list(self):\n",
    "        this_node = self.root\n",
    "        while this_node is not None: \n",
    "            print(this_node, end='->')\n",
    "            this_node = this_node.next_node\n",
    "        print('None')"
   ]
  },
  {
   "cell_type": "code",
   "execution_count": 6,
   "id": "f618c31a",
   "metadata": {},
   "outputs": [
    {
     "name": "stdout",
     "output_type": "stream",
     "text": [
      "(12)->(8)->(5)->None\n",
      "size=3\n",
      "5\n",
      "(12)\n"
     ]
    }
   ],
   "source": [
    "# linked list test\n",
    "myList = LinkedList()\n",
    "myList.add(5)\n",
    "myList.add(8)\n",
    "myList.add(12)\n",
    "myList.print_list()\n",
    "\n",
    "print(\"size=\"+str(myList.size))\n",
    "print(myList.find(5))\n",
    "print(myList.root)"
   ]
  },
  {
   "cell_type": "code",
   "execution_count": 35,
   "id": "ab70aac5",
   "metadata": {},
   "outputs": [],
   "source": [
    "# Circular linked list\n",
    "    \n",
    "# add, find, remove, print_list are the methods\n",
    "class CircularLinkedList:\n",
    "    def __init__(self, r = None):\n",
    "        self.root = r\n",
    "        self.size = 0\n",
    "        \n",
    "    def add(self, d):\n",
    "        if self.size == 0:\n",
    "            self.root = Node(d)\n",
    "            self.root.next_node = self.root\n",
    "        else:\n",
    "            new_node = Node(d, self.root.next_node)\n",
    "            self.root.next_node = new_node\n",
    "        self.size += 1\n",
    "        \n",
    "    def find(self, d):\n",
    "        this_node = self.root\n",
    "        while True:\n",
    "            if this_node.data == d:\n",
    "                return d\n",
    "            elif this_node.next_node == self.root:\n",
    "                return False\n",
    "            this_node = this_node.next_node\n",
    "    \n",
    "    def remove(self, d):\n",
    "        this_node = self.root\n",
    "        prev_node = None\n",
    "        \n",
    "        while True: \n",
    "            if this_node.data == d: # found\n",
    "                if prev_node is not None:\n",
    "                    prev_node.next_node = this_node.next_node\n",
    "                else: \n",
    "                    while this_node.next_node != self.root:\n",
    "                        this_node = this_node.next_node\n",
    "                    this_node.next_node = self.root.next_node\n",
    "                    self.root =  self.root.next_node\n",
    "                self.size -= 1\n",
    "                return True # data removed\n",
    "            elif this_node.next_node == self.root:\n",
    "                return False # data not found\n",
    "            prev_node = this_node\n",
    "            this_node = this_node.next_node\n",
    "    \n",
    "    def print_list(self):\n",
    "        if self.root is None:\n",
    "             return        \n",
    "        this_node = self.root\n",
    "        print(this_node, end='->')\n",
    "        while this_node.next_node != self.root:             \n",
    "            this_node = this_node.next_node\n",
    "            print(this_node, end='->')\n",
    "        print()"
   ]
  },
  {
   "cell_type": "code",
   "execution_count": 36,
   "id": "d1543091",
   "metadata": {},
   "outputs": [
    {
     "name": "stdout",
     "output_type": "stream",
     "text": [
      "size=5\n",
      "8\n",
      "False\n",
      "(5)->(9)->(8)->(3)->(7)->(5)->(9)->(8)->(3)->\n",
      "(5)->(9)->(8)->(3)->(7)->\n",
      "False\n",
      "size=4\n",
      "(9)->(3)->(7)->\n"
     ]
    }
   ],
   "source": [
    "# test circular linked list\n",
    "cll = CircularLinkedList()\n",
    "for i in [5,7,3,8,9]:\n",
    "    cll.add(i)\n",
    "    \n",
    "print(\"size=\" + str(cll.size))\n",
    "print(cll.find(8))\n",
    "print(cll.find(12))\n",
    "\n",
    "my_node = cll.root\n",
    "print (my_node, end='->')\n",
    "for i in range(8):\n",
    "    my_node = my_node.next_node\n",
    "    print(my_node, end='->')\n",
    "print()\n",
    "cll.print_list()\n",
    "cll.remove(8)\n",
    "print(cll.remove(15))\n",
    "print(\"size=\" + str(cll.size))\n",
    "cll.remove(5)\n",
    "cll.print_list()"
   ]
  },
  {
   "cell_type": "code",
   "execution_count": 37,
   "id": "eb09a37b",
   "metadata": {},
   "outputs": [],
   "source": [
    "# Doubly linked list\n",
    "# iterate in both directions\n",
    "# delete without iterating through the entire list\n",
    "class DoublyLinkedList: \n",
    "    \n",
    "    def __init__ (self, r = None):\n",
    "        self.root = r\n",
    "        self.last = r\n",
    "        self.size = 0\n",
    "        \n",
    "    def add (self, e):\n",
    "        if self.size == 0:\n",
    "            self.root = Node(e)\n",
    "            self.last = self.root\n",
    "        else:\n",
    "            new_node = Node(e, self.root)\n",
    "            self.root.prev_node = new_node\n",
    "            self.root = new_node\n",
    "        self.size += 1\n",
    "    \n",
    "    def find(self, d):\n",
    "        this_node = self.root\n",
    "        while this_node is not None:\n",
    "            if this_node.data == d:\n",
    "                return d\n",
    "            elif this_node.next_node == None:\n",
    "                return False\n",
    "            else: \n",
    "                this_node = this_node.next_node\n",
    "           \n",
    "    def remove(self, d):\n",
    "        this_node = self.root\n",
    "        while this_node is not None:\n",
    "            if this_node.data == d:\n",
    "                if this_node.prev_node is not None:\n",
    "                    if this_node.next_node is not None: # delete a middle node\n",
    "                        this_node.prev_node.next_node = this_node.next_node\n",
    "                        this_node.next_node.prev_node = this_node.prev_node\n",
    "                    else: # delete last node\n",
    "                        this_node.prev_node.next_node = None\n",
    "                        self.last = this_node.prev_node\n",
    "                else: # delete root node\n",
    "                    self.root = this_node.next_node\n",
    "                    this_node.next_node.prev_node = self.root\n",
    "                self.size -= 1\n",
    "                return True # data removed\n",
    "            else:\n",
    "                this_node = this_node.next_node\n",
    "        return False # data not found\n",
    "\n",
    "    def print_list(self):\n",
    "        if self.root is None:\n",
    "             return        \n",
    "        this_node = self.root\n",
    "        print(this_node, end='->')\n",
    "        while this_node.next_node is not None:             \n",
    "            this_node = this_node.next_node\n",
    "            print(this_node, end='->')\n",
    "        print()      \n",
    "           "
   ]
  },
  {
   "cell_type": "code",
   "execution_count": 38,
   "id": "418152b9",
   "metadata": {},
   "outputs": [
    {
     "name": "stdout",
     "output_type": "stream",
     "text": [
      "size = 5\n",
      "(9)->(8)->(3)->(9)->(5)->\n",
      "size = 4\n",
      "False\n",
      "False\n",
      "(22)->(21)->(9)->(3)->(9)->\n",
      "(3)\n"
     ]
    }
   ],
   "source": [
    "# test doubly linked list\n",
    "dll = DoublyLinkedList()\n",
    "for i in [5,9,3,8,9]:\n",
    "    dll.add(i)\n",
    "print(\"size = \" + str(dll.size))\n",
    "dll.print_list()\n",
    "dll.remove(8)\n",
    "print(\"size = \" + str(dll.size))\n",
    "print(dll.remove(15))\n",
    "print(dll.find(15))\n",
    "dll.add(21)\n",
    "dll.add(22)\n",
    "dll.remove(5)\n",
    "dll.print_list()\n",
    "print(dll.last.prev_node)"
   ]
  },
  {
   "cell_type": "code",
   "execution_count": 51,
   "id": "a655eded",
   "metadata": {},
   "outputs": [],
   "source": [
    "# Binary search tree\n",
    "class Tree:\n",
    "    def __init__(self, data, left= None, right = None):\n",
    "        self.data = data\n",
    "        self.left = left\n",
    "        self.right = right\n",
    "        \n",
    "    def insert(self, data):\n",
    "        if self.data == data:\n",
    "            return False\n",
    "        elif self.data  > data:\n",
    "            if self.left is not None: \n",
    "                return self.left.insert(data)\n",
    "            else:\n",
    "                self.left = Tree(data)\n",
    "                return True\n",
    "        else:\n",
    "            if self.right is not None: \n",
    "                return self.right.insert(data)\n",
    "            else:\n",
    "                self.right = Tree(data)\n",
    "                return True\n",
    "    \n",
    "    def find(self, data):\n",
    "        if self.data == data:\n",
    "            return data\n",
    "        elif self.data > data:\n",
    "            if self.left is None:\n",
    "                return False\n",
    "            else:\n",
    "                return self.left.find(data)\n",
    "        elif self.data < data:\n",
    "            if self.right is None: \n",
    "                return False\n",
    "            else:\n",
    "                return self.right.find(data)\n",
    "    \n",
    "    def get_size(self):\n",
    "        if self.left is not None and self.right is not None:\n",
    "            return 1 + self.left.get_size() + self.right.get_size()\n",
    "        elif self.left:\n",
    "            return 1 + self.left.get_size()\n",
    "        elif self.right:\n",
    "            return 1 + self.right.get_size()\n",
    "        else:\n",
    "            return 1\n",
    "    \n",
    "    def preorder(self):\n",
    "        if self is not None:\n",
    "            print(self.data, end=' ')\n",
    "            if self.left is not None:\n",
    "                self.left.preorder()\n",
    "            if self.right is not None:\n",
    "                self.right.preorder()\n",
    "                \n",
    "    def inorder(self):\n",
    "        if self is not None:\n",
    "            if self.left is not None:\n",
    "                self.left.inorder()\n",
    "            print(self.data, end=' ')\n",
    "            if self.right is not None:\n",
    "                self.right.inorder()\n",
    "                                \n",
    "        "
   ]
  },
  {
   "cell_type": "code",
   "execution_count": 52,
   "id": "f35f7cf1",
   "metadata": {},
   "outputs": [
    {
     "name": "stdout",
     "output_type": "stream",
     "text": [
      "False 1 2 3 4 False 6 7 False 9 10 11 12 13 14 15 \n",
      "13\n",
      "7 2 1 3 6 4 9 15 10 12 11 13 14 \n",
      "1 2 3 4 6 7 9 10 11 12 13 14 15 \n"
     ]
    }
   ],
   "source": [
    "tree = Tree(7)\n",
    "tree.insert(9)\n",
    "for i in [15, 10, 2, 12, 3, 1, 13, 6, 11, 4, 14, 9]:\n",
    "    tree.insert(i)\n",
    "for i in range(16):\n",
    "    print(tree.find(i), end = ' ')\n",
    "print()\n",
    "print(tree.get_size())\n",
    "\n",
    "tree.preorder()\n",
    "print()\n",
    "tree.inorder()\n",
    "print()"
   ]
  },
  {
   "cell_type": "code",
   "execution_count": 66,
   "id": "df951d55",
   "metadata": {},
   "outputs": [],
   "source": [
    "# Graphs\n",
    "\n",
    "# adjacency list graph\n",
    "\n",
    "# Vertex class\n",
    "class Vertex:\n",
    "    def __init__(self, n):\n",
    "        self.name = n\n",
    "        self.neighbors = set() # no duplicates\n",
    "        \n",
    "    def add_neighbor(self, v):\n",
    "        self.neighbors.add(v)"
   ]
  },
  {
   "cell_type": "code",
   "execution_count": 67,
   "id": "8ba87944",
   "metadata": {},
   "outputs": [],
   "source": [
    "\n",
    "class Graph:\n",
    "    vertices = {}\n",
    "    \n",
    "    def add_vertex(self, vertex):\n",
    "        if isinstance(vertex, Vertex) and vertex.name not in self.vertices:\n",
    "            self.vertices[vertex.name] = vertex\n",
    "            return True\n",
    "        else: \n",
    "            return False\n",
    "        \n",
    "    def add_edge(self, u, v):\n",
    "        if u in self.vertices and v in self.vertices: \n",
    "            self.vertices[u].add_neighbor(v)\n",
    "            self.vertices[v].add_neighbor(u)\n",
    "            return True\n",
    "        else:\n",
    "            return False\n",
    "        \n",
    "    def print_graph(self):\n",
    "        for key in sorted(list(self.vertices.keys())):\n",
    "            print(key, sorted(list(self.vertices[key].neighbors)))"
   ]
  },
  {
   "cell_type": "code",
   "execution_count": 68,
   "id": "97f751d2",
   "metadata": {},
   "outputs": [],
   "source": [
    "g = Graph()\n",
    "a = Vertex('A')\n",
    "b = Vertex('B')\n",
    "g.add_vertex(a)\n",
    "g.add_vertex(b)\n",
    "for i in range(ord('A'), ord('K')):\n",
    "    g.add_vertex(Vertex(chr(i)))"
   ]
  },
  {
   "cell_type": "code",
   "execution_count": 69,
   "id": "ef292e00",
   "metadata": {},
   "outputs": [
    {
     "name": "stdout",
     "output_type": "stream",
     "text": [
      "A ['B', 'E']\n",
      "B ['A', 'F']\n",
      "C ['G']\n",
      "D ['E', 'H']\n",
      "E ['A', 'D', 'H']\n",
      "F ['B', 'G', 'I', 'J']\n",
      "G ['C', 'F', 'J']\n",
      "H ['D', 'E']\n",
      "I ['F']\n",
      "J ['F', 'G']\n"
     ]
    }
   ],
   "source": [
    "edges = ['AB', 'AE', 'BF', 'CG', 'DE', 'DH', 'EH', 'FG', 'FI', 'FJ', 'GJ']\n",
    "for edge in edges:\n",
    "    g.add_edge(edge[0], edge[1])\n",
    "    \n",
    "g.print_graph()"
   ]
  },
  {
   "cell_type": "code",
   "execution_count": 70,
   "id": "759ec8dd",
   "metadata": {},
   "outputs": [],
   "source": [
    "# Graphs\n",
    "\n",
    "# adjacency matrix graph\n",
    "\n",
    "# Vertex class\n",
    "class Vertex:\n",
    "    def __init__(self, n):\n",
    "        self.name = n\n"
   ]
  },
  {
   "cell_type": "code",
   "execution_count": 77,
   "id": "61f93466",
   "metadata": {},
   "outputs": [],
   "source": [
    "# Graph class with adjacency matrix\n",
    "class Graph: \n",
    "    vertices = {}\n",
    "    edges = []\n",
    "    edge_indices = {}\n",
    "    \n",
    "    def add_vertex(self, vertex):\n",
    "        if isinstance(vertex, Vertex) and vertex.name not in self.vertices:\n",
    "            self.vertices[vertex.name] = vertex\n",
    "            # for loop appends a column of zeros to the edges matrix\n",
    "            for row in self.edges:\n",
    "                row.append(0)\n",
    "            # append a row of zeros to the bottom of the edges matrix\n",
    "            self.edges.append([0] * (len(self.edges) + 1))\n",
    "            self.edge_indices[vertex.name] = len(self.edge_indices)\n",
    "            return True\n",
    "        else:\n",
    "            return False\n",
    "        \n",
    "    def add_edge(self, u, v, weight=1):\n",
    "        if u in self.vertices and v in self.vertices:\n",
    "            self.edges[self.edge_indices[u]][self.edge_indices[v]] = weight\n",
    "            self.edges[self.edge_indices[u]][self.edge_indices[v]] = weight\n",
    "            return True\n",
    "        else:\n",
    "            return False\n",
    "        \n",
    "    def print_graph(self):\n",
    "        for v, i in sorted(self.edge_indices.items()):\n",
    "            print(v + ' ', end = '')\n",
    "            for j in range(len(self.edges)):\n",
    "                print(self.edges[i][j], end=' ')\n",
    "            print(' ')"
   ]
  },
  {
   "cell_type": "code",
   "execution_count": 78,
   "id": "709eeb8e",
   "metadata": {},
   "outputs": [],
   "source": [
    "# test Graph class with adjacency matrix\n",
    "g = Graph()\n",
    "a = Vertex('A')\n",
    "b = Vertex('B')\n",
    "g.add_vertex(a)\n",
    "g.add_vertex(b)\n",
    "for i in range(ord('A'), ord('K')):\n",
    "    g.add_vertex(Vertex(chr(i)))"
   ]
  },
  {
   "cell_type": "code",
   "execution_count": 79,
   "id": "7d0f37fa",
   "metadata": {},
   "outputs": [
    {
     "name": "stdout",
     "output_type": "stream",
     "text": [
      "A 0 1 0 0 1 0 0 0 0 0  \n",
      "B 0 0 0 0 0 1 0 0 0 0  \n",
      "C 0 0 0 0 0 0 1 0 0 0  \n",
      "D 0 0 0 0 1 0 0 1 0 0  \n",
      "E 0 0 0 0 0 0 0 1 0 0  \n",
      "F 0 0 0 0 0 0 1 0 1 1  \n",
      "G 0 0 0 0 0 0 0 0 0 1  \n",
      "H 0 0 0 0 0 0 0 0 0 0  \n",
      "I 0 0 0 0 0 0 0 0 0 0  \n",
      "J 0 0 0 0 0 0 0 0 0 0  \n"
     ]
    }
   ],
   "source": [
    "edges = ['AB', 'AE', 'BF', 'CG', 'DE', 'DH', 'EH', 'FG', 'FI', 'FJ', 'GJ']\n",
    "for edge in edges:\n",
    "    g.add_edge(edge[0], edge[1])\n",
    "    \n",
    "g.print_graph()"
   ]
  }
 ],
 "metadata": {
  "kernelspec": {
   "display_name": "Python 3 (ipykernel)",
   "language": "python",
   "name": "python3"
  },
  "language_info": {
   "codemirror_mode": {
    "name": "ipython",
    "version": 3
   },
   "file_extension": ".py",
   "mimetype": "text/x-python",
   "name": "python",
   "nbconvert_exporter": "python",
   "pygments_lexer": "ipython3",
   "version": "3.7.11"
  }
 },
 "nbformat": 4,
 "nbformat_minor": 5
}
