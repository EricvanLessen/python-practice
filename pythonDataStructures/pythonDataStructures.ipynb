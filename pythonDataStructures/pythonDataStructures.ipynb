{
 "cells": [
  {
   "cell_type": "code",
   "execution_count": 19,
   "id": "ad8fbb96",
   "metadata": {},
   "outputs": [
    {
     "name": "stdout",
     "output_type": "stream",
     "text": [
      "g\n",
      "cow\n",
      "omp\n",
      "opt\n",
      "puter\n",
      "compu\n",
      "r\n",
      "ter\n",
      "comput\n",
      "\n",
      " horseshoe ['pig', 'cow', 'monkey'] ('House', 'Bridge', 'Street')\n",
      "\n",
      " bugbugbug [1, 2, 1, 2, 1, 2] (1, 2, 1, 2, 1, 2)\n",
      "\n",
      " True\n",
      "\n",
      " True\n",
      "\n",
      " False \n",
      "\n",
      "4\n",
      "3\n",
      "2\n",
      "1\n",
      "0 4\n",
      "1 3\n",
      "2 2\n",
      "3 1\n",
      "\n",
      " 4\n",
      "\n",
      " 5\n",
      "1\n"
     ]
    }
   ],
   "source": [
    "# operations for sequence types (string, list, tuple)\n",
    "\n",
    "# indexing\n",
    "# string\n",
    "x = 'frog'\n",
    "print(x[3])\n",
    "\n",
    "# list\n",
    "x = ['pig', 'cow', 'horse']\n",
    "print(x[1])\n",
    "\n",
    "# slicing\n",
    "x = 'computer'\n",
    "print(x[1:4])  # omp\n",
    "print(x[1:6:2]) # opt\n",
    "print(x[3:]) # puter\n",
    "print(x[:5]) # compu\n",
    "print(x[-1]) # r\n",
    "print(x[-3:]) # ter\n",
    "print(x[:-2]) # comput\n",
    "\n",
    "# adding/ concatenating\n",
    "x = 'horse' + 'shoe'\n",
    "\n",
    "# list\n",
    "y = ['pig', 'cow'] + ['monkey']\n",
    "\n",
    "# tuple \n",
    "z = ('House', 'Bridge') + ('Street',)\n",
    "\n",
    "print('\\n',x, y, z)\n",
    "\n",
    "# multiplying\n",
    "x = 'bug' * 3\n",
    "y = [1,2] * 3\n",
    "z = (1,2) * 3\n",
    "print('\\n',x, y, z)\n",
    "\n",
    "# membership\n",
    "print('\\n','u' in x)\n",
    "print('\\n',not 'pig' in y)\n",
    "print('\\n','Tower' in z,'\\n')\n",
    "\n",
    "# iterating\n",
    "x = [4,3,2,1]\n",
    "for i in x:\n",
    "    print(i)\n",
    "    \n",
    "for i,v in enumerate(x):\n",
    "    print(i,v)\n",
    "    \n",
    "# length x\n",
    "print('\\n',len(x))\n",
    "# count\n",
    "x = 'huhuuhuhu'\n",
    "print('\\n',x.count('u'))\n",
    "print(x.index('u'))"
   ]
  },
  {
   "cell_type": "code",
   "execution_count": 21,
   "id": "a3bf9581",
   "metadata": {},
   "outputs": [
    {
     "name": "stdout",
     "output_type": "stream",
     "text": [
      "under_10: [0, 1, 2, 3, 4, 5, 6, 7, 8, 9]\n"
     ]
    }
   ],
   "source": [
    "# list comprehensions\n",
    "# basic format: new_list = [transform sequence [filter] ]\n",
    "import random\n",
    "\n",
    "under_10 = [x for x in range(10)]\n",
    "print('under_10: ' + str(under_10))\n"
   ]
  },
  {
   "cell_type": "code",
   "execution_count": 22,
   "id": "ecbf0cb3",
   "metadata": {},
   "outputs": [
    {
     "name": "stdout",
     "output_type": "stream",
     "text": [
      "squares: [0, 1, 4, 9, 16, 25, 36, 49, 64, 81]\n"
     ]
    }
   ],
   "source": [
    "squares = [x**2 for x in under_10]\n",
    "print('squares: ' + str(squares))\n"
   ]
  },
  {
   "cell_type": "code",
   "execution_count": 23,
   "id": "de5d2982",
   "metadata": {},
   "outputs": [
    {
     "name": "stdout",
     "output_type": "stream",
     "text": [
      "odds: [1, 3, 5, 7, 9]\n"
     ]
    }
   ],
   "source": [
    "odds =  [x for x in range(10) if x%2 == 1]\n",
    "print('odds: ' + str(odds))"
   ]
  },
  {
   "cell_type": "code",
   "execution_count": 24,
   "id": "131a8f4d",
   "metadata": {},
   "outputs": [
    {
     "name": "stdout",
     "output_type": "stream",
     "text": [
      "ten_x: [0, 10, 20, 30, 40, 50, 60, 70, 80, 90]\n"
     ]
    }
   ],
   "source": [
    "ten_x = [x * 10 for x in range(10)]\n",
    "print('ten_x: ' + str(ten_x))"
   ]
  },
  {
   "cell_type": "code",
   "execution_count": 25,
   "id": "b7ba27c6",
   "metadata": {},
   "outputs": [
    {
     "name": "stdout",
     "output_type": "stream",
     "text": [
      "nums: 2073\n"
     ]
    }
   ],
   "source": [
    "# get all numbers from a string\n",
    "s = 'I love 2 go t0 the store 7 times a w3ek.'\n",
    "nums = [x for x in s if x.isnumeric()]\n",
    "print('nums: ' + ''.join(nums))\n"
   ]
  },
  {
   "cell_type": "code",
   "execution_count": 26,
   "id": "897a1006",
   "metadata": {},
   "outputs": [
    {
     "name": "stdout",
     "output_type": "stream",
     "text": [
      "index = 2\n"
     ]
    }
   ],
   "source": [
    "# get index of a list item\n",
    "names = ['Cosmo', 'Pedro', 'Anu', 'Ray']\n",
    "idx = [k for k,v in enumerate(names) if v == 'Anu']\n",
    "print('index = ' + str(idx[0]))"
   ]
  },
  {
   "cell_type": "code",
   "execution_count": 27,
   "id": "af5e3736",
   "metadata": {},
   "outputs": [
    {
     "name": "stdout",
     "output_type": "stream",
     "text": [
      "['A', 'D', 'F', 'C', 'B', 'E'] ['A', 'D', 'F', 'B', 'E']\n"
     ]
    }
   ],
   "source": [
    "# delete an item from a list\n",
    "letters = [x for x in 'ABCDEF']\n",
    "random.shuffle(letters)\n",
    "letrs = [a for a in letters if a != 'C']\n",
    "print(letters, letrs)"
   ]
  },
  {
   "cell_type": "code",
   "execution_count": 28,
   "id": "86846b68",
   "metadata": {},
   "outputs": [
    {
     "name": "stdout",
     "output_type": "stream",
     "text": [
      "new list: [50, 30, 10, 18, 6, 70]\n"
     ]
    }
   ],
   "source": [
    "# if-else condition in a comprehension (must come before iteration)\n",
    "nums = [5, 3, 10, 18, 6, 7]\n",
    "new_list = [x if x%2 == 0 else 10*x for x in nums]\n",
    "print('new list: ' + str(new_list))"
   ]
  },
  {
   "cell_type": "code",
   "execution_count": 29,
   "id": "ec7ac103",
   "metadata": {},
   "outputs": [
    {
     "name": "stdout",
     "output_type": "stream",
     "text": [
      "[1, 2, 3, 4]\n"
     ]
    }
   ],
   "source": [
    "# nested loop iteration for 2D list\n",
    "a = [[1,2],[3,4]]\n",
    "new_list = [x for b in a for x in b]\n",
    "print(new_list)"
   ]
  },
  {
   "cell_type": "code",
   "execution_count": 32,
   "id": "c866a66d",
   "metadata": {},
   "outputs": [
    {
     "name": "stdout",
     "output_type": "stream",
     "text": [
      "[5, 10, 15, 20]\n"
     ]
    }
   ],
   "source": [
    "my_list = [x for x in range(5,21,5)]\n",
    "\n",
    "print(my_list)"
   ]
  },
  {
   "cell_type": "code",
   "execution_count": 37,
   "id": "9223efb7",
   "metadata": {},
   "outputs": [
    {
     "name": "stdout",
     "output_type": "stream",
     "text": [
      "[8, 9, 10, 9, 10]\n"
     ]
    }
   ],
   "source": [
    "m = list()\n",
    "m.append(8)\n",
    "m.append(9)\n",
    "m.append(10)\n",
    "m.append(9)\n",
    "m.append(10)\n",
    "print(m)"
   ]
  },
  {
   "cell_type": "code",
   "execution_count": 38,
   "id": "ae0133f9",
   "metadata": {},
   "outputs": [
    {
     "name": "stdout",
     "output_type": "stream",
     "text": [
      "10\n",
      "9\n",
      "[8, 9, 10]\n"
     ]
    }
   ],
   "source": [
    "print(m.pop())\n",
    "print(m.pop())\n",
    "print(m)"
   ]
  },
  {
   "cell_type": "code",
   "execution_count": 43,
   "id": "42112a62",
   "metadata": {},
   "outputs": [],
   "source": [
    "# stack wrapper\n",
    "class Stack():\n",
    "    def __init__(self):\n",
    "        self.stack = list()\n",
    "    def push(self, item):\n",
    "        self.stack.append(item)\n",
    "    def pop(self):\n",
    "        if len(self.stack) > 0:\n",
    "            return self.stack.pop()\n",
    "        else:\n",
    "            return None\n",
    "    def peek(self):\n",
    "        if len(self.stack) > 0:\n",
    "            return self.stack[len(self.stack)-1]\n",
    "        else:\n",
    "            return None\n",
    "    def __str__(self):\n",
    "        return str(self.stack)"
   ]
  },
  {
   "cell_type": "code",
   "execution_count": 45,
   "id": "b99a229d",
   "metadata": {},
   "outputs": [
    {
     "name": "stdout",
     "output_type": "stream",
     "text": [
      "4\n",
      "[1, 3]\n"
     ]
    }
   ],
   "source": [
    "# test the stack wrapper\n",
    "my_stack = Stack()\n",
    "my_stack.push(1)\n",
    "my_stack.push(3)\n",
    "my_stack.push(4)\n",
    "p = my_stack.peek()\n",
    "print(p)\n",
    "my_stack.pop()\n",
    "print(my_stack)"
   ]
  },
  {
   "cell_type": "code",
   "execution_count": 49,
   "id": "5a414009",
   "metadata": {},
   "outputs": [
    {
     "name": "stdout",
     "output_type": "stream",
     "text": [
      "deque([5, 10])\n",
      "<class 'collections.deque'>\n",
      "5\n"
     ]
    }
   ],
   "source": [
    "# queue\n",
    "from collections import deque\n",
    "my_queue = deque()\n",
    "my_queue.append(5)\n",
    "my_queue.append(10)\n",
    "print(my_queue)\n",
    "print(type(my_queue))\n",
    "print(my_queue.popleft())"
   ]
  },
  {
   "cell_type": "code",
   "execution_count": 64,
   "id": "dc29ef0c",
   "metadata": {},
   "outputs": [],
   "source": [
    "from collections import deque\n",
    "# Queue wrapper class\n",
    "class Queue():\n",
    "    \n",
    "    def __init__(self):\n",
    "        self.queue = deque()\n",
    "        self.size = 0\n",
    "    def enqueue(self, item):\n",
    "        self.queue.append(item)\n",
    "    def dequeue(self):\n",
    "        if len(self.queue) > 0:\n",
    "            return self.queue.popleft()\n",
    "        else:\n",
    "            return None\n",
    "    def get_size(self):\n",
    "        return len(self.queue)\n",
    "    def __str__(self):\n",
    "        return str(self.queue)"
   ]
  },
  {
   "cell_type": "code",
   "execution_count": 65,
   "id": "517667af",
   "metadata": {},
   "outputs": [
    {
     "name": "stdout",
     "output_type": "stream",
     "text": [
      "deque([4, 5])\n"
     ]
    }
   ],
   "source": [
    "my_queue = Queue()\n",
    "my_queue.enqueue(3)\n",
    "my_queue.enqueue(4)\n",
    "my_queue.enqueue(5)\n",
    "my_queue.dequeue()\n",
    "print(my_queue)\n"
   ]
  },
  {
   "cell_type": "code",
   "execution_count": 72,
   "id": "d24fd549",
   "metadata": {},
   "outputs": [
    {
     "name": "stdout",
     "output_type": "stream",
     "text": [
      "[0, 95, 10, 21, 3]\n",
      "95\n",
      "21\n"
     ]
    }
   ],
   "source": [
    "# lets code a MaxHeap\n",
    "class MaxHeap:\n",
    "    def __init__(self, items=[]):\n",
    "        super().__init__()\n",
    "        self.heap = [0]\n",
    "        for item in items:\n",
    "            self.heap.append(item)\n",
    "            self.__floatUp(len(self.heap) - 1)\n",
    "    \n",
    "    def push(self, data):\n",
    "        self.heap.append(data)\n",
    "        self.__floatUp(len(self.heap) - 1)\n",
    "        \n",
    "    def peek(self):\n",
    "        if self.heap[1]:\n",
    "            return self.heap[1]\n",
    "        else:\n",
    "            return False\n",
    "    \n",
    "    def pop(self):\n",
    "        if len(self.heap) > 2:\n",
    "            self.__swap(1, len(self.heap) - 1)\n",
    "            max = self.heap.pop()\n",
    "            self.__bubbleDown(1)\n",
    "        elif len(self.heap) == 2:\n",
    "            max = self.heap.pop()\n",
    "        else:\n",
    "            max = False\n",
    "        return max\n",
    "    \n",
    "    def __swap(self, i, j):\n",
    "        self.heap[i], self.heap[j] = self.heap[j], self.heap[i]\n",
    "        \n",
    "    def __floatUp(self, index):\n",
    "        parent = index//2\n",
    "        if index <= 1:\n",
    "            return\n",
    "        elif self.heap[index] > self.heap[parent]:\n",
    "            self.__swap(index, parent)\n",
    "            self.__floatUp(parent)\n",
    "            \n",
    "    def __bubbleDown(self, index):\n",
    "        left = index * 2\n",
    "        right = index * 2 + 1\n",
    "        largest = index\n",
    "        if len(self.heap) > left and self.heap[largest] < self.heap[left]:\n",
    "            largest = left\n",
    "        if len(self.heap) > right and self.heap[largest] < self.heap[right]:\n",
    "            largest = right\n",
    "        if largest != index:\n",
    "            self.__swap(index, largest)\n",
    "            self.__bubbleDown(largest)\n",
    "    \n",
    "    def __str__(self):\n",
    "        return str(self.heap)\n",
    "        \n",
    "        \n",
    "\n",
    "m = MaxHeap([95, 3, 21])\n",
    "m.push(10)\n",
    "print(m)\n",
    "print(m.pop())\n",
    "print(m.peek())\n",
    "            "
   ]
  },
  {
   "cell_type": "code",
   "execution_count": null,
   "id": "60974cd0",
   "metadata": {},
   "outputs": [],
   "source": []
  }
 ],
 "metadata": {
  "kernelspec": {
   "display_name": "Python 3 (ipykernel)",
   "language": "python",
   "name": "python3"
  },
  "language_info": {
   "codemirror_mode": {
    "name": "ipython",
    "version": 3
   },
   "file_extension": ".py",
   "mimetype": "text/x-python",
   "name": "python",
   "nbconvert_exporter": "python",
   "pygments_lexer": "ipython3",
   "version": "3.7.11"
  }
 },
 "nbformat": 4,
 "nbformat_minor": 5
}
