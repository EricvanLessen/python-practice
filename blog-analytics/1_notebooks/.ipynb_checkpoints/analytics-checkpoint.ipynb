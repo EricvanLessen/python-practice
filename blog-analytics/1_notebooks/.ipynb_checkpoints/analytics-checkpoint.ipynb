{
  "nbformat": 4,
  "nbformat_minor": 0,
  "metadata": {
    "kernelspec": {
      "display_name": "Python 3",
      "language": "python",
      "name": "python3"
    },
    "language_info": {
      "codemirror_mode": {
        "name": "ipython",
        "version": 3
      },
      "file_extension": ".py",
      "mimetype": "text/x-python",
      "name": "python",
      "nbconvert_exporter": "python",
      "pygments_lexer": "ipython3",
      "version": "3.6.3"
    },
    "colab": {
      "name": "analytics-checkpoint.ipynb",
      "provenance": []
    }
  },
  "cells": [
    {
      "cell_type": "markdown",
      "metadata": {
        "id": "WZhmKOyQhr7O"
      },
      "source": [
        "# Blog Analytics Notebook"
      ]
    },
    {
      "cell_type": "code",
      "metadata": {
        "id": "sKk3agqMhr7V"
      },
      "source": [
        "import json\n",
        "from collections import Counter"
      ],
      "execution_count": null,
      "outputs": []
    },
    {
      "cell_type": "code",
      "metadata": {
        "id": "SYDTs2uZhr7w"
      },
      "source": [
        "with open('data/articles.json', 'r') as f:\n",
        "    articles_store = json.loads(f.read())"
      ],
      "execution_count": null,
      "outputs": []
    },
    {
      "cell_type": "code",
      "metadata": {
        "id": "WTcd98jqhr8A"
      },
      "source": [
        "times = []\n",
        "months = []\n",
        "weekdays = []\n",
        "authors = []\n",
        "categories = []\n",
        "\n",
        "for article in articles_store:\n",
        "    \n",
        "    # Average Reading Time\n",
        "    times.append(article['reading_time'])\n",
        "    average_time = sum(times) / float(len(times))\n",
        "    average_time = round(average_time, 2)\n",
        "    \n",
        "    # Posts by Month\n",
        "    months.append(article['month'])\n",
        "    month_count = Counter(months)\n",
        "    \n",
        "    # Posts by Weekday\n",
        "    weekdays.append(article['weekday'])\n",
        "    weekday_count = Counter(weekdays)\n",
        "    \n",
        "    # Count by Category\n",
        "    categories += article['categories']\n",
        "    category_count = Counter(categories)\n",
        "    \n",
        "    # Count by Author\n",
        "    authors.append(article['author'])\n",
        "    author_count = Counter(authors)"
      ],
      "execution_count": null,
      "outputs": []
    },
    {
      "cell_type": "code",
      "metadata": {
        "id": "8uPDN3Wnhr8O"
      },
      "source": [
        "print(\"Average reading time:\", average_time)\n",
        "print(\"Posts by month\", month_count)\n",
        "print(\"Posts by weekday\", weekday_count)\n",
        "print(\"Posts by category\", category_count)\n",
        "print(\"Posts by author\", author_count)"
      ],
      "execution_count": null,
      "outputs": []
    },
    {
      "cell_type": "code",
      "metadata": {
        "id": "ZvEXXryFhr8Z"
      },
      "source": [
        "stats = { \n",
        "    'reading_time': average_time, \n",
        "    'num_articles': len(articles_store) \n",
        "}\n",
        "\n",
        "with open('data/stats.json', 'w') as f:\n",
        "    json.dump(stats, f)\n",
        "\n",
        "with open('data/weekday.json', 'w') as f:\n",
        "    json.dump(weekday_count, f)\n",
        "    \n",
        "with open('data/month.json', 'w') as f:\n",
        "    json.dump(month_count, f)\n",
        "    \n",
        "with open('data/category.json', 'w') as f:\n",
        "    json.dump(category_count, f)\n",
        "\n",
        "with open('data/author.json', 'w') as f:\n",
        "    json.dump(author_count, f)"
      ],
      "execution_count": null,
      "outputs": []
    }
  ]
}