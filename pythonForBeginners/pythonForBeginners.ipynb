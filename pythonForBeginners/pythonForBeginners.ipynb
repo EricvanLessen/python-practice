{
 "cells": [
  {
   "cell_type": "code",
   "execution_count": 1,
   "id": "eeef42c8",
   "metadata": {},
   "outputs": [
    {
     "name": "stdout",
     "output_type": "stream",
     "text": [
      "Python is easy\n"
     ]
    }
   ],
   "source": [
    "print(\"Python is easy\")"
   ]
  },
  {
   "cell_type": "code",
   "execution_count": null,
   "id": "f6f62834",
   "metadata": {},
   "outputs": [],
   "source": [
    "# comments\n",
    "# this is one"
   ]
  },
  {
   "cell_type": "code",
   "execution_count": 14,
   "id": "5eb1563e",
   "metadata": {},
   "outputs": [
    {
     "name": "stdout",
     "output_type": "stream",
     "text": [
      "<class 'int'>\n",
      "<class 'float'>\n",
      "<class 'str'>\n",
      "<class 'complex'>\n",
      "<class 'int'>\n",
      "<class 'int'>\n",
      "<class 'int'>\n",
      "<class 'bool'>\n",
      "10\n",
      "255\n",
      "27\n",
      "int cast 10\n",
      "bin cast 0b1010\n",
      "hex cast 0xa\n",
      "oct cast 0o12\n"
     ]
    }
   ],
   "source": [
    "# data types\n",
    "\n",
    "# five types are\n",
    "# None object that contains no value\n",
    "# Numeric int, float, complex\n",
    "# Sequences str, bytes, bytearray, list, tuple, range\n",
    "# Mapping for MapReduce\n",
    "\n",
    "a = 10\n",
    "f = 10.23\n",
    "s = \"You are the creator of your destiny\"\n",
    "d = 3+4j\n",
    "e = 0B1010 # binary becomes int\n",
    "g = 0XFF # hexadecimal becomes int\n",
    "h = 0O33 # octadecimal\n",
    "i = False\n",
    "\n",
    "print(type(a))\n",
    "print(type(f))\n",
    "print(type(s))\n",
    "print(type(d))\n",
    "print(type(e))\n",
    "print(type(g))\n",
    "print(type(h))\n",
    "print(type(i))\n",
    "\n",
    "print(e)\n",
    "print(g)\n",
    "print(h)\n",
    "\n",
    "# casting, convert types\n",
    "print(\"int cast {}\".format(int(f)))\n",
    "print(\"bin cast {}\".format(bin(10)))\n",
    "print(\"hex cast {}\".format(hex(10)))\n",
    "print(\"oct cast {}\".format(oct(10)))\n"
   ]
  },
  {
   "cell_type": "code",
   "execution_count": 18,
   "id": "51edfa8b",
   "metadata": {},
   "outputs": [],
   "source": [
    "# identifiers\n",
    "# case sensitive\n",
    "id = 2\n",
    "Id = 3\n",
    "_id = 4\n",
    "# two underscores indicate a special function\n",
    "# __init__ "
   ]
  },
  {
   "cell_type": "code",
   "execution_count": 19,
   "id": "35fc951b",
   "metadata": {},
   "outputs": [
    {
     "name": "stdout",
     "output_type": "stream",
     "text": [
      "Adam\n",
      "Smith\n",
      "90\n",
      "ajhd-adsf-sfdf-deee\n",
      "6.2\n",
      "192\n"
     ]
    }
   ],
   "source": [
    "# drivers license\n",
    "firstName = \"Adam\"\n",
    "lastName = \"Smith\"\n",
    "age = \"90\"\n",
    "ssn = \"ajhd-adsf-sfdf-deee\"\n",
    "height = \"6.2\"\n",
    "weight = \"192\"\n",
    "\n",
    "print(firstName)\n",
    "print(lastName)\n",
    "print(age)\n",
    "print(ssn)\n",
    "print(height)\n",
    "print(weight)"
   ]
  },
  {
   "cell_type": "code",
   "execution_count": 21,
   "id": "cc5321d3",
   "metadata": {},
   "outputs": [
    {
     "name": "stdout",
     "output_type": "stream",
     "text": [
      "You are the creator of your destiny. \n",
      "You are the creator of your destiny. You are the creator of your destiny. You are the creator of your destiny. \n",
      "u\n",
      "37\n",
      "You\n",
      "You are the creator of your destiny. \n",
      "ny.\n",
      "ny. \n",
      "Yuae\n",
      " your destiny. \n",
      " fo rotaerc eht era uoY\n",
      "creator of your destiny\n",
      "creator of your destiny      \n",
      "    creator of your destiny\n",
      "4\n",
      "-1\n",
      "2\n"
     ]
    }
   ],
   "source": [
    "# strings\n",
    "s1 = \"You are the creator of your destiny. \"\n",
    "\n",
    "# print\n",
    "print(s1)\n",
    "\n",
    "# multiply\n",
    "print(s1 * 3)\n",
    "\n",
    "# index\n",
    "print(s1[2])\n",
    "print(len(s1))\n",
    "print(s1[0:3])\n",
    "print(s1[0:])\n",
    "print(s1[-4:-1])\n",
    "print(s1[-4:])\n",
    "print(s1[0:8:2])\n",
    "print(s1[-15::1])\n",
    "print(s1[-15::-1])\n",
    "\n",
    "# strip \n",
    "s2 = \"    creator of your destiny      \"\n",
    "print(s2.strip())\n",
    "print(s2.lstrip())\n",
    "print(s2.rstrip())\n",
    "\n",
    "# find string in a string\n",
    "print(s1.find(\"are\", 0, len(s1)))\n",
    "print(s2.find(\"are\", 0, len(s1)))\n",
    "\n",
    "# count\n",
    "print(s2.count(\"t\"))"
   ]
  },
  {
   "cell_type": "code",
   "execution_count": 25,
   "id": "25a93ab1",
   "metadata": {},
   "outputs": [
    {
     "name": "stdout",
     "output_type": "stream",
     "text": [
      "10\n",
      "20.54\n",
      "True\n",
      "I am the best\n"
     ]
    }
   ],
   "source": [
    "# exercise\n",
    "\n",
    "a = int\n",
    "b = float\n",
    "c = bool\n",
    "d = str\n",
    "\n",
    "a = 10\n",
    "b = 20.54\n",
    "c = True\n",
    "d = \"I am the best\"\n",
    "\n",
    "print(a)\n",
    "print(b)\n",
    "print(c)\n",
    "print(d)"
   ]
  },
  {
   "cell_type": "code",
   "execution_count": 36,
   "id": "a853f032",
   "metadata": {},
   "outputs": [
    {
     "name": "stdout",
     "output_type": "stream",
     "text": [
      "[10, 20, 'name', -10, 30.5]\n",
      "-10\n",
      "[-10, 30.5]\n",
      "[10, 20, 'name', -10, 30.5, 10, 20, 'name', -10, 30.5, 10, 20, 'name', -10, 30.5, 10, 20, 'name', -10, 30.5]\n",
      "5\n",
      "[10, 20, 'name', -10, 30.5, 40]\n",
      "[10, 20, -10, 30.5, 40]\n",
      "[10, -10, 30.5, 40]\n",
      "40\n",
      "-10\n",
      "[10, -10, 30.5, 99, 40]\n",
      "[99, 40, 30.5, 10, -10]\n"
     ]
    }
   ],
   "source": [
    "# list\n",
    "lst = [10, 20, \"name\", -10, 30.5]\n",
    "\n",
    "# print\n",
    "print(lst)\n",
    "\n",
    "# index\n",
    "print(lst[3])\n",
    "print(lst[3:5])\n",
    "\n",
    "# multiply\n",
    "print(lst * 4)\n",
    "\n",
    "# length\n",
    "print(len(lst))\n",
    "\n",
    "# append\n",
    "lst.append(40)\n",
    "print(lst)\n",
    "\n",
    "# remove by value\n",
    "lst.remove(\"name\")\n",
    "print(lst)\n",
    "\n",
    "# remove the first list element\n",
    "del(lst[1])\n",
    "print(lst)\n",
    "\n",
    "# max/min\n",
    "print(max(lst))\n",
    "print(min(lst))\n",
    "\n",
    "# insert\n",
    "lst.insert(3, 99)\n",
    "print(lst)\n",
    "\n",
    "lst.sort(reverse = True)\n",
    "print(lst)"
   ]
  },
  {
   "cell_type": "code",
   "execution_count": 40,
   "id": "b8d8f659",
   "metadata": {},
   "outputs": [
    {
     "name": "stdout",
     "output_type": "stream",
     "text": [
      "(20, 30, 40, 50, 'xyz')\n",
      "<class 'tuple'>\n",
      "(20, 30, 40, 50, 'xyz', 20, 30, 40, 50, 'xyz', 20, 30, 40, 50, 'xyz')\n",
      "4\n",
      "(5, 6, 'a')\n"
     ]
    }
   ],
   "source": [
    "# Tuple\n",
    "# can not be modified, immutable\n",
    "# insertion order\n",
    "# duplicates are ok\n",
    "# different types are ok\n",
    "\n",
    "tpl = (20, 30, 40, 50, 'xyz')\n",
    "print(tpl)\n",
    "print(type(tpl))\n",
    "print(tpl * 3)\n",
    "print(tpl.index('xyz'))\n",
    "\n",
    "# cast\n",
    "lst = [5,6, 'a']\n",
    "print(tuple(lst))"
   ]
  },
  {
   "cell_type": "code",
   "execution_count": 46,
   "id": "ef158ff4",
   "metadata": {},
   "outputs": [
    {
     "name": "stdout",
     "output_type": "stream",
     "text": [
      "{'xyz', 10, 20, 30}\n",
      "{99, 10, 20, 88, 'xyz', 30}\n",
      "<class 'set'>\n",
      "{99, 10, 20, 88, 'xyz'}\n"
     ]
    }
   ],
   "source": [
    "# set\n",
    "s = {10, 20, 30, 'xyz', 10, 20, 30}\n",
    "print(s)\n",
    "s.update([88, 99])\n",
    "print(s)\n",
    "print(type(s))\n",
    "\n",
    "# print(s * 3) will throw an error\n",
    "\n",
    "s.remove(30)\n",
    "print(s)\n",
    "\n",
    "f = frozenset(s)\n",
    "# f.update(7) will throw an error\n",
    "# f.remove(10) will throw an error\n"
   ]
  },
  {
   "cell_type": "code",
   "execution_count": 48,
   "id": "79f51b71",
   "metadata": {},
   "outputs": [
    {
     "name": "stdout",
     "output_type": "stream",
     "text": [
      "1\n",
      "4\n",
      "7\n",
      "10\n",
      "13\n"
     ]
    }
   ],
   "source": [
    "# range\n",
    "r = range(1, 15, 3)\n",
    "\n",
    "for i in r:\n",
    "    print(i)"
   ]
  },
  {
   "cell_type": "code",
   "execution_count": 52,
   "id": "96a85c17",
   "metadata": {},
   "outputs": [
    {
     "name": "stdout",
     "output_type": "stream",
     "text": [
      "<class 'bytes'>\n",
      "<class 'bytearray'>\n",
      "bytearray(b'\\x01\\x03\\x14')\n"
     ]
    }
   ],
   "source": [
    "# list\n",
    "lst = [1, 3, 4]\n",
    "b = bytes(lst)\n",
    "print(type(b))\n",
    "# b[1] = 0 will throw an arrow \n",
    "\n",
    "# bytearray assignments work\n",
    "b1 = bytearray(lst)\n",
    "print(type(b1))\n",
    "b1[2] = 20\n",
    "print(b1)"
   ]
  },
  {
   "cell_type": "code",
   "execution_count": 56,
   "id": "b8a6eec6",
   "metadata": {},
   "outputs": [
    {
     "name": "stdout",
     "output_type": "stream",
     "text": [
      "{1: 'john', 2: 'bob', 3: 'bill'}\n",
      "dict_items([(1, 'john'), (2, 'bob'), (3, 'bill')])\n",
      "1\n",
      "2\n",
      "3\n",
      "john\n",
      "bob\n",
      "bill\n",
      "bill\n",
      "{1: 'john', 3: 'bill'}\n"
     ]
    }
   ],
   "source": [
    "# dict\n",
    "dict1 = {1: \"john\", 2: \"bob\", 3: \"bill\"}\n",
    "print(dict1)\n",
    "print(dict1.items())\n",
    "k = dict1.keys()\n",
    "for i in k: print(i)\n",
    "for i in dict1.values(): print(i)\n",
    "print(dict1[3])\n",
    "del dict1[2]\n",
    "print(dict1)"
   ]
  },
  {
   "cell_type": "code",
   "execution_count": 59,
   "id": "3bf88911",
   "metadata": {},
   "outputs": [
    {
     "name": "stdout",
     "output_type": "stream",
     "text": [
      "94819118089760\n",
      "94819118089760\n",
      "True\n",
      "94819118089760\n",
      "94819118089440\n",
      "False\n",
      "139738708230768\n",
      "139738708230768\n",
      "True\n"
     ]
    }
   ],
   "source": [
    "a = 20\n",
    "b = 20\n",
    "print(id(a))\n",
    "print(id(b))\n",
    "print(a is b)\n",
    "\n",
    "a = 20\n",
    "b = 10\n",
    "print(id(a))\n",
    "print(id(b))\n",
    "print(a is b)\n",
    "\n",
    "a = \"Hi\"\n",
    "b = \"Hi\"\n",
    "print(id(a))\n",
    "print(id(b))\n",
    "print(a is b)"
   ]
  },
  {
   "cell_type": "code",
   "execution_count": 63,
   "id": "7afdcacd",
   "metadata": {},
   "outputs": [],
   "source": [
    "# exercise\n",
    "countries = [\"South-Africa\", \"Marocco\", \"Spain\"]\n",
    "countries.append(\"Brazil\")\n",
    "del countries[2]\n",
    "countries.insert(2, \"Norway\")\n",
    "\n",
    "countries1 = {\"Hungary\", \"India\", \"Japan\"}\n",
    "countries1.remove(\"Hungary\")\n",
    "countries2 = {\"Switzerland\"}\n",
    "countries1.update(countries2)\n"
   ]
  },
  {
   "cell_type": "code",
   "execution_count": 4,
   "id": "f155fd05",
   "metadata": {},
   "outputs": [
    {
     "name": "stdout",
     "output_type": "stream",
     "text": [
      "None\n",
      "None\n"
     ]
    }
   ],
   "source": [
    "# None type\n",
    "def m1():\n",
    "    a = 10\n",
    "\n",
    "print(m1())\n",
    "a = None\n",
    "\n",
    "print(a)"
   ]
  },
  {
   "cell_type": "code",
   "execution_count": 6,
   "id": "c17b8fd7",
   "metadata": {},
   "outputs": [],
   "source": [
    "# Constant\n",
    "# Capitalized, can be changed but is a convention not to change this \n",
    "PI = 3.14 "
   ]
  },
  {
   "cell_type": "code",
   "execution_count": 11,
   "id": "08018a4c",
   "metadata": {},
   "outputs": [],
   "source": [
    "# del\n",
    "a = 10\n",
    "del a\n",
    "# print(a) not defined\n",
    "\n",
    "s = 'abcd'\n",
    "# del s[0] # no item deletion in a immutable type or oject, will throw an error\n"
   ]
  },
  {
   "cell_type": "code",
   "execution_count": 21,
   "id": "29e84e26",
   "metadata": {},
   "outputs": [
    {
     "name": "stdout",
     "output_type": "stream",
     "text": [
      "Hello § world\n",
      "Hello § world §  Hi\n",
      "This is Hello to the world\n",
      "This is Hello to the world with 10.455\n",
      "Name is Hello on world with 10.4546\n",
      "Name is Hello on world with 10.4546\n"
     ]
    }
   ],
   "source": [
    "# print \n",
    "a = \"Hello\"\n",
    "b = \"world\"\n",
    "c = \" Hi\"\n",
    "n = 10.4546\n",
    "\n",
    "print(a,b,sep=\" § \")\n",
    "print(a,b, c,sep=\" § \")\n",
    "\n",
    "print(\"This is %s to the %s\"%(a,b))\n",
    "\n",
    "print(\"This is %s to the %s with %.3f\"%(a, b, n))\n",
    "\n",
    "print(\"Name is {} on {} with {}\".format(a, b, n))\n",
    "\n",
    "h = \"Name is {} on {} with {}\".format(a, b, n)\n",
    "print(h)"
   ]
  },
  {
   "cell_type": "code",
   "execution_count": 7,
   "id": "1c4e2374",
   "metadata": {},
   "outputs": [
    {
     "name": "stdout",
     "output_type": "stream",
     "text": [
      "Enter three numbers: 3 5 6\n",
      "3\n",
      "5\n",
      "6\n",
      "Enter three numbers seperated by comma 2,3,4\n",
      "['2', '3', '4']\n"
     ]
    }
   ],
   "source": [
    "# input function\n",
    "for x in input(\"Enter three numbers: \").split():\n",
    "    print(x)\n",
    "    \n",
    "lst = [x for x in input(\"Enter three numbers seperated by comma \").split(\",\")]\n",
    "print(lst)\n",
    "\n"
   ]
  },
  {
   "cell_type": "code",
   "execution_count": 8,
   "id": "58790264",
   "metadata": {},
   "outputs": [
    {
     "name": "stdout",
     "output_type": "stream",
     "text": [
      "How many Players? 2\n",
      "Name? Tina\n",
      "Hobby? Foils\n",
      "Name? John\n",
      "Hobby? Metal\n",
      "{'Tina': 'Foils', 'John': 'Metal'}\n"
     ]
    }
   ],
   "source": [
    "n = int(input(\"How many Players? \"))\n",
    "player = {}\n",
    "for i in range(n):\n",
    "    name = input(\"Name? \")\n",
    "    hobby = input(\"Hobby? \")\n",
    "    player[name] = hobby\n",
    "print(player)"
   ]
  },
  {
   "cell_type": "code",
   "execution_count": 2,
   "id": "4c200f08",
   "metadata": {},
   "outputs": [
    {
     "name": "stdout",
     "output_type": "stream",
     "text": [
      "Vegan-cheese\n",
      "Lettuce\n",
      "Tomato-Sauce\n",
      "Onions\n",
      "Pickles\n",
      "Garlic\n",
      "Pick three toppings, seperate by spaceVegan-cheese Lettuce Tomato-Sauce\n",
      "How many Sandwiches, type a number30\n",
      "150 is the total price\n"
     ]
    }
   ],
   "source": [
    "# Exercise\n",
    "topping = ['Vegan-cheese', 'Lettuce', 'Tomato-Sauce', 'Onions', 'Pickles', 'Garlic']\n",
    "for i in topping:\n",
    "    print(i)\n",
    "pick = [x for x in input('Pick three toppings, seperate by space').split()]\n",
    "cost = int(input('How many Sandwiches, type a number'))\n",
    "print('{} is the total price'.format(cost*5))"
   ]
  },
  {
   "cell_type": "code",
   "execution_count": 5,
   "id": "cdeb6870",
   "metadata": {},
   "outputs": [
    {
     "name": "stdout",
     "output_type": "stream",
     "text": [
      "Input a number greater 10: 78\n",
      "You entered  78\n"
     ]
    }
   ],
   "source": [
    "# Flow --> mostly covered in Python for absolute beginners\n",
    "x = int(input(\"Input a number greater 10: \"))\n",
    "assert x>10, \"Wrong number\" # will show an assertion error\n",
    "print(\"You entered \",x)\n"
   ]
  },
  {
   "cell_type": "code",
   "execution_count": 9,
   "id": "3177e3d7",
   "metadata": {},
   "outputs": [
    {
     "name": "stdout",
     "output_type": "stream",
     "text": [
      "Enter a stringhallo world\n",
      "dlrow ollah\n"
     ]
    }
   ],
   "source": [
    "# reverse a string\n",
    "s = input(\"Enter a string\")\n",
    "print(''.join(reversed(s)))"
   ]
  },
  {
   "cell_type": "code",
   "execution_count": 10,
   "id": "016fb337",
   "metadata": {},
   "outputs": [
    {
     "name": "stdout",
     "output_type": "stream",
     "text": [
      "/home/haniel/anaconda3/lib/python3.7/site-packages/ipykernel_launcher.py\n",
      "-f\n",
      "/home/haniel/.local/share/jupyter/runtime/kernel-4abbb949-6ab3-4612-b5bd-f0b0b0899215.json\n",
      "3\n"
     ]
    }
   ],
   "source": [
    "# command line arguments\n",
    "import sys\n",
    "lst = sys.argv\n",
    "for i in lst: print(i)\n",
    "print(len(lst))"
   ]
  },
  {
   "cell_type": "code",
   "execution_count": 15,
   "id": "8556e653",
   "metadata": {},
   "outputs": [
    {
     "name": "stdout",
     "output_type": "stream",
     "text": [
      "678\n",
      "123\n"
     ]
    }
   ],
   "source": [
    "# functions accessing global variables\n",
    "x = 123\n",
    "\n",
    "def display():\n",
    "    x = 678\n",
    "    def printLocal(x):\n",
    "        print(x)\n",
    "    printLocal(x)\n",
    "    print(globals()['x'])\n",
    "    \n",
    "display()"
   ]
  },
  {
   "cell_type": "code",
   "execution_count": 16,
   "id": "eea5a4d9",
   "metadata": {},
   "outputs": [
    {
     "name": "stdout",
     "output_type": "stream",
     "text": [
      "678\n",
      "123\n",
      "678\n",
      "123\n"
     ]
    }
   ],
   "source": [
    "# assign function to a variable\n",
    "\n",
    "z = display\n",
    "z()\n",
    "z()"
   ]
  },
  {
   "cell_type": "code",
   "execution_count": 27,
   "id": "6f0d935d",
   "metadata": {},
   "outputs": [
    {
     "name": "stdout",
     "output_type": "stream",
     "text": [
      "678\n",
      "123\n",
      "returned\n",
      "678\n",
      "123\n",
      "returned\n"
     ]
    }
   ],
   "source": [
    "# pass function as a parameter and returning function, anything can be passed to a function, defaults\n",
    "def printLocal(x):\n",
    "    print(x)\n",
    "\n",
    "def display(p=printLocal):\n",
    "    x = 678\n",
    "    p(x)\n",
    "    print(globals()['x'])\n",
    "    def returnMe():\n",
    "        print(\"returned\")\n",
    "    return returnMe\n",
    "    \n",
    "returned = display(printLocal)\n",
    "returned()\n",
    "returned = display()\n",
    "returned()"
   ]
  },
  {
   "cell_type": "code",
   "execution_count": 26,
   "id": "7b261367",
   "metadata": {},
   "outputs": [
    {
     "name": "stdout",
     "output_type": "stream",
     "text": [
      "3628800\n",
      "3628800\n"
     ]
    }
   ],
   "source": [
    "# recursion\n",
    "def factorial1(n):\n",
    "    if n == 0:\n",
    "        return 1\n",
    "    else:\n",
    "        return n*factorial(n-1)\n",
    "n = factorial1(10)\n",
    "print(n)\n",
    "\n",
    "def factorial2(n):\n",
    "    if n == 0:\n",
    "        result = 1\n",
    "    else:\n",
    "        result = n * factorial(n - 1)\n",
    "    return result\n",
    "\n",
    "n = factorial2(10)\n",
    "print(n)"
   ]
  },
  {
   "cell_type": "code",
   "execution_count": 39,
   "id": "3f1f731a",
   "metadata": {},
   "outputs": [
    {
     "name": "stdout",
     "output_type": "stream",
     "text": [
      "10\n",
      "(20, 30, 40)\n",
      "{'name': 'Kim'}\n",
      "name Kim\n",
      "(20, 30, 40)\n",
      "{'name': 'Kim'}\n"
     ]
    }
   ],
   "source": [
    "# arguments\n",
    "# keyword arguments\n",
    "# args and kwargs may have any name\n",
    "# pass on args and kwargs\n",
    "def passIt(*x, **y):\n",
    "    print(x)\n",
    "    print(y)\n",
    "\n",
    "def myfun(x, *args, **kwargs):\n",
    "    print(x)\n",
    "    print(args)\n",
    "    print(kwargs)\n",
    "    for key, value in kwargs.items():\n",
    "        print(key, value)\n",
    "    passIt(*args, **kwargs)\n",
    "    \n",
    "myfun(10, 20, 30, 40, name=\"Kim\")"
   ]
  },
  {
   "cell_type": "code",
   "execution_count": 65,
   "id": "f9b1447d",
   "metadata": {},
   "outputs": [
    {
     "name": "stdout",
     "output_type": "stream",
     "text": [
      "361\n",
      "27\n",
      "27\n",
      "Yes\n",
      "[10, 2, 2]\n",
      "[20, 4, 4]\n",
      "28\n",
      "10\n",
      "10\n",
      "3.3333333333333335\n",
      "\n",
      "\n",
      "10\n",
      "11\n",
      "12\n",
      "13\n",
      "14\n",
      "15\n",
      "16\n",
      "17\n",
      "['False', 'None', 'True', 'and', 'as', 'assert', 'async', 'await', 'break', 'class', 'continue', 'def', 'del', 'elif', 'else', 'except', 'finally', 'for', 'from', 'global', 'if', 'import', 'in', 'is', 'lambda', 'nonlocal', 'not', 'or', 'pass', 'raise', 'return', 'try', 'while', 'with', 'yield']\n"
     ]
    }
   ],
   "source": [
    "# lambdas Anonymous functions\n",
    "f = lambda x:x*x\n",
    "result = f(19)\n",
    "print(result)\n",
    "\n",
    "# usually used in other functions such as map, reduce ...\n",
    "def cube(n):\n",
    "    return n**3\n",
    "\n",
    "print(cube(3))\n",
    "\n",
    "f = lambda n:n**3\n",
    "print(f(3))\n",
    "\n",
    "l = lambda x: 'Yes' if x%2 == 0 else 'No'\n",
    "print(l(10))\n",
    "\n",
    "s = lambda a,b: a + b\n",
    "s(3,4)\n",
    "\n",
    "lst = [10, 2, 33, 45, 89, 2]\n",
    "lst = list(filter(lambda x: x%2==0, lst))\n",
    "print(lst)\n",
    "\n",
    "# map\n",
    "lst = list(map(lambda n: n*2, lst))\n",
    "print(lst)\n",
    "\n",
    "# reduce\n",
    "from functools import reduce\n",
    "#reduce(function, sequence)\n",
    "lst = reduce(lambda x,y:x+y, lst)\n",
    "print(lst)\n",
    "\n",
    "# decorator\n",
    "def decor(fun):\n",
    "    def inner():\n",
    "        result = fun()\n",
    "        return result * 2\n",
    "    return inner\n",
    "\n",
    "def num():\n",
    "    return 5\n",
    "\n",
    "resultFun = decor(num)\n",
    "print(resultFun())\n",
    "\n",
    "# @decor\n",
    "# decorator\n",
    "def decor(fun):\n",
    "    def inner():\n",
    "        result = fun()\n",
    "        return result * 2\n",
    "    return inner\n",
    "\n",
    "@decor\n",
    "def num():\n",
    "    return 5\n",
    "\n",
    "print(num())\n",
    "\n",
    "# chain decorators\n",
    "def square(fun):\n",
    "    def inner():\n",
    "        n = fun()\n",
    "        return n/3\n",
    "    return inner\n",
    "\n",
    "@square\n",
    "@decor\n",
    "def num1():\n",
    "    return 5\n",
    "\n",
    "print(num1())\n",
    "\n",
    "print(\"\\n\")\n",
    "# generators\n",
    "def customgen(x,y):\n",
    "    while x < y:\n",
    "        yield x\n",
    "        x += 1\n",
    "        \n",
    "result = customgen(10,18)\n",
    "\n",
    "for i in result:print(i)\n",
    "    \n",
    "# dont use keywords for variables, functions etc. so lets check them\n",
    "import keyword\n",
    "print(keyword.kwlist)"
   ]
  },
  {
   "cell_type": "code",
   "execution_count": null,
   "id": "7158ecfa",
   "metadata": {},
   "outputs": [],
   "source": []
  }
 ],
 "metadata": {
  "kernelspec": {
   "display_name": "Python 3 (ipykernel)",
   "language": "python",
   "name": "python3"
  },
  "language_info": {
   "codemirror_mode": {
    "name": "ipython",
    "version": 3
   },
   "file_extension": ".py",
   "mimetype": "text/x-python",
   "name": "python",
   "nbconvert_exporter": "python",
   "pygments_lexer": "ipython3",
   "version": "3.7.11"
  }
 },
 "nbformat": 4,
 "nbformat_minor": 5
}
