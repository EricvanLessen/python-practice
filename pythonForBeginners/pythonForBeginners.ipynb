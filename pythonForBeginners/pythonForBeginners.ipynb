{
 "cells": [
  {
   "cell_type": "code",
   "execution_count": 4,
   "id": "618da072",
   "metadata": {},
   "outputs": [
    {
     "name": "stdout",
     "output_type": "stream",
     "text": [
      "apr\n",
      "ri\n",
      "cots\n"
     ]
    }
   ],
   "source": [
    "# strings\n",
    "s = \"apricots\"\n",
    "\n",
    "# slicing strings\n",
    "print(s[:3])\n",
    "print(s[2:4])\n",
    "print(s[4:])"
   ]
  },
  {
   "cell_type": "code",
   "execution_count": 5,
   "id": "1d3b96f4",
   "metadata": {},
   "outputs": [
    {
     "name": "stdout",
     "output_type": "stream",
     "text": [
      "R2-D2\n"
     ]
    }
   ],
   "source": [
    "# concat strings\n",
    "concatenated = \"R2\" + \"-\" + \"D2\"\n",
    "print(concatenated)"
   ]
  },
  {
   "cell_type": "code",
   "execution_count": 1,
   "id": "e7033a1a",
   "metadata": {},
   "outputs": [
    {
     "name": "stdout",
     "output_type": "stream",
     "text": [
      "<class 'bool'>\n",
      "<class 'int'>\n",
      "<class 'float'>\n"
     ]
    }
   ],
   "source": [
    "# type()\n",
    "a = False\n",
    "b = 29\n",
    "c = 4.1352\n",
    "\n",
    "print(type(a))\n",
    "print(type(b))\n",
    "print(type(c))"
   ]
  },
  {
   "cell_type": "code",
   "execution_count": 2,
   "id": "f720c533",
   "metadata": {},
   "outputs": [
    {
     "name": "stdout",
     "output_type": "stream",
     "text": [
      "<class 'str'>\n",
      "<class 'str'>\n",
      "<class 'str'>\n"
     ]
    }
   ],
   "source": [
    "# str()\n",
    "a = False\n",
    "b = 29\n",
    "c = 4.1352\n",
    "\n",
    "print(type(str(a)))\n",
    "print(type(str(b)))\n",
    "print(type(str(c)))"
   ]
  },
  {
   "cell_type": "code",
   "execution_count": 4,
   "id": "0afdc4e4",
   "metadata": {},
   "outputs": [
    {
     "name": "stdout",
     "output_type": "stream",
     "text": [
      "\"Do \t or do not \tthere is no try\"\n"
     ]
    }
   ],
   "source": [
    "# escape sequences\n",
    "print(\"\\\"Do \\t or do not \\tthere is no try\\\"\")"
   ]
  },
  {
   "cell_type": "code",
   "execution_count": 10,
   "id": "b0c63247",
   "metadata": {},
   "outputs": [
    {
     "name": "stdout",
     "output_type": "stream",
     "text": [
      "Please enter your name.Eric\n",
      "Your name is Eric.\n",
      "<class 'str'>\n",
      "What is your favorite number.29\n",
      "Your favorite number is 29.\n",
      "<class 'str'>\n"
     ]
    }
   ],
   "source": [
    "# input\n",
    "name = input(\"Please enter your name.\")\n",
    "print(\"Your name is \" + name + \".\")\n",
    "print(type(name))\n",
    "\n",
    "number = input(\"What is your favorite number.\")\n",
    "print(\"Your favorite number is \" + number + \".\")\n",
    "print(type(name))"
   ]
  },
  {
   "cell_type": "code",
   "execution_count": 17,
   "id": "cb6b2491",
   "metadata": {},
   "outputs": [
    {
     "name": "stdout",
     "output_type": "stream",
     "text": [
      "4\n",
      "5\n",
      "15\n",
      "10\n",
      "2\n"
     ]
    }
   ],
   "source": [
    "# functions\n",
    "def function_name_1():\n",
    "    print(2 + 2)\n",
    "    \n",
    "def function_name_2(parameter):\n",
    "    print(parameter + 2)\n",
    "    \n",
    "def default_example(num1 = 7, num2 = 8):\n",
    "    print(num1 + num2)\n",
    "\n",
    "function_name_1()\n",
    "\n",
    "function_name_2(3)\n",
    "\n",
    "default_example()\n",
    "default_example(2)\n",
    "default_example(1,1)"
   ]
  },
  {
   "cell_type": "code",
   "execution_count": 19,
   "id": "c5602839",
   "metadata": {},
   "outputs": [
    {
     "name": "stdout",
     "output_type": "stream",
     "text": [
      "The car can travel 20 miles per gallon.\n",
      "The car's fuel tank can hold 18 gallons.\n",
      "The car can travel 373 miles on a full tank.\n"
     ]
    }
   ],
   "source": [
    "    from random import randint\n",
    "    # generates random integer between and inclusive of 10 and 25 to represent gas in the car's fuel tank\n",
    "    fuel = randint(10, 25)\n",
    "    # generates random integer between and inclusive of 200 and 400 to represent miles the car can go without refueling\n",
    "    miles = randint(200, 400)\n",
    "    # calculates and displays the MPG of the car assuming car manufacturers overestimates in their claims\n",
    "    print(\"The car can travel \" + str(miles // fuel) + \" miles per gallon.\")\n",
    "    # displays the number of gallons of fuel that the car's fuel tank can hold\n",
    "    print(\"The car's fuel tank can hold \" + str(fuel) + \" gallons.\")\n",
    "    # displays the number of miles that the car can travel on a full tank\n",
    "    print(\"The car can travel \" + str(miles) + \" miles on a full tank.\")"
   ]
  },
  {
   "cell_type": "code",
   "execution_count": 20,
   "id": "1a877ff5",
   "metadata": {},
   "outputs": [
    {
     "name": "stdout",
     "output_type": "stream",
     "text": [
      "hello world\n",
      "this is a string\n"
     ]
    }
   ],
   "source": [
    "example = \"hello world\" # global\n",
    "\n",
    "def loc_ex():\n",
    "        example = \"this is a string\" # local\n",
    "        return example\n",
    "    \n",
    "print(example)\n",
    "print(loc_ex())"
   ]
  },
  {
   "cell_type": "code",
   "execution_count": 23,
   "id": "e6e575a8",
   "metadata": {},
   "outputs": [
    {
     "name": "stdout",
     "output_type": "stream",
     "text": [
      "Type the name of a vegetable.corn\n",
      "The vegetable is corn.\n"
     ]
    }
   ],
   "source": [
    "# if else flow control\n",
    "veg = input(\"Type the name of a vegetable.\")\n",
    "\n",
    "if veg == \"corn\":\n",
    "    print(\"The vegetable is corn.\")\n",
    "else:\n",
    "    print(\"The vegetable is not corn.\")\n"
   ]
  },
  {
   "cell_type": "code",
   "execution_count": 30,
   "id": "d8ed8101",
   "metadata": {},
   "outputs": [
    {
     "name": "stdout",
     "output_type": "stream",
     "text": [
      "Please enter an integer.-1\n",
      "The number you entered is less than 0.\n"
     ]
    }
   ],
   "source": [
    "# elif flow control\n",
    "user_num = int(input(\"Please enter an integer.\"))\n",
    "\n",
    "if user_num < 0:\n",
    "    print(\"The number you entered is less than 0.\")\n",
    "elif user_num == 0:\n",
    "    print(\"The number you entered is 0.\")\n",
    "elif 0 < user_num:\n",
    "    print(\"The number you entered is greater than 0.\")"
   ]
  },
  {
   "cell_type": "code",
   "execution_count": 32,
   "id": "0e7457a5",
   "metadata": {},
   "outputs": [
    {
     "name": "stdout",
     "output_type": "stream",
     "text": [
      "Enter anything\n",
      "You did not enter a string\n"
     ]
    }
   ],
   "source": [
    "# empty string is falsy\n",
    "example = input(\"Enter anything\")\n",
    "\n",
    "if example: \n",
    "    print(\"Thank you for entering something\")\n",
    "else:\n",
    "    print(\"You did not enter a string\")\n",
    "    "
   ]
  },
  {
   "cell_type": "code",
   "execution_count": 33,
   "id": "66c1d806",
   "metadata": {},
   "outputs": [
    {
     "name": "stdout",
     "output_type": "stream",
     "text": [
      "Enter anything\n",
      "You did not enter a string\n"
     ]
    }
   ],
   "source": [
    "# Easier to understand\n",
    "example = input(\"Enter anything\")\n",
    "\n",
    "if example != \"\": \n",
    "    print(\"Thank you for entering something\")\n",
    "else:\n",
    "    print(\"You did not enter a string\")"
   ]
  },
  {
   "cell_type": "code",
   "execution_count": 35,
   "id": "2e73c90b",
   "metadata": {},
   "outputs": [
    {
     "name": "stdout",
     "output_type": "stream",
     "text": [
      "False\n",
      "False\n",
      "True\n",
      "True\n"
     ]
    }
   ],
   "source": [
    "# some boolean evaluations\n",
    "print(bool(0))\n",
    "print(bool(\"\"))\n",
    "print(bool(\"String\"))\n",
    "print(bool(3.29))"
   ]
  },
  {
   "cell_type": "code",
   "execution_count": 37,
   "id": "57a65597",
   "metadata": {},
   "outputs": [
    {
     "name": "stdout",
     "output_type": "stream",
     "text": [
      "something 0\n",
      "something 1\n",
      "something 2\n"
     ]
    }
   ],
   "source": [
    "# while loop\n",
    "counter = 0\n",
    "while counter < 3:\n",
    "    print(\"something \"  + str(counter))\n",
    "    counter += 1"
   ]
  },
  {
   "cell_type": "code",
   "execution_count": 39,
   "id": "8ffbdd22",
   "metadata": {},
   "outputs": [
    {
     "name": "stdout",
     "output_type": "stream",
     "text": [
      "h\n",
      "o\n",
      "u\n",
      "s\n",
      "e\n"
     ]
    }
   ],
   "source": [
    "# for loops\n",
    "word = \"house\"\n",
    "\n",
    "for letter in word: \n",
    "    print(letter)"
   ]
  },
  {
   "cell_type": "code",
   "execution_count": 42,
   "id": "5b3e342b",
   "metadata": {},
   "outputs": [
    {
     "name": "stdout",
     "output_type": "stream",
     "text": [
      "0\n",
      "1\n",
      "2\n",
      "3\n",
      "4\n"
     ]
    }
   ],
   "source": [
    "# range\n",
    "one_input = range(5)\n",
    "for num in one_input: \n",
    "    print(num)"
   ]
  },
  {
   "cell_type": "code",
   "execution_count": 45,
   "id": "31a56948",
   "metadata": {},
   "outputs": [
    {
     "name": "stdout",
     "output_type": "stream",
     "text": [
      "3\n",
      "4\n",
      "5\n",
      "6\n",
      "7\n"
     ]
    }
   ],
   "source": [
    "# range two inputs\n",
    "one_input = range(3, 8)\n",
    "for num in one_input: \n",
    "    print(num)"
   ]
  },
  {
   "cell_type": "code",
   "execution_count": 47,
   "id": "7517452d",
   "metadata": {},
   "outputs": [
    {
     "name": "stdout",
     "output_type": "stream",
     "text": [
      "3\n",
      "5\n",
      "7\n",
      "9\n",
      "11\n"
     ]
    }
   ],
   "source": [
    "# range three inputs\n",
    "one_input = range(3, 12, 2)\n",
    "for num in one_input: \n",
    "    print(num)"
   ]
  },
  {
   "cell_type": "code",
   "execution_count": 50,
   "id": "243efd3c",
   "metadata": {},
   "outputs": [
    {
     "name": "stdout",
     "output_type": "stream",
     "text": [
      "15\n",
      "12\n",
      "9\n",
      "6\n",
      "3\n"
     ]
    }
   ],
   "source": [
    "# range three inputs, backwards\n",
    "one_input = range(15, 1, -3)\n",
    "for num in one_input: \n",
    "    print(num)"
   ]
  },
  {
   "cell_type": "code",
   "execution_count": 72,
   "id": "825289c4",
   "metadata": {},
   "outputs": [
    {
     "name": "stdout",
     "output_type": "stream",
     "text": [
      "1\n",
      "False\n",
      "False\n",
      "True\n",
      "mix\n",
      "\n",
      "2\n",
      "False\n",
      "True\n",
      "\n",
      "3\n",
      "False\n",
      "True\n",
      "\n",
      "4\n",
      "False\n",
      "True\n",
      "\n",
      "5\n",
      "False\n",
      "True\n",
      "\n",
      "6\n",
      "True\n",
      "True\n",
      "False\n",
      "\n",
      "7\n",
      "Hello... planet... earth\n",
      "['Hello,', 'planet,', 'earth']\n",
      "['Hello ', ' planet ', ' earth']\n",
      "['Hello', 'planet', 'earth']\n"
     ]
    }
   ],
   "source": [
    "# string methods\n",
    "print(\"1\")\n",
    "print(\"Mixed Case\".isupper())\n",
    "print(\"Mixed Case\".islower())\n",
    "print(\"MIX\".isupper())\n",
    "print(\"MIX\".lower())\n",
    "print(\"\\n2\")\n",
    "print(\"27ab\".isalpha())\n",
    "print(\"abcd\".isalpha())\n",
    "print(\"\\n3\")\n",
    "print(\" - \".isspace())\n",
    "print(\"  \".isspace())\n",
    "print(\"\\n4\")\n",
    "print(\"12 \".isdecimal())\n",
    "print(\"123\".isdecimal())\n",
    "print(\"\\n5\")\n",
    "print(\"This Is A not Title\".istitle())\n",
    "print(\"This Is A Title\".istitle())\n",
    "print(\"\\n6\")\n",
    "print(\"This Is A Title\".startswith(\"T\"))\n",
    "print(\"This Is A Title\".endswith(\"e\"))\n",
    "print(\"This Is A Title\".endswith(\"v\"))\n",
    "print(\"\\n7\")\n",
    "print(\"... \".join([\"Hello\", \"planet\", \"earth\"]))\n",
    "print(\"Hello, planet, earth\".split())\n",
    "print(\"Hello - planet - earth\".split(\"-\"))\n",
    "print(\"Hello - planet - earth\".split(\" - \"))"
   ]
  },
  {
   "cell_type": "code",
   "execution_count": 78,
   "id": "ff5a421b",
   "metadata": {},
   "outputs": [
    {
     "name": "stdout",
     "output_type": "stream",
     "text": [
      "    hello world\n",
      "hello world    there\n",
      "  hello world  there\n",
      "++hello world++there\n"
     ]
    }
   ],
   "source": [
    "# ljust, rjust\n",
    "print(\"hello world\".rjust(15)) # move to the right, right justify\n",
    "print(\"hello world\".ljust(15) + \"there\") # left justify\n",
    "print(\"hello world\".center(15) + \"there\") # center\n",
    "print(\"hello world\".center(15, \"+\") + \"there\") # center"
   ]
  },
  {
   "cell_type": "code",
   "execution_count": 88,
   "id": "fd4637e6",
   "metadata": {},
   "outputs": [
    {
     "name": "stdout",
     "output_type": "stream",
     "text": [
      "I had an exciting trip!\n",
      "I had an exciting trip!1111\n",
      "111I had an exciting \n",
      "111I had an exciting trip!1111\n",
      "111I had an exciting \n"
     ]
    }
   ],
   "source": [
    "# strip, rstrip, lstrip\n",
    "print(\"111I had an exciting trip!1111\".strip(\"1\"))\n",
    "print(\"111I had an exciting trip!1111\".lstrip(\"1\"))\n",
    "print(\"111I had an exciting trip!1111\".rstrip(\"trip!1111\"))\n",
    "# all characters to remove\n",
    "print(\"111I had an exciting trip!1111\".rstrip(\"t1111rip!\"))"
   ]
  },
  {
   "cell_type": "code",
   "execution_count": 90,
   "id": "9c14ebf9",
   "metadata": {},
   "outputs": [
    {
     "name": "stdout",
     "output_type": "stream",
     "text": [
      "Hello ocean\n"
     ]
    }
   ],
   "source": [
    "# replace\n",
    "print(\"Hello world\".replace(\"world\", \"ocean\"))"
   ]
  },
  {
   "cell_type": "code",
   "execution_count": 91,
   "id": "3c4ad4fd",
   "metadata": {},
   "outputs": [
    {
     "name": "stdout",
     "output_type": "stream",
     "text": [
      "11\n"
     ]
    }
   ],
   "source": [
    "# len()\n",
    "print(len(\"Hello world\"))"
   ]
  },
  {
   "cell_type": "code",
   "execution_count": 93,
   "id": "ae0764d3",
   "metadata": {},
   "outputs": [
    {
     "name": "stdout",
     "output_type": "stream",
     "text": [
      "Hello world, this is a message. How is the weather.\n"
     ]
    }
   ],
   "source": [
    "# format function\n",
    "print(\"Hello {}, this is a {}. How is the {}\".format(\"world\", \"message\", \"weather.\"))"
   ]
  },
  {
   "cell_type": "code",
   "execution_count": null,
   "id": "6bd26cea",
   "metadata": {},
   "outputs": [],
   "source": []
  }
 ],
 "metadata": {
  "kernelspec": {
   "display_name": "Python 3 (ipykernel)",
   "language": "python",
   "name": "python3"
  },
  "language_info": {
   "codemirror_mode": {
    "name": "ipython",
    "version": 3
   },
   "file_extension": ".py",
   "mimetype": "text/x-python",
   "name": "python",
   "nbconvert_exporter": "python",
   "pygments_lexer": "ipython3",
   "version": "3.7.11"
  }
 },
 "nbformat": 4,
 "nbformat_minor": 5
}
