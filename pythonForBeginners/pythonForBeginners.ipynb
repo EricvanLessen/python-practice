{
 "cells": [
  {
   "cell_type": "code",
   "execution_count": 1,
   "id": "eeef42c8",
   "metadata": {},
   "outputs": [
    {
     "name": "stdout",
     "output_type": "stream",
     "text": [
      "Python is easy\n"
     ]
    }
   ],
   "source": [
    "print(\"Python is easy\")"
   ]
  },
  {
   "cell_type": "code",
   "execution_count": null,
   "id": "f6f62834",
   "metadata": {},
   "outputs": [],
   "source": [
    "# comments\n",
    "# this is one"
   ]
  },
  {
   "cell_type": "code",
   "execution_count": 14,
   "id": "5eb1563e",
   "metadata": {},
   "outputs": [
    {
     "name": "stdout",
     "output_type": "stream",
     "text": [
      "<class 'int'>\n",
      "<class 'float'>\n",
      "<class 'str'>\n",
      "<class 'complex'>\n",
      "<class 'int'>\n",
      "<class 'int'>\n",
      "<class 'int'>\n",
      "<class 'bool'>\n",
      "10\n",
      "255\n",
      "27\n",
      "int cast 10\n",
      "bin cast 0b1010\n",
      "hex cast 0xa\n",
      "oct cast 0o12\n"
     ]
    }
   ],
   "source": [
    "# data types\n",
    "\n",
    "# five types are\n",
    "# None object that contains no value\n",
    "# Numeric int, float, complex\n",
    "# Sequences str, bytes, bytearray, list, tuple, range\n",
    "# Mapping for MapReduce\n",
    "\n",
    "a = 10\n",
    "f = 10.23\n",
    "s = \"You are the creator of your destiny\"\n",
    "d = 3+4j\n",
    "e = 0B1010 # binary becomes int\n",
    "g = 0XFF # hexadecimal becomes int\n",
    "h = 0O33 # octadecimal\n",
    "i = False\n",
    "\n",
    "print(type(a))\n",
    "print(type(f))\n",
    "print(type(s))\n",
    "print(type(d))\n",
    "print(type(e))\n",
    "print(type(g))\n",
    "print(type(h))\n",
    "print(type(i))\n",
    "\n",
    "print(e)\n",
    "print(g)\n",
    "print(h)\n",
    "\n",
    "# casting, convert types\n",
    "print(\"int cast {}\".format(int(f)))\n",
    "print(\"bin cast {}\".format(bin(10)))\n",
    "print(\"hex cast {}\".format(hex(10)))\n",
    "print(\"oct cast {}\".format(oct(10)))\n"
   ]
  },
  {
   "cell_type": "code",
   "execution_count": 18,
   "id": "51edfa8b",
   "metadata": {},
   "outputs": [],
   "source": [
    "# identifiers\n",
    "# case sensitive\n",
    "id = 2\n",
    "Id = 3\n",
    "_id = 4\n",
    "# two underscores indicate a special function\n",
    "# __init__ "
   ]
  },
  {
   "cell_type": "code",
   "execution_count": 19,
   "id": "35fc951b",
   "metadata": {},
   "outputs": [
    {
     "name": "stdout",
     "output_type": "stream",
     "text": [
      "Adam\n",
      "Smith\n",
      "90\n",
      "ajhd-adsf-sfdf-deee\n",
      "6.2\n",
      "192\n"
     ]
    }
   ],
   "source": [
    "# drivers license\n",
    "firstName = \"Adam\"\n",
    "lastName = \"Smith\"\n",
    "age = \"90\"\n",
    "ssn = \"ajhd-adsf-sfdf-deee\"\n",
    "height = \"6.2\"\n",
    "weight = \"192\"\n",
    "\n",
    "print(firstName)\n",
    "print(lastName)\n",
    "print(age)\n",
    "print(ssn)\n",
    "print(height)\n",
    "print(weight)"
   ]
  },
  {
   "cell_type": "code",
   "execution_count": 21,
   "id": "cc5321d3",
   "metadata": {},
   "outputs": [
    {
     "name": "stdout",
     "output_type": "stream",
     "text": [
      "You are the creator of your destiny. \n",
      "You are the creator of your destiny. You are the creator of your destiny. You are the creator of your destiny. \n",
      "u\n",
      "37\n",
      "You\n",
      "You are the creator of your destiny. \n",
      "ny.\n",
      "ny. \n",
      "Yuae\n",
      " your destiny. \n",
      " fo rotaerc eht era uoY\n",
      "creator of your destiny\n",
      "creator of your destiny      \n",
      "    creator of your destiny\n",
      "4\n",
      "-1\n",
      "2\n"
     ]
    }
   ],
   "source": [
    "# strings\n",
    "s1 = \"You are the creator of your destiny. \"\n",
    "\n",
    "# print\n",
    "print(s1)\n",
    "\n",
    "# multiply\n",
    "print(s1 * 3)\n",
    "\n",
    "# index\n",
    "print(s1[2])\n",
    "print(len(s1))\n",
    "print(s1[0:3])\n",
    "print(s1[0:])\n",
    "print(s1[-4:-1])\n",
    "print(s1[-4:])\n",
    "print(s1[0:8:2])\n",
    "print(s1[-15::1])\n",
    "print(s1[-15::-1])\n",
    "\n",
    "# strip \n",
    "s2 = \"    creator of your destiny      \"\n",
    "print(s2.strip())\n",
    "print(s2.lstrip())\n",
    "print(s2.rstrip())\n",
    "\n",
    "# find string in a string\n",
    "print(s1.find(\"are\", 0, len(s1)))\n",
    "print(s2.find(\"are\", 0, len(s1)))\n",
    "\n",
    "# count\n",
    "print(s2.count(\"t\"))"
   ]
  },
  {
   "cell_type": "code",
   "execution_count": 25,
   "id": "76d6197e",
   "metadata": {},
   "outputs": [
    {
     "name": "stdout",
     "output_type": "stream",
     "text": [
      "10\n",
      "20.54\n",
      "True\n",
      "I am the best\n"
     ]
    }
   ],
   "source": [
    "# exercise\n",
    "\n",
    "a = int\n",
    "b = float\n",
    "c = bool\n",
    "d = str\n",
    "\n",
    "a = 10\n",
    "b = 20.54\n",
    "c = True\n",
    "d = \"I am the best\"\n",
    "\n",
    "print(a)\n",
    "print(b)\n",
    "print(c)\n",
    "print(d)"
   ]
  },
  {
   "cell_type": "code",
   "execution_count": 36,
   "id": "f285a419",
   "metadata": {},
   "outputs": [
    {
     "name": "stdout",
     "output_type": "stream",
     "text": [
      "[10, 20, 'name', -10, 30.5]\n",
      "-10\n",
      "[-10, 30.5]\n",
      "[10, 20, 'name', -10, 30.5, 10, 20, 'name', -10, 30.5, 10, 20, 'name', -10, 30.5, 10, 20, 'name', -10, 30.5]\n",
      "5\n",
      "[10, 20, 'name', -10, 30.5, 40]\n",
      "[10, 20, -10, 30.5, 40]\n",
      "[10, -10, 30.5, 40]\n",
      "40\n",
      "-10\n",
      "[10, -10, 30.5, 99, 40]\n",
      "[99, 40, 30.5, 10, -10]\n"
     ]
    }
   ],
   "source": [
    "# list\n",
    "lst = [10, 20, \"name\", -10, 30.5]\n",
    "\n",
    "# print\n",
    "print(lst)\n",
    "\n",
    "# index\n",
    "print(lst[3])\n",
    "print(lst[3:5])\n",
    "\n",
    "# multiply\n",
    "print(lst * 4)\n",
    "\n",
    "# length\n",
    "print(len(lst))\n",
    "\n",
    "# append\n",
    "lst.append(40)\n",
    "print(lst)\n",
    "\n",
    "# remove by value\n",
    "lst.remove(\"name\")\n",
    "print(lst)\n",
    "\n",
    "# remove the first list element\n",
    "del(lst[1])\n",
    "print(lst)\n",
    "\n",
    "# max/min\n",
    "print(max(lst))\n",
    "print(min(lst))\n",
    "\n",
    "# insert\n",
    "lst.insert(3, 99)\n",
    "print(lst)\n",
    "\n",
    "lst.sort(reverse = True)\n",
    "print(lst)"
   ]
  },
  {
   "cell_type": "code",
   "execution_count": 40,
   "id": "70125f09",
   "metadata": {},
   "outputs": [
    {
     "name": "stdout",
     "output_type": "stream",
     "text": [
      "(20, 30, 40, 50, 'xyz')\n",
      "<class 'tuple'>\n",
      "(20, 30, 40, 50, 'xyz', 20, 30, 40, 50, 'xyz', 20, 30, 40, 50, 'xyz')\n",
      "4\n",
      "(5, 6, 'a')\n"
     ]
    }
   ],
   "source": [
    "# Tuple\n",
    "# can not be modified, immutable\n",
    "# insertion order\n",
    "# duplicates are ok\n",
    "# different types are ok\n",
    "\n",
    "tpl = (20, 30, 40, 50, 'xyz')\n",
    "print(tpl)\n",
    "print(type(tpl))\n",
    "print(tpl * 3)\n",
    "print(tpl.index('xyz'))\n",
    "\n",
    "# cast\n",
    "lst = [5,6, 'a']\n",
    "print(tuple(lst))"
   ]
  },
  {
   "cell_type": "code",
   "execution_count": 46,
   "id": "998e40a8",
   "metadata": {},
   "outputs": [
    {
     "name": "stdout",
     "output_type": "stream",
     "text": [
      "{'xyz', 10, 20, 30}\n",
      "{99, 10, 20, 88, 'xyz', 30}\n",
      "<class 'set'>\n",
      "{99, 10, 20, 88, 'xyz'}\n"
     ]
    }
   ],
   "source": [
    "# set\n",
    "s = {10, 20, 30, 'xyz', 10, 20, 30}\n",
    "print(s)\n",
    "s.update([88, 99])\n",
    "print(s)\n",
    "print(type(s))\n",
    "\n",
    "# print(s * 3) will throw an error\n",
    "\n",
    "s.remove(30)\n",
    "print(s)\n",
    "\n",
    "f = frozenset(s)\n",
    "# f.update(7) will throw an error\n",
    "# f.remove(10) will throw an error\n"
   ]
  },
  {
   "cell_type": "code",
   "execution_count": 48,
   "id": "5e80ca55",
   "metadata": {},
   "outputs": [
    {
     "name": "stdout",
     "output_type": "stream",
     "text": [
      "1\n",
      "4\n",
      "7\n",
      "10\n",
      "13\n"
     ]
    }
   ],
   "source": [
    "# range\n",
    "r = range(1, 15, 3)\n",
    "\n",
    "for i in r:\n",
    "    print(i)"
   ]
  },
  {
   "cell_type": "code",
   "execution_count": 52,
   "id": "e8772682",
   "metadata": {},
   "outputs": [
    {
     "name": "stdout",
     "output_type": "stream",
     "text": [
      "<class 'bytes'>\n",
      "<class 'bytearray'>\n",
      "bytearray(b'\\x01\\x03\\x14')\n"
     ]
    }
   ],
   "source": [
    "# list\n",
    "lst = [1, 3, 4]\n",
    "b = bytes(lst)\n",
    "print(type(b))\n",
    "# b[1] = 0 will throw an arrow \n",
    "\n",
    "# bytearray assignments work\n",
    "b1 = bytearray(lst)\n",
    "print(type(b1))\n",
    "b1[2] = 20\n",
    "print(b1)"
   ]
  },
  {
   "cell_type": "code",
   "execution_count": 56,
   "id": "fdaf057c",
   "metadata": {},
   "outputs": [
    {
     "name": "stdout",
     "output_type": "stream",
     "text": [
      "{1: 'john', 2: 'bob', 3: 'bill'}\n",
      "dict_items([(1, 'john'), (2, 'bob'), (3, 'bill')])\n",
      "1\n",
      "2\n",
      "3\n",
      "john\n",
      "bob\n",
      "bill\n",
      "bill\n",
      "{1: 'john', 3: 'bill'}\n"
     ]
    }
   ],
   "source": [
    "# dict\n",
    "dict1 = {1: \"john\", 2: \"bob\", 3: \"bill\"}\n",
    "print(dict1)\n",
    "print(dict1.items())\n",
    "k = dict1.keys()\n",
    "for i in k: print(i)\n",
    "for i in dict1.values(): print(i)\n",
    "print(dict1[3])\n",
    "del dict1[2]\n",
    "print(dict1)"
   ]
  },
  {
   "cell_type": "code",
   "execution_count": 59,
   "id": "0378cc80",
   "metadata": {},
   "outputs": [
    {
     "name": "stdout",
     "output_type": "stream",
     "text": [
      "94819118089760\n",
      "94819118089760\n",
      "True\n",
      "94819118089760\n",
      "94819118089440\n",
      "False\n",
      "139738708230768\n",
      "139738708230768\n",
      "True\n"
     ]
    }
   ],
   "source": [
    "a = 20\n",
    "b = 20\n",
    "print(id(a))\n",
    "print(id(b))\n",
    "print(a is b)\n",
    "\n",
    "a = 20\n",
    "b = 10\n",
    "print(id(a))\n",
    "print(id(b))\n",
    "print(a is b)\n",
    "\n",
    "a = \"Hi\"\n",
    "b = \"Hi\"\n",
    "print(id(a))\n",
    "print(id(b))\n",
    "print(a is b)"
   ]
  },
  {
   "cell_type": "code",
   "execution_count": 62,
   "id": "73f8ce66",
   "metadata": {},
   "outputs": [],
   "source": [
    "# exercise\n",
    "countries = [\"South-Africa\", \"Marocco\", \"Spain\"]\n",
    "countries.append(\"Brazil\")\n",
    "del countries[2]\n",
    "countries.insert(2, \"Norway\")\n",
    "\n",
    "countries1 = {\"Hungary\", \"India\", \"Japan\"}\n",
    "countries2 = {\"Switzerland\"}\n",
    "countries1.update(countries2)\n",
    "countries1.remove(\"Hungary\")\n",
    "countries1 = {Madagascar}\n",
    "countries1.update(countries4)"
   ]
  },
  {
   "cell_type": "code",
   "execution_count": null,
   "id": "dc915f8b",
   "metadata": {},
   "outputs": [],
   "source": []
  }
 ],
 "metadata": {
  "kernelspec": {
   "display_name": "Python 3 (ipykernel)",
   "language": "python",
   "name": "python3"
  },
  "language_info": {
   "codemirror_mode": {
    "name": "ipython",
    "version": 3
   },
   "file_extension": ".py",
   "mimetype": "text/x-python",
   "name": "python",
   "nbconvert_exporter": "python",
   "pygments_lexer": "ipython3",
   "version": "3.7.11"
  }
 },
 "nbformat": 4,
 "nbformat_minor": 5
}
