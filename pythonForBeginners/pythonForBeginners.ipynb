{
 "cells": [
  {
   "cell_type": "code",
   "execution_count": 1,
   "id": "eeef42c8",
   "metadata": {},
   "outputs": [
    {
     "name": "stdout",
     "output_type": "stream",
     "text": [
      "Python is easy\n"
     ]
    }
   ],
   "source": [
    "print(\"Python is easy\")"
   ]
  },
  {
   "cell_type": "code",
   "execution_count": null,
   "id": "f6f62834",
   "metadata": {},
   "outputs": [],
   "source": [
    "# comments\n",
    "# this is one"
   ]
  },
  {
   "cell_type": "code",
   "execution_count": 14,
   "id": "5eb1563e",
   "metadata": {},
   "outputs": [
    {
     "name": "stdout",
     "output_type": "stream",
     "text": [
      "<class 'int'>\n",
      "<class 'float'>\n",
      "<class 'str'>\n",
      "<class 'complex'>\n",
      "<class 'int'>\n",
      "<class 'int'>\n",
      "<class 'int'>\n",
      "<class 'bool'>\n",
      "10\n",
      "255\n",
      "27\n",
      "int cast 10\n",
      "bin cast 0b1010\n",
      "hex cast 0xa\n",
      "oct cast 0o12\n"
     ]
    }
   ],
   "source": [
    "# data types\n",
    "\n",
    "# five types are\n",
    "# None object that contains no value\n",
    "# Numeric int, float, complex\n",
    "# Sequences str, bytes, bytearray, list, tuple, range\n",
    "# Mapping for MapReduce\n",
    "\n",
    "a = 10\n",
    "f = 10.23\n",
    "s = \"You are the creator of your destiny\"\n",
    "d = 3+4j\n",
    "e = 0B1010 # binary becomes int\n",
    "g = 0XFF # hexadecimal becomes int\n",
    "h = 0O33 # octadecimal\n",
    "i = False\n",
    "\n",
    "print(type(a))\n",
    "print(type(f))\n",
    "print(type(s))\n",
    "print(type(d))\n",
    "print(type(e))\n",
    "print(type(g))\n",
    "print(type(h))\n",
    "print(type(i))\n",
    "\n",
    "print(e)\n",
    "print(g)\n",
    "print(h)\n",
    "\n",
    "# casting, convert types\n",
    "print(\"int cast {}\".format(int(f)))\n",
    "print(\"bin cast {}\".format(bin(10)))\n",
    "print(\"hex cast {}\".format(hex(10)))\n",
    "print(\"oct cast {}\".format(oct(10)))\n"
   ]
  },
  {
   "cell_type": "code",
   "execution_count": 18,
   "id": "51edfa8b",
   "metadata": {},
   "outputs": [],
   "source": [
    "# identifiers\n",
    "# case sensitive\n",
    "id = 2\n",
    "Id = 3\n",
    "_id = 4\n",
    "# two underscores indicate a special function\n",
    "# __init__ "
   ]
  },
  {
   "cell_type": "code",
   "execution_count": 19,
   "id": "35fc951b",
   "metadata": {},
   "outputs": [
    {
     "name": "stdout",
     "output_type": "stream",
     "text": [
      "Adam\n",
      "Smith\n",
      "90\n",
      "ajhd-adsf-sfdf-deee\n",
      "6.2\n",
      "192\n"
     ]
    }
   ],
   "source": [
    "# drivers license\n",
    "firstName = \"Adam\"\n",
    "lastName = \"Smith\"\n",
    "age = \"90\"\n",
    "ssn = \"ajhd-adsf-sfdf-deee\"\n",
    "height = \"6.2\"\n",
    "weight = \"192\"\n",
    "\n",
    "print(firstName)\n",
    "print(lastName)\n",
    "print(age)\n",
    "print(ssn)\n",
    "print(height)\n",
    "print(weight)"
   ]
  },
  {
   "cell_type": "code",
   "execution_count": 21,
   "id": "cc5321d3",
   "metadata": {},
   "outputs": [
    {
     "name": "stdout",
     "output_type": "stream",
     "text": [
      "You are the creator of your destiny. \n",
      "You are the creator of your destiny. You are the creator of your destiny. You are the creator of your destiny. \n",
      "u\n",
      "37\n",
      "You\n",
      "You are the creator of your destiny. \n",
      "ny.\n",
      "ny. \n",
      "Yuae\n",
      " your destiny. \n",
      " fo rotaerc eht era uoY\n",
      "creator of your destiny\n",
      "creator of your destiny      \n",
      "    creator of your destiny\n",
      "4\n",
      "-1\n",
      "2\n"
     ]
    }
   ],
   "source": [
    "# strings\n",
    "s1 = \"You are the creator of your destiny. \"\n",
    "\n",
    "# print\n",
    "print(s1)\n",
    "\n",
    "# multiply\n",
    "print(s1 * 3)\n",
    "\n",
    "# index\n",
    "print(s1[2])\n",
    "print(len(s1))\n",
    "print(s1[0:3])\n",
    "print(s1[0:])\n",
    "print(s1[-4:-1])\n",
    "print(s1[-4:])\n",
    "print(s1[0:8:2])\n",
    "print(s1[-15::1])\n",
    "print(s1[-15::-1])\n",
    "\n",
    "# strip \n",
    "s2 = \"    creator of your destiny      \"\n",
    "print(s2.strip())\n",
    "print(s2.lstrip())\n",
    "print(s2.rstrip())\n",
    "\n",
    "# find string in a string\n",
    "print(s1.find(\"are\", 0, len(s1)))\n",
    "print(s2.find(\"are\", 0, len(s1)))\n",
    "\n",
    "# count\n",
    "print(s2.count(\"t\"))"
   ]
  },
  {
   "cell_type": "code",
   "execution_count": 25,
   "id": "25a93ab1",
   "metadata": {},
   "outputs": [
    {
     "name": "stdout",
     "output_type": "stream",
     "text": [
      "10\n",
      "20.54\n",
      "True\n",
      "I am the best\n"
     ]
    }
   ],
   "source": [
    "# exercise\n",
    "\n",
    "a = int\n",
    "b = float\n",
    "c = bool\n",
    "d = str\n",
    "\n",
    "a = 10\n",
    "b = 20.54\n",
    "c = True\n",
    "d = \"I am the best\"\n",
    "\n",
    "print(a)\n",
    "print(b)\n",
    "print(c)\n",
    "print(d)"
   ]
  },
  {
   "cell_type": "code",
   "execution_count": 36,
   "id": "a853f032",
   "metadata": {},
   "outputs": [
    {
     "name": "stdout",
     "output_type": "stream",
     "text": [
      "[10, 20, 'name', -10, 30.5]\n",
      "-10\n",
      "[-10, 30.5]\n",
      "[10, 20, 'name', -10, 30.5, 10, 20, 'name', -10, 30.5, 10, 20, 'name', -10, 30.5, 10, 20, 'name', -10, 30.5]\n",
      "5\n",
      "[10, 20, 'name', -10, 30.5, 40]\n",
      "[10, 20, -10, 30.5, 40]\n",
      "[10, -10, 30.5, 40]\n",
      "40\n",
      "-10\n",
      "[10, -10, 30.5, 99, 40]\n",
      "[99, 40, 30.5, 10, -10]\n"
     ]
    }
   ],
   "source": [
    "# list\n",
    "lst = [10, 20, \"name\", -10, 30.5]\n",
    "\n",
    "# print\n",
    "print(lst)\n",
    "\n",
    "# index\n",
    "print(lst[3])\n",
    "print(lst[3:5])\n",
    "\n",
    "# multiply\n",
    "print(lst * 4)\n",
    "\n",
    "# length\n",
    "print(len(lst))\n",
    "\n",
    "# append\n",
    "lst.append(40)\n",
    "print(lst)\n",
    "\n",
    "# remove by value\n",
    "lst.remove(\"name\")\n",
    "print(lst)\n",
    "\n",
    "# remove the first list element\n",
    "del(lst[1])\n",
    "print(lst)\n",
    "\n",
    "# max/min\n",
    "print(max(lst))\n",
    "print(min(lst))\n",
    "\n",
    "# insert\n",
    "lst.insert(3, 99)\n",
    "print(lst)\n",
    "\n",
    "lst.sort(reverse = True)\n",
    "print(lst)"
   ]
  },
  {
   "cell_type": "code",
   "execution_count": 40,
   "id": "b8d8f659",
   "metadata": {},
   "outputs": [
    {
     "name": "stdout",
     "output_type": "stream",
     "text": [
      "(20, 30, 40, 50, 'xyz')\n",
      "<class 'tuple'>\n",
      "(20, 30, 40, 50, 'xyz', 20, 30, 40, 50, 'xyz', 20, 30, 40, 50, 'xyz')\n",
      "4\n",
      "(5, 6, 'a')\n"
     ]
    }
   ],
   "source": [
    "# Tuple\n",
    "# can not be modified, immutable\n",
    "# insertion order\n",
    "# duplicates are ok\n",
    "# different types are ok\n",
    "\n",
    "tpl = (20, 30, 40, 50, 'xyz')\n",
    "print(tpl)\n",
    "print(type(tpl))\n",
    "print(tpl * 3)\n",
    "print(tpl.index('xyz'))\n",
    "\n",
    "# cast\n",
    "lst = [5,6, 'a']\n",
    "print(tuple(lst))"
   ]
  },
  {
   "cell_type": "code",
   "execution_count": 46,
   "id": "ef158ff4",
   "metadata": {},
   "outputs": [
    {
     "name": "stdout",
     "output_type": "stream",
     "text": [
      "{'xyz', 10, 20, 30}\n",
      "{99, 10, 20, 88, 'xyz', 30}\n",
      "<class 'set'>\n",
      "{99, 10, 20, 88, 'xyz'}\n"
     ]
    }
   ],
   "source": [
    "# set\n",
    "s = {10, 20, 30, 'xyz', 10, 20, 30}\n",
    "print(s)\n",
    "s.update([88, 99])\n",
    "print(s)\n",
    "print(type(s))\n",
    "\n",
    "# print(s * 3) will throw an error\n",
    "\n",
    "s.remove(30)\n",
    "print(s)\n",
    "\n",
    "f = frozenset(s)\n",
    "# f.update(7) will throw an error\n",
    "# f.remove(10) will throw an error\n"
   ]
  },
  {
   "cell_type": "code",
   "execution_count": 48,
   "id": "79f51b71",
   "metadata": {},
   "outputs": [
    {
     "name": "stdout",
     "output_type": "stream",
     "text": [
      "1\n",
      "4\n",
      "7\n",
      "10\n",
      "13\n"
     ]
    }
   ],
   "source": [
    "# range\n",
    "r = range(1, 15, 3)\n",
    "\n",
    "for i in r:\n",
    "    print(i)"
   ]
  },
  {
   "cell_type": "code",
   "execution_count": 52,
   "id": "96a85c17",
   "metadata": {},
   "outputs": [
    {
     "name": "stdout",
     "output_type": "stream",
     "text": [
      "<class 'bytes'>\n",
      "<class 'bytearray'>\n",
      "bytearray(b'\\x01\\x03\\x14')\n"
     ]
    }
   ],
   "source": [
    "# list\n",
    "lst = [1, 3, 4]\n",
    "b = bytes(lst)\n",
    "print(type(b))\n",
    "# b[1] = 0 will throw an arrow \n",
    "\n",
    "# bytearray assignments work\n",
    "b1 = bytearray(lst)\n",
    "print(type(b1))\n",
    "b1[2] = 20\n",
    "print(b1)"
   ]
  },
  {
   "cell_type": "code",
   "execution_count": 56,
   "id": "b8a6eec6",
   "metadata": {},
   "outputs": [
    {
     "name": "stdout",
     "output_type": "stream",
     "text": [
      "{1: 'john', 2: 'bob', 3: 'bill'}\n",
      "dict_items([(1, 'john'), (2, 'bob'), (3, 'bill')])\n",
      "1\n",
      "2\n",
      "3\n",
      "john\n",
      "bob\n",
      "bill\n",
      "bill\n",
      "{1: 'john', 3: 'bill'}\n"
     ]
    }
   ],
   "source": [
    "# dict\n",
    "dict1 = {1: \"john\", 2: \"bob\", 3: \"bill\"}\n",
    "print(dict1)\n",
    "print(dict1.items())\n",
    "k = dict1.keys()\n",
    "for i in k: print(i)\n",
    "for i in dict1.values(): print(i)\n",
    "print(dict1[3])\n",
    "del dict1[2]\n",
    "print(dict1)"
   ]
  },
  {
   "cell_type": "code",
   "execution_count": 59,
   "id": "3bf88911",
   "metadata": {},
   "outputs": [
    {
     "name": "stdout",
     "output_type": "stream",
     "text": [
      "94819118089760\n",
      "94819118089760\n",
      "True\n",
      "94819118089760\n",
      "94819118089440\n",
      "False\n",
      "139738708230768\n",
      "139738708230768\n",
      "True\n"
     ]
    }
   ],
   "source": [
    "a = 20\n",
    "b = 20\n",
    "print(id(a))\n",
    "print(id(b))\n",
    "print(a is b)\n",
    "\n",
    "a = 20\n",
    "b = 10\n",
    "print(id(a))\n",
    "print(id(b))\n",
    "print(a is b)\n",
    "\n",
    "a = \"Hi\"\n",
    "b = \"Hi\"\n",
    "print(id(a))\n",
    "print(id(b))\n",
    "print(a is b)"
   ]
  },
  {
   "cell_type": "code",
   "execution_count": 63,
   "id": "7afdcacd",
   "metadata": {},
   "outputs": [],
   "source": [
    "# exercise\n",
    "countries = [\"South-Africa\", \"Marocco\", \"Spain\"]\n",
    "countries.append(\"Brazil\")\n",
    "del countries[2]\n",
    "countries.insert(2, \"Norway\")\n",
    "\n",
    "countries1 = {\"Hungary\", \"India\", \"Japan\"}\n",
    "countries1.remove(\"Hungary\")\n",
    "countries2 = {\"Switzerland\"}\n",
    "countries1.update(countries2)\n"
   ]
  },
  {
   "cell_type": "code",
   "execution_count": 4,
   "id": "f155fd05",
   "metadata": {},
   "outputs": [
    {
     "name": "stdout",
     "output_type": "stream",
     "text": [
      "None\n",
      "None\n"
     ]
    }
   ],
   "source": [
    "# None type\n",
    "def m1():\n",
    "    a = 10\n",
    "\n",
    "print(m1())\n",
    "a = None\n",
    "\n",
    "print(a)"
   ]
  },
  {
   "cell_type": "code",
   "execution_count": 6,
   "id": "c17b8fd7",
   "metadata": {},
   "outputs": [],
   "source": [
    "# Constant\n",
    "# Capitalized, can be changed but is a convention not to change this \n",
    "PI = 3.14 "
   ]
  },
  {
   "cell_type": "code",
   "execution_count": 11,
   "id": "08018a4c",
   "metadata": {},
   "outputs": [],
   "source": [
    "# del\n",
    "a = 10\n",
    "del a\n",
    "# print(a) not defined\n",
    "\n",
    "s = 'abcd'\n",
    "# del s[0] # no item deletion in a immutable type or oject, will throw an error\n"
   ]
  },
  {
   "cell_type": "code",
   "execution_count": 21,
   "id": "29e84e26",
   "metadata": {},
   "outputs": [
    {
     "name": "stdout",
     "output_type": "stream",
     "text": [
      "Hello § world\n",
      "Hello § world §  Hi\n",
      "This is Hello to the world\n",
      "This is Hello to the world with 10.455\n",
      "Name is Hello on world with 10.4546\n",
      "Name is Hello on world with 10.4546\n"
     ]
    }
   ],
   "source": [
    "# print \n",
    "a = \"Hello\"\n",
    "b = \"world\"\n",
    "c = \" Hi\"\n",
    "n = 10.4546\n",
    "\n",
    "print(a,b,sep=\" § \")\n",
    "print(a,b, c,sep=\" § \")\n",
    "\n",
    "print(\"This is %s to the %s\"%(a,b))\n",
    "\n",
    "print(\"This is %s to the %s with %.3f\"%(a, b, n))\n",
    "\n",
    "print(\"Name is {} on {} with {}\".format(a, b, n))\n",
    "\n",
    "h = \"Name is {} on {} with {}\".format(a, b, n)\n",
    "print(h)"
   ]
  },
  {
   "cell_type": "code",
   "execution_count": 7,
   "id": "1c4e2374",
   "metadata": {},
   "outputs": [
    {
     "name": "stdout",
     "output_type": "stream",
     "text": [
      "Enter three numbers: 3 5 6\n",
      "3\n",
      "5\n",
      "6\n",
      "Enter three numbers seperated by comma 2,3,4\n",
      "['2', '3', '4']\n"
     ]
    }
   ],
   "source": [
    "# input function\n",
    "for x in input(\"Enter three numbers: \").split():\n",
    "    print(x)\n",
    "    \n",
    "lst = [x for x in input(\"Enter three numbers seperated by comma \").split(\",\")]\n",
    "print(lst)\n",
    "\n"
   ]
  },
  {
   "cell_type": "code",
   "execution_count": 8,
   "id": "58790264",
   "metadata": {},
   "outputs": [
    {
     "name": "stdout",
     "output_type": "stream",
     "text": [
      "How many Players? 2\n",
      "Name? Tina\n",
      "Hobby? Foils\n",
      "Name? John\n",
      "Hobby? Metal\n",
      "{'Tina': 'Foils', 'John': 'Metal'}\n"
     ]
    }
   ],
   "source": [
    "n = int(input(\"How many Players? \"))\n",
    "player = {}\n",
    "for i in range(n):\n",
    "    name = input(\"Name? \")\n",
    "    hobby = input(\"Hobby? \")\n",
    "    player[name] = hobby\n",
    "print(player)"
   ]
  },
  {
   "cell_type": "code",
   "execution_count": 2,
   "id": "4c200f08",
   "metadata": {},
   "outputs": [
    {
     "name": "stdout",
     "output_type": "stream",
     "text": [
      "Vegan-cheese\n",
      "Lettuce\n",
      "Tomato-Sauce\n",
      "Onions\n",
      "Pickles\n",
      "Garlic\n",
      "Pick three toppings, seperate by spaceVegan-cheese Lettuce Tomato-Sauce\n",
      "How many Sandwiches, type a number30\n",
      "150 is the total price\n"
     ]
    }
   ],
   "source": [
    "# Exercise\n",
    "topping = ['Vegan-cheese', 'Lettuce', 'Tomato-Sauce', 'Onions', 'Pickles', 'Garlic']\n",
    "for i in topping:\n",
    "    print(i)\n",
    "pick = [x for x in input('Pick three toppings, seperate by space').split()]\n",
    "cost = int(input('How many Sandwiches, type a number'))\n",
    "print('{} is the total price'.format(cost*5))"
   ]
  },
  {
   "cell_type": "code",
   "execution_count": 5,
   "id": "cdeb6870",
   "metadata": {},
   "outputs": [
    {
     "name": "stdout",
     "output_type": "stream",
     "text": [
      "Input a number greater 10: 78\n",
      "You entered  78\n"
     ]
    }
   ],
   "source": [
    "# Flow --> mostly covered in Python for absolute beginners\n",
    "x = int(input(\"Input a number greater 10: \"))\n",
    "assert x>10, \"Wrong number\" # will show an assertion error\n",
    "print(\"You entered \",x)\n"
   ]
  },
  {
   "cell_type": "code",
   "execution_count": 9,
   "id": "3177e3d7",
   "metadata": {},
   "outputs": [
    {
     "name": "stdout",
     "output_type": "stream",
     "text": [
      "Enter a stringhallo world\n",
      "dlrow ollah\n"
     ]
    }
   ],
   "source": [
    "# reverse a string\n",
    "s = input(\"Enter a string\")\n",
    "print(''.join(reversed(s)))"
   ]
  },
  {
   "cell_type": "code",
   "execution_count": 10,
   "id": "016fb337",
   "metadata": {},
   "outputs": [
    {
     "name": "stdout",
     "output_type": "stream",
     "text": [
      "/home/haniel/anaconda3/lib/python3.7/site-packages/ipykernel_launcher.py\n",
      "-f\n",
      "/home/haniel/.local/share/jupyter/runtime/kernel-4abbb949-6ab3-4612-b5bd-f0b0b0899215.json\n",
      "3\n"
     ]
    }
   ],
   "source": [
    "# command line arguments\n",
    "import sys\n",
    "lst = sys.argv\n",
    "for i in lst: print(i)\n",
    "print(len(lst))"
   ]
  },
  {
   "cell_type": "code",
   "execution_count": 15,
   "id": "8556e653",
   "metadata": {},
   "outputs": [
    {
     "name": "stdout",
     "output_type": "stream",
     "text": [
      "678\n",
      "123\n"
     ]
    }
   ],
   "source": [
    "# functions accessing global variables\n",
    "x = 123\n",
    "\n",
    "def display():\n",
    "    x = 678\n",
    "    def printLocal(x):\n",
    "        print(x)\n",
    "    printLocal(x)\n",
    "    print(globals()['x'])\n",
    "    \n",
    "display()"
   ]
  },
  {
   "cell_type": "code",
   "execution_count": 16,
   "id": "eea5a4d9",
   "metadata": {},
   "outputs": [
    {
     "name": "stdout",
     "output_type": "stream",
     "text": [
      "678\n",
      "123\n",
      "678\n",
      "123\n"
     ]
    }
   ],
   "source": [
    "# assign function to a variable\n",
    "\n",
    "z = display\n",
    "z()\n",
    "z()"
   ]
  },
  {
   "cell_type": "code",
   "execution_count": 27,
   "id": "6f0d935d",
   "metadata": {},
   "outputs": [
    {
     "name": "stdout",
     "output_type": "stream",
     "text": [
      "678\n",
      "123\n",
      "returned\n",
      "678\n",
      "123\n",
      "returned\n"
     ]
    }
   ],
   "source": [
    "# pass function as a parameter and returning function, anything can be passed to a function, defaults\n",
    "def printLocal(x):\n",
    "    print(x)\n",
    "\n",
    "def display(p=printLocal):\n",
    "    x = 678\n",
    "    p(x)\n",
    "    print(globals()['x'])\n",
    "    def returnMe():\n",
    "        print(\"returned\")\n",
    "    return returnMe\n",
    "    \n",
    "returned = display(printLocal)\n",
    "returned()\n",
    "returned = display()\n",
    "returned()"
   ]
  },
  {
   "cell_type": "code",
   "execution_count": 26,
   "id": "7b261367",
   "metadata": {},
   "outputs": [
    {
     "name": "stdout",
     "output_type": "stream",
     "text": [
      "3628800\n",
      "3628800\n"
     ]
    }
   ],
   "source": [
    "# recursion\n",
    "def factorial1(n):\n",
    "    if n == 0:\n",
    "        return 1\n",
    "    else:\n",
    "        return n*factorial(n-1)\n",
    "n = factorial1(10)\n",
    "print(n)\n",
    "\n",
    "def factorial2(n):\n",
    "    if n == 0:\n",
    "        result = 1\n",
    "    else:\n",
    "        result = n * factorial(n - 1)\n",
    "    return result\n",
    "\n",
    "n = factorial2(10)\n",
    "print(n)"
   ]
  },
  {
   "cell_type": "code",
   "execution_count": 39,
   "id": "3f1f731a",
   "metadata": {},
   "outputs": [
    {
     "name": "stdout",
     "output_type": "stream",
     "text": [
      "10\n",
      "(20, 30, 40)\n",
      "{'name': 'Kim'}\n",
      "name Kim\n",
      "(20, 30, 40)\n",
      "{'name': 'Kim'}\n"
     ]
    }
   ],
   "source": [
    "# arguments\n",
    "# keyword arguments\n",
    "# args and kwargs may have any name\n",
    "# pass on args and kwargs\n",
    "def passIt(*x, **y):\n",
    "    print(x)\n",
    "    print(y)\n",
    "\n",
    "def myfun(x, *args, **kwargs):\n",
    "    print(x)\n",
    "    print(args)\n",
    "    print(kwargs)\n",
    "    for key, value in kwargs.items():\n",
    "        print(key, value)\n",
    "    passIt(*args, **kwargs)\n",
    "    \n",
    "myfun(10, 20, 30, 40, name=\"Kim\")"
   ]
  },
  {
   "cell_type": "code",
   "execution_count": 65,
   "id": "f9b1447d",
   "metadata": {},
   "outputs": [
    {
     "name": "stdout",
     "output_type": "stream",
     "text": [
      "361\n",
      "27\n",
      "27\n",
      "Yes\n",
      "[10, 2, 2]\n",
      "[20, 4, 4]\n",
      "28\n",
      "10\n",
      "10\n",
      "3.3333333333333335\n",
      "\n",
      "\n",
      "10\n",
      "11\n",
      "12\n",
      "13\n",
      "14\n",
      "15\n",
      "16\n",
      "17\n",
      "['False', 'None', 'True', 'and', 'as', 'assert', 'async', 'await', 'break', 'class', 'continue', 'def', 'del', 'elif', 'else', 'except', 'finally', 'for', 'from', 'global', 'if', 'import', 'in', 'is', 'lambda', 'nonlocal', 'not', 'or', 'pass', 'raise', 'return', 'try', 'while', 'with', 'yield']\n"
     ]
    }
   ],
   "source": [
    "# lambdas Anonymous functions\n",
    "f = lambda x:x*x\n",
    "result = f(19)\n",
    "print(result)\n",
    "\n",
    "# usually used in other functions such as map, reduce ...\n",
    "def cube(n):\n",
    "    return n**3\n",
    "\n",
    "print(cube(3))\n",
    "\n",
    "f = lambda n:n**3\n",
    "print(f(3))\n",
    "\n",
    "l = lambda x: 'Yes' if x%2 == 0 else 'No'\n",
    "print(l(10))\n",
    "\n",
    "s = lambda a,b: a + b\n",
    "s(3,4)\n",
    "\n",
    "lst = [10, 2, 33, 45, 89, 2]\n",
    "lst = list(filter(lambda x: x%2==0, lst))\n",
    "print(lst)\n",
    "\n",
    "# map\n",
    "lst = list(map(lambda n: n*2, lst))\n",
    "print(lst)\n",
    "\n",
    "# reduce\n",
    "from functools import reduce\n",
    "#reduce(function, sequence)\n",
    "lst = reduce(lambda x,y:x+y, lst)\n",
    "print(lst)\n",
    "\n",
    "# decorator\n",
    "def decor(fun):\n",
    "    def inner():\n",
    "        result = fun()\n",
    "        return result * 2\n",
    "    return inner\n",
    "\n",
    "def num():\n",
    "    return 5\n",
    "\n",
    "resultFun = decor(num)\n",
    "print(resultFun())\n",
    "\n",
    "# @decor\n",
    "# decorator\n",
    "def decor(fun):\n",
    "    def inner():\n",
    "        result = fun()\n",
    "        return result * 2\n",
    "    return inner\n",
    "\n",
    "@decor\n",
    "def num():\n",
    "    return 5\n",
    "\n",
    "print(num())\n",
    "\n",
    "# chain decorators\n",
    "def square(fun):\n",
    "    def inner():\n",
    "        n = fun()\n",
    "        return n/3\n",
    "    return inner\n",
    "\n",
    "@square\n",
    "@decor\n",
    "def num1():\n",
    "    return 5\n",
    "\n",
    "print(num1())\n",
    "\n",
    "print(\"\\n\")\n",
    "# generators\n",
    "def customgen(x,y):\n",
    "    while x < y:\n",
    "        yield x\n",
    "        x += 1\n",
    "        \n",
    "result = customgen(10,18)\n",
    "\n",
    "for i in result:print(i)\n",
    "    \n",
    "# dont use keywords for variables, functions etc. so lets check them\n",
    "import keyword\n",
    "print(keyword.kwlist)"
   ]
  },
  {
   "cell_type": "code",
   "execution_count": 6,
   "id": "7158ecfa",
   "metadata": {},
   "outputs": [
    {
     "name": "stdout",
     "output_type": "stream",
     "text": [
      "3.0\n",
      "8\n",
      "7\n",
      "2.2\n",
      "['__doc__', '__file__', '__loader__', '__name__', '__package__', '__spec__', 'acos', 'acosh', 'asin', 'asinh', 'atan', 'atan2', 'atanh', 'ceil', 'copysign', 'cos', 'cosh', 'degrees', 'e', 'erf', 'erfc', 'exp', 'expm1', 'fabs', 'factorial', 'floor', 'fmod', 'frexp', 'fsum', 'gamma', 'gcd', 'hypot', 'inf', 'isclose', 'isfinite', 'isinf', 'isnan', 'ldexp', 'lgamma', 'log', 'log10', 'log1p', 'log2', 'modf', 'nan', 'pi', 'pow', 'radians', 'remainder', 'sin', 'sinh', 'sqrt', 'tan', 'tanh', 'tau', 'trunc']\n",
      "Help on module math:\n",
      "\n",
      "NAME\n",
      "    math\n",
      "\n",
      "MODULE REFERENCE\n",
      "    https://docs.python.org/3.7/library/math\n",
      "    \n",
      "    The following documentation is automatically generated from the Python\n",
      "    source files.  It may be incomplete, incorrect or include features that\n",
      "    are considered implementation detail and may vary between Python\n",
      "    implementations.  When in doubt, consult the module reference at the\n",
      "    location listed above.\n",
      "\n",
      "DESCRIPTION\n",
      "    This module provides access to the mathematical functions\n",
      "    defined by the C standard.\n",
      "\n",
      "FUNCTIONS\n",
      "    acos(x, /)\n",
      "        Return the arc cosine (measured in radians) of x.\n",
      "    \n",
      "    acosh(x, /)\n",
      "        Return the inverse hyperbolic cosine of x.\n",
      "    \n",
      "    asin(x, /)\n",
      "        Return the arc sine (measured in radians) of x.\n",
      "    \n",
      "    asinh(x, /)\n",
      "        Return the inverse hyperbolic sine of x.\n",
      "    \n",
      "    atan(x, /)\n",
      "        Return the arc tangent (measured in radians) of x.\n",
      "    \n",
      "    atan2(y, x, /)\n",
      "        Return the arc tangent (measured in radians) of y/x.\n",
      "        \n",
      "        Unlike atan(y/x), the signs of both x and y are considered.\n",
      "    \n",
      "    atanh(x, /)\n",
      "        Return the inverse hyperbolic tangent of x.\n",
      "    \n",
      "    ceil(x, /)\n",
      "        Return the ceiling of x as an Integral.\n",
      "        \n",
      "        This is the smallest integer >= x.\n",
      "    \n",
      "    copysign(x, y, /)\n",
      "        Return a float with the magnitude (absolute value) of x but the sign of y.\n",
      "        \n",
      "        On platforms that support signed zeros, copysign(1.0, -0.0)\n",
      "        returns -1.0.\n",
      "    \n",
      "    cos(x, /)\n",
      "        Return the cosine of x (measured in radians).\n",
      "    \n",
      "    cosh(x, /)\n",
      "        Return the hyperbolic cosine of x.\n",
      "    \n",
      "    degrees(x, /)\n",
      "        Convert angle x from radians to degrees.\n",
      "    \n",
      "    erf(x, /)\n",
      "        Error function at x.\n",
      "    \n",
      "    erfc(x, /)\n",
      "        Complementary error function at x.\n",
      "    \n",
      "    exp(x, /)\n",
      "        Return e raised to the power of x.\n",
      "    \n",
      "    expm1(x, /)\n",
      "        Return exp(x)-1.\n",
      "        \n",
      "        This function avoids the loss of precision involved in the direct evaluation of exp(x)-1 for small x.\n",
      "    \n",
      "    fabs(x, /)\n",
      "        Return the absolute value of the float x.\n",
      "    \n",
      "    factorial(x, /)\n",
      "        Find x!.\n",
      "        \n",
      "        Raise a ValueError if x is negative or non-integral.\n",
      "    \n",
      "    floor(x, /)\n",
      "        Return the floor of x as an Integral.\n",
      "        \n",
      "        This is the largest integer <= x.\n",
      "    \n",
      "    fmod(x, y, /)\n",
      "        Return fmod(x, y), according to platform C.\n",
      "        \n",
      "        x % y may differ.\n",
      "    \n",
      "    frexp(x, /)\n",
      "        Return the mantissa and exponent of x, as pair (m, e).\n",
      "        \n",
      "        m is a float and e is an int, such that x = m * 2.**e.\n",
      "        If x is 0, m and e are both 0.  Else 0.5 <= abs(m) < 1.0.\n",
      "    \n",
      "    fsum(seq, /)\n",
      "        Return an accurate floating point sum of values in the iterable seq.\n",
      "        \n",
      "        Assumes IEEE-754 floating point arithmetic.\n",
      "    \n",
      "    gamma(x, /)\n",
      "        Gamma function at x.\n",
      "    \n",
      "    gcd(x, y, /)\n",
      "        greatest common divisor of x and y\n",
      "    \n",
      "    hypot(x, y, /)\n",
      "        Return the Euclidean distance, sqrt(x*x + y*y).\n",
      "    \n",
      "    isclose(a, b, *, rel_tol=1e-09, abs_tol=0.0)\n",
      "        Determine whether two floating point numbers are close in value.\n",
      "        \n",
      "          rel_tol\n",
      "            maximum difference for being considered \"close\", relative to the\n",
      "            magnitude of the input values\n",
      "          abs_tol\n",
      "            maximum difference for being considered \"close\", regardless of the\n",
      "            magnitude of the input values\n",
      "        \n",
      "        Return True if a is close in value to b, and False otherwise.\n",
      "        \n",
      "        For the values to be considered close, the difference between them\n",
      "        must be smaller than at least one of the tolerances.\n",
      "        \n",
      "        -inf, inf and NaN behave similarly to the IEEE 754 Standard.  That\n",
      "        is, NaN is not close to anything, even itself.  inf and -inf are\n",
      "        only close to themselves.\n",
      "    \n",
      "    isfinite(x, /)\n",
      "        Return True if x is neither an infinity nor a NaN, and False otherwise.\n",
      "    \n",
      "    isinf(x, /)\n",
      "        Return True if x is a positive or negative infinity, and False otherwise.\n",
      "    \n",
      "    isnan(x, /)\n",
      "        Return True if x is a NaN (not a number), and False otherwise.\n",
      "    \n",
      "    ldexp(x, i, /)\n",
      "        Return x * (2**i).\n",
      "        \n",
      "        This is essentially the inverse of frexp().\n",
      "    \n",
      "    lgamma(x, /)\n",
      "        Natural logarithm of absolute value of Gamma function at x.\n",
      "    \n",
      "    log(...)\n",
      "        log(x, [base=math.e])\n",
      "        Return the logarithm of x to the given base.\n",
      "        \n",
      "        If the base not specified, returns the natural logarithm (base e) of x.\n",
      "    \n",
      "    log10(x, /)\n",
      "        Return the base 10 logarithm of x.\n",
      "    \n",
      "    log1p(x, /)\n",
      "        Return the natural logarithm of 1+x (base e).\n",
      "        \n",
      "        The result is computed in a way which is accurate for x near zero.\n",
      "    \n",
      "    log2(x, /)\n",
      "        Return the base 2 logarithm of x.\n",
      "    \n",
      "    modf(x, /)\n",
      "        Return the fractional and integer parts of x.\n",
      "        \n",
      "        Both results carry the sign of x and are floats.\n",
      "    \n",
      "    pow(x, y, /)\n",
      "        Return x**y (x to the power of y).\n",
      "    \n",
      "    radians(x, /)\n",
      "        Convert angle x from degrees to radians.\n",
      "    \n",
      "    remainder(x, y, /)\n",
      "        Difference between x and the closest integer multiple of y.\n",
      "        \n",
      "        Return x - n*y where n*y is the closest integer multiple of y.\n",
      "        In the case where x is exactly halfway between two multiples of\n",
      "        y, the nearest even value of n is used. The result is always exact.\n",
      "    \n",
      "    sin(x, /)\n",
      "        Return the sine of x (measured in radians).\n",
      "    \n",
      "    sinh(x, /)\n",
      "        Return the hyperbolic sine of x.\n",
      "    \n",
      "    sqrt(x, /)\n",
      "        Return the square root of x.\n",
      "    \n",
      "    tan(x, /)\n",
      "        Return the tangent of x (measured in radians).\n",
      "    \n",
      "    tanh(x, /)\n",
      "        Return the hyperbolic tangent of x.\n",
      "    \n",
      "    trunc(x, /)\n",
      "        Truncates the Real x to the nearest Integral toward 0.\n",
      "        \n",
      "        Uses the __trunc__ magic method.\n",
      "\n",
      "DATA\n",
      "    e = 2.718281828459045\n",
      "    inf = inf\n",
      "    nan = nan\n",
      "    pi = 3.141592653589793\n",
      "    tau = 6.283185307179586\n",
      "\n",
      "FILE\n",
      "    /home/haniel/anaconda3/lib/python3.7/lib-dynload/math.cpython-37m-x86_64-linux-gnu.so\n",
      "\n",
      "\n"
     ]
    }
   ],
   "source": [
    "# modules\n",
    "from math import *\n",
    "\n",
    "print(sqrt(9))\n",
    "print(ceil(8))\n",
    "print(floor(7.9))\n",
    "print(fabs(-2.2))\n",
    "\n",
    "# print module functions\n",
    "print(dir(math))\n",
    "\n",
    "# help \n",
    "help(math)\n"
   ]
  },
  {
   "cell_type": "code",
   "execution_count": 18,
   "id": "416eec6a",
   "metadata": {},
   "outputs": [
    {
     "name": "stdout",
     "output_type": "stream",
     "text": [
      "0.9338747109190088\n",
      "0.7503729423102764\n",
      "0.8739319235827789\n",
      "16\n",
      "49\n",
      "36\n",
      "46.20528493933439\n",
      "22.14159425759591\n",
      "8.679557835618121\n",
      "45\n",
      "15\n",
      "30\n",
      "super\n",
      "22\n",
      "jfk\n",
      "jfk\n",
      "jfk\n"
     ]
    }
   ],
   "source": [
    "# modules\n",
    "from random import *\n",
    "\n",
    "for i in range(3):\n",
    "    print(random())\n",
    "for i in range(3):\n",
    "    print(randint(1,50))\n",
    "for i in range(3):\n",
    "    print(uniform(1,50))\n",
    "for i in range(3):\n",
    "    print(randrange(5,50, 5))\n",
    "lst = ['22', 'super', 'jfk', 38, \"ist\", 'hey']\n",
    "for i in range(5):\n",
    "    print(choice(lst))"
   ]
  },
  {
   "cell_type": "code",
   "execution_count": 28,
   "id": "6bb2fa8e",
   "metadata": {},
   "outputs": [
    {
     "name": "stdout",
     "output_type": "stream",
     "text": [
      "[1, 8, 27, 64, 125, 216, 343, 512, 729, 1000]\n",
      "[1, 8, 27, 64, 125, 216, 343, 512, 729, 1000]\n",
      "[0, 2, 4, 6, 8, 10, 12, 14, 16, 18, 20]\n",
      "[15, 8, -5, -24]\n",
      "[6]\n"
     ]
    }
   ],
   "source": [
    "# list comprehension\n",
    "lst = []\n",
    "for x in range(1,11):\n",
    "    lst.append(x**3)\n",
    "print(lst)\n",
    "\n",
    "lst = [x**3 for x in range(1,11)]\n",
    "print(lst)\n",
    "\n",
    "lst = [x for x in range(0,21) if x%2==0]\n",
    "print(lst)\n",
    "\n",
    "a = [2,3,4,5,6]\n",
    "b = [8,5,2,-1,-4]\n",
    "z = [a[i] * b[i] for i in range(1,len(a))]\n",
    "print(z)\n",
    "\n",
    "a = [2,4,6,8]\n",
    "b = [1,2,6,4]\n",
    "result = []\n",
    "z = [a[i] for i in range(1,len(a)) if a[i] == b[i]]\n",
    "print(z)"
   ]
  },
  {
   "cell_type": "code",
   "execution_count": 31,
   "id": "dc33786f",
   "metadata": {},
   "outputs": [
    {
     "name": "stdout",
     "output_type": "stream",
     "text": [
      "IPhone! It's awesome? 700\n"
     ]
    }
   ],
   "source": [
    "# OOP\n",
    "class Product:\n",
    "    def __init__(self):\n",
    "        self.name = 'IPhone!'\n",
    "        self.description = 'It\\'s awesome?'\n",
    "        self.price = 700\n",
    "\n",
    "p1 = Product()\n",
    "print(p1.name, p1.description, p1.price)"
   ]
  },
  {
   "cell_type": "code",
   "execution_count": 36,
   "id": "2569e280",
   "metadata": {},
   "outputs": [
    {
     "name": "stdout",
     "output_type": "stream",
     "text": [
      "Java Data course: [1, 9, 9, 4, 5]\n",
      "Java Web course: [5, 6, 3, 4, 5]\n",
      "Average Ratings for  Java Data course:  is  5.6\n",
      "Average Ratings for  Java Web course:  is  4.6\n"
     ]
    }
   ],
   "source": [
    "class Course:\n",
    "    def __init__(self, name, ratings):\n",
    "        self.name = name\n",
    "        self.ratings = ratings\n",
    "        \n",
    "    def average(self):\n",
    "        numberOfRatings = len(self.ratings)\n",
    "        average = sum(self.ratings)/numberOfRatings\n",
    "        print(\"Average Ratings for \", self.name, \" is \", average)\n",
    "\n",
    "c1 = Course(\"Java Data course:\", [1,9,9,4,5])\n",
    "print(c1.name, c1.ratings)\n",
    "\n",
    "c2 = Course(\"Java Web course:\", [5,6,3,4,5])\n",
    "print(c2.name, c2.ratings)\n",
    "\n",
    "c1.average()\n",
    "c2.average()"
   ]
  },
  {
   "cell_type": "code",
   "execution_count": 65,
   "id": "e6c2c4b6",
   "metadata": {},
   "outputs": [
    {
     "name": "stdout",
     "output_type": "stream",
     "text": [
      "Hello people!\n",
      "Zeni 100000 ['java', 'docker', 'ansible'] STEM\n",
      "inside destructor\n",
      "inside destructor\n",
      "Kevin 110000 ['python', 'kubernetes', 'aws'] STEM\n",
      "2\n",
      "True\n"
     ]
    }
   ],
   "source": [
    "# setter and getter are the mutuator methods\n",
    "\n",
    "class Programmer:\n",
    "    major = 'STEM'\n",
    "    numberOfProgrammer = 0\n",
    "    def __init__(self):\n",
    "        self.__college = True # __ hide field\n",
    "        Programmer.numberOfProgrammer += 1\n",
    "    def setName(self, n):\n",
    "        self.name = n\n",
    "    def getName(self):\n",
    "        return self.name\n",
    "    def setSalary(self, sal):\n",
    "        self.salary = sal\n",
    "    def getSalary(self):\n",
    "        return self.salary\n",
    "    def setTechnologies(self, technologies):\n",
    "        self.technologies = technologies\n",
    "    def getTechnologies(self):\n",
    "        return self.technologies\n",
    "    \n",
    "    # inner class\n",
    "    class Greeting:\n",
    "        def greet(self):\n",
    "            print(\"Hello people!\")\n",
    "            \n",
    "    def __del__(self):\n",
    "        print(\"inside destructor\")\n",
    "    \n",
    "    @staticmethod\n",
    "    def displayCount():\n",
    "        print(Programmer.numberOfProgrammer)\n",
    "        \n",
    "    \n",
    "p1 = Programmer()\n",
    "p1.setName(\"Zeni\")\n",
    "p1.setSalary(100000)\n",
    "p1.setTechnologies([\"java\", \"docker\", \"ansible\"])\n",
    "speak = p1.Greeting()\n",
    "speak.greet()\n",
    "\n",
    "print(p1.name, p1.salary, p1.technologies, p1.major)\n",
    "p1 = None\n",
    "\n",
    "p2 = Programmer()\n",
    "p2.setName(\"Kevin\")\n",
    "p2.setSalary(110000)\n",
    "p2.setTechnologies([\"python\", \"kubernetes\", \"aws\"])\n",
    "\n",
    "print(p2.name, p2.salary, p2.technologies, p2.major)\n",
    "\n",
    "Programmer.displayCount()    \n",
    "\n",
    "# access a 'private' field, name mangling\n",
    "print(p2._Programmer__college)"
   ]
  },
  {
   "cell_type": "code",
   "execution_count": 66,
   "id": "31a6173e",
   "metadata": {},
   "outputs": [],
   "source": [
    "# methods any name, when invorked, any number of times\n",
    "# constructor __init__, authomatically"
   ]
  },
  {
   "cell_type": "code",
   "execution_count": 67,
   "id": "2d63b343",
   "metadata": {},
   "outputs": [
    {
     "name": "stdout",
     "output_type": "stream",
     "text": [
      "True\n",
      "False\n",
      "True\n"
     ]
    }
   ],
   "source": [
    "import gc\n",
    "\n",
    "print(gc.isenabled())\n",
    "gc.disable()\n",
    "print(gc.isenabled())\n",
    "gc.enable()\n",
    "print(gc.isenabled())"
   ]
  },
  {
   "cell_type": "code",
   "execution_count": 30,
   "id": "cf780471",
   "metadata": {},
   "outputs": [
    {
     "name": "stdout",
     "output_type": "stream",
     "text": [
      "True\n",
      "BMW\n",
      "328i\n",
      "2018\n",
      "starting the three series\n",
      "True\n",
      "three series is being driven\n",
      "end ride, please drive again soon\n",
      "starting the five series\n",
      "five series is being driven\n",
      "end ride, please rate your ride in the app\n"
     ]
    }
   ],
   "source": [
    "# Inheritance\n",
    "# Method overriding, achieve 'runtime polymorphism for free' with dynamic types in Python\n",
    "# Abstract classes and interfaces\n",
    "from abc import abstractmethod, ABC\n",
    "\n",
    "# ABC from abc\n",
    "# abstract class can't be instantiated\n",
    "# becomes an interface with all methods abstracted\n",
    "class BMW(ABC):\n",
    "    def __init__(self, make, model, year):\n",
    "        self.make = make\n",
    "        self.model = model\n",
    "        self.year = year\n",
    "    @abstractmethod    \n",
    "    def start(self):\n",
    "        pass\n",
    "    @abstractmethod\n",
    "    def stop(self):\n",
    "       pass    \n",
    "    # child classes need a drive method\n",
    "    @abstractmethod\n",
    "    def drive(self):\n",
    "        pass\n",
    "        \n",
    "class ThreeSeries(BMW):\n",
    "    def __init__(self, cruiseControlEnabled, make, model, year):\n",
    "        BMW.__init__(self, make, model, year)\n",
    "        self.cruiseControlEnabled = cruiseControlEnabled\n",
    "        \n",
    "    def display(self):\n",
    "        print(self.cruiseControlEnabled)\n",
    "        \n",
    "    def drive(self):\n",
    "        print(\"three series is being driven\")\n",
    "        \n",
    "    # overriding respective method for interface\n",
    "    def start(self):\n",
    "        print(\"starting the three series\")\n",
    "    # super with methods\n",
    "    def stop(self):\n",
    "        super().stop()\n",
    "        print(\"end ride, please drive again soon\")\n",
    "        \n",
    "class FiveSeries(BMW):\n",
    "    def __init__(self, parkingAssistEnabled, make, model, year):\n",
    "        # use super instead of BMW.__init__\n",
    "        super().__init__(make, model, year)\n",
    "        self.parkingAssistEnabled = parkingAssistEnabled\n",
    "    # overriding respective method for interface\n",
    "    def start(self):\n",
    "        print(\"starting the five series\")\n",
    "    # super with methods\n",
    "    def stop(self):\n",
    "        super().stop()\n",
    "        print(\"end ride, please rate your ride in the app\")\n",
    "        \n",
    "    def drive(self):\n",
    "        print(\"five series is being driven\")\n",
    "\n",
    "threeSeries = ThreeSeries(True, \"BMW\", \"328i\", \"2018\")\n",
    "print(threeSeries.cruiseControlEnabled)\n",
    "print(threeSeries.make)\n",
    "print(threeSeries.model)\n",
    "print(threeSeries.year)\n",
    "threeSeries.start() # inherited\n",
    "threeSeries.display() # only in three series\n",
    "threeSeries.drive()\n",
    "threeSeries.stop()\n",
    "\n",
    "fiveSeries = FiveSeries(True, \"BMW\", \"5x\", \"2020\")\n",
    "fiveSeries.start()\n",
    "fiveSeries.drive()\n",
    "fiveSeries.stop()"
   ]
  },
  {
   "cell_type": "code",
   "execution_count": 14,
   "id": "1761c987",
   "metadata": {},
   "outputs": [
    {
     "name": "stdout",
     "output_type": "stream",
     "text": [
      "Duck, you dont undertand human talk\n",
      "Human, you don't understand duck talk\n",
      "Starting Airbus Engine\n",
      "Starting Airbus Engine\n"
     ]
    }
   ],
   "source": [
    "# DuckTyping, polymorphism\n",
    "# pass an object to a function\n",
    "def talk(obj):\n",
    "    obj.talk()\n",
    "    \n",
    "class Duck:\n",
    "    def talk(self):\n",
    "        print(\"Human, you don't understand duck talk\")\n",
    "\n",
    "class Human:\n",
    "    def talk(self):\n",
    "        print(\"Duck, you dont undertand human talk\")\n",
    "\n",
    "h=Human()\n",
    "talk(h)\n",
    "\n",
    "d=Duck()\n",
    "talk(d)\n"
   ]
  },
  {
   "cell_type": "code",
   "execution_count": 15,
   "id": "1d0ffc18",
   "metadata": {},
   "outputs": [
    {
     "name": "stdout",
     "output_type": "stream",
     "text": [
      "Starting Airbus Engine\n",
      "Starting Airbus Engine\n"
     ]
    }
   ],
   "source": [
    "# dependency injection\n",
    "class Flight:\n",
    "    def __init__(self, engine):\n",
    "        self.engine = engine\n",
    "    def startEngine(self):\n",
    "        self.engine.start()\n",
    "\n",
    "class AirbusEngine:\n",
    "    def start(self):\n",
    "        print(\"Starting Airbus Engine\")\n",
    "\n",
    "class BoeingEngine:\n",
    "    def start(self):\n",
    "        print(\"Starting Boeing Engine\")\n",
    "        \n",
    "ae = AirbusEngine()\n",
    "f = Flight(ae)\n",
    "f.startEngine()\n",
    "\n",
    "be = AirbusEngine()\n",
    "f = Flight(ae)\n",
    "f.startEngine()\n"
   ]
  },
  {
   "cell_type": "code",
   "execution_count": 18,
   "id": "37694180",
   "metadata": {},
   "outputs": [
    {
     "name": "stdout",
     "output_type": "stream",
     "text": [
      "30\n",
      "Hello how are you\n",
      "[1, 2, 3, 4, 5, 6]\n"
     ]
    }
   ],
   "source": [
    "# Operator overloading, polymorphic operator\n",
    "x = 10\n",
    "y = 20\n",
    "\n",
    "print(x + y)\n",
    "\n",
    "s1 = \"Hello \"\n",
    "s2 = \"how are you\"\n",
    "\n",
    "print(s1 + s2)\n",
    "\n",
    "l1 = [1,2,3]\n",
    "l2 = [4,5,6]\n",
    "print(l1 + l2)"
   ]
  },
  {
   "cell_type": "code",
   "execution_count": 10,
   "id": "bf5d9dd1",
   "metadata": {},
   "outputs": [
    {
     "name": "stdout",
     "output_type": "stream",
     "text": [
      "Enter two numbers: 4 0\n",
      "Division by zero is not allowed\n",
      "Please enter a non zero number\n",
      "file closed\n",
      "Code after exception\n"
     ]
    }
   ],
   "source": [
    "# exceptions\n",
    "# baseException\n",
    "#   Exception\n",
    "#     standardError EOFError, ZeroDivisionError, IndentationError\n",
    "#     warning DepreciatedWarning, importWarning\n",
    "\n",
    "# Handling exceptions\n",
    "try: \n",
    "    f = open(\"myfile\", \"w\")\n",
    "    a,b = [int(x) for x in input(\"Enter two numbers: \").split()]\n",
    "    c = a/b\n",
    "    f.write(\"Writing %d into file\" %c)\n",
    "    f.close()\n",
    "except ZeroDivisionError:\n",
    "    print(\"Division by zero is not allowed\")\n",
    "    print(\"Please enter a non zero number\")\n",
    "else:\n",
    "    print(\"You have entered a non zero number\")\n",
    "finally:\n",
    "    f.close()\n",
    "    print(\"file closed\")\n",
    "print(\"Code after exception\")"
   ]
  },
  {
   "cell_type": "code",
   "execution_count": 11,
   "id": "c76550aa",
   "metadata": {},
   "outputs": [
    {
     "ename": "SyntaxError",
     "evalue": "invalid syntax (1928694544.py, line 2)",
     "output_type": "error",
     "traceback": [
      "\u001b[0;36m  File \u001b[0;32m\"/tmp/ipykernel_115410/1928694544.py\"\u001b[0;36m, line \u001b[0;32m2\u001b[0m\n\u001b[0;31m    class OverTheLimitException(Exception)\u001b[0m\n\u001b[0m                                          ^\u001b[0m\n\u001b[0;31mSyntaxError\u001b[0m\u001b[0;31m:\u001b[0m invalid syntax\n"
     ]
    }
   ],
   "source": [
    "# custom error\n",
    "class OverTheLimitException(Exception)\n",
    "    def __init__(self,msg)\n",
    "        self.msg = msg\n",
    "\n",
    "def withdrawl(amount).\n",
    "    if(amount>2000):\n",
    "        raise OverTheLimitException(\"Withdrawal over 2000 per day is not possible\")\n",
    "        \n",
    "withdrawl(3000)\n",
    "        "
   ]
  },
  {
   "cell_type": "code",
   "execution_count": null,
   "id": "9849ba1f",
   "metadata": {},
   "outputs": [],
   "source": [
    "# Logging in action\n",
    "import logging\n",
    "\n",
    "logging.basicConfig(filename=\"mylog.log\", encoding='utf-8', level=logging.DEBUG)\n",
    "logging.error(\"Error\")\n",
    "logging.critical(\"Error\")\n",
    "logging.warning(\"Error\")\n",
    "logging.debug(\"Error\")\n",
    "logging.info(\"Error\")\n",
    "              "
   ]
  },
  {
   "cell_type": "code",
   "execution_count": 20,
   "id": "9fd45de7",
   "metadata": {},
   "outputs": [
    {
     "name": "stdout",
     "output_type": "stream",
     "text": [
      "Enter two numbers: 2 0\n"
     ]
    },
    {
     "name": "stderr",
     "output_type": "stream",
     "text": [
      "ERROR:root:Division by zero\n"
     ]
    },
    {
     "name": "stdout",
     "output_type": "stream",
     "text": [
      "Division by zero is not allowed\n",
      "Please enter a non zero number\n",
      "file closed\n",
      "Code after exception\n"
     ]
    }
   ],
   "source": [
    "# Logging exception handling demo\n",
    "try: \n",
    "    f = open(\"myfile\", \"w\")\n",
    "    a,b = [int(x) for x in input(\"Enter two numbers: \").split()]\n",
    "    logging.info(\"Division in progress\")\n",
    "    c = a/b\n",
    "    f.write(\"Writing %d into file\" %c)\n",
    "    f.close()\n",
    "except ZeroDivisionError:\n",
    "    print(\"Division by zero is not allowed\")\n",
    "    print(\"Please enter a non zero number\")\n",
    "    logging.error(\"Division by zero\")\n",
    "else:\n",
    "    print(\"You have entered a non zero number\")\n",
    "finally:\n",
    "    f.close()\n",
    "    print(\"file closed\")\n",
    "print(\"Code after exception\")"
   ]
  },
  {
   "cell_type": "code",
   "execution_count": 22,
   "id": "06f2236a",
   "metadata": {},
   "outputs": [
    {
     "name": "stdout",
     "output_type": "stream",
     "text": [
      "Enter an even number:7\n",
      "you have entered an odd number\n",
      "after assertion\n"
     ]
    }
   ],
   "source": [
    "# assertion case\n",
    "try: \n",
    "    num = int(input(\"Enter an even number:\"))\n",
    "    assert num%2==0, \"you have entered an odd number\"\n",
    "except AssertionError as obj:\n",
    "    print(obj)\n",
    "print(\"after assertion\")\n",
    "    \n"
   ]
  },
  {
   "cell_type": "code",
   "execution_count": 11,
   "id": "c807bb1e",
   "metadata": {},
   "outputs": [
    {
     "name": "stdout",
     "output_type": "stream",
     "text": [
      "Enter text: #\n",
      "#\n"
     ]
    }
   ],
   "source": [
    "# file i/o\n",
    "# w write\n",
    "# r read from the beginning to the end\n",
    "# a append\n",
    "# w+ write and read\n",
    "# r+ read, write and append\n",
    "# a+ appending and reading\n",
    "# x \n",
    "# f=open(\"fileName\", \"mode\", \"buffer\")\n",
    "\n",
    "# multiple lines\n",
    "import os, sys\n",
    "\n",
    "f = open(\"myfile.txt\", \"w\")\n",
    "s = input(\"Enter text: \")\n",
    "f.write(s)\n",
    "f.close()\n",
    "\n",
    "f = open(\"myfile.txt\", \"r\")\n",
    "s = f.read()\n",
    "print(s)\n",
    "f.close()\n",
    "\n",
    "\n"
   ]
  },
  {
   "cell_type": "code",
   "execution_count": 13,
   "id": "28fb08f0",
   "metadata": {},
   "outputs": [
    {
     "name": "stdout",
     "output_type": "stream",
     "text": [
      "Enter Text (Type # when you are done)\n",
      "#\n"
     ]
    }
   ],
   "source": [
    "# multiple lines\n",
    "f = open(\"myfile.txt\", \"w\")\n",
    "print(\"Enter Text (Type # when you are done)\")\n",
    "\n",
    "s = ''\n",
    "while s != '#':\n",
    "    s = input()\n",
    "    f.write(s + '\\n')\n",
    "    \n",
    "f.close()"
   ]
  },
  {
   "cell_type": "code",
   "execution_count": 14,
   "id": "28834edf",
   "metadata": {},
   "outputs": [
    {
     "name": "stdout",
     "output_type": "stream",
     "text": [
      "#\n",
      "\n",
      "File does not exist\n"
     ]
    }
   ],
   "source": [
    "# cehck if file exists\n",
    "\n",
    "if os.path.isfile('myfile.txt'):\n",
    "    f = open('myfile.txt', 'r')\n",
    "    s = f.read()\n",
    "    print(s)\n",
    "    f.close()\n",
    "else:\n",
    "    print(\"File does not exist\")\n",
    "    \n",
    "if os.path.isfile('myfile123.txt'):\n",
    "    f = open('myfile.txt', 'r')\n",
    "    s = f.read()\n",
    "    print(s)\n",
    "    f.close()\n",
    "else:\n",
    "    print(\"File does not exist\")\n",
    "\n"
   ]
  },
  {
   "cell_type": "code",
   "execution_count": 16,
   "id": "7d4bd83a",
   "metadata": {},
   "outputs": [
    {
     "name": "stdout",
     "output_type": "stream",
     "text": [
      "123 John 90\n"
     ]
    }
   ],
   "source": [
    "# pickle and unpickle object (serialize)\n",
    "import pickle, student\n",
    "\n",
    "f = open(\"student.dat\", \"wb\")\n",
    "s = student.Student(123, \"John\", 90)\n",
    "pickle.dump(s, f)\n",
    "f.close()\n",
    "\n",
    "f = open(\"student.dat\", \"rb\")\n",
    "obj = pickle.load(f)\n",
    "obj.display()\n"
   ]
  },
  {
   "cell_type": "code",
   "execution_count": null,
   "id": "b289ad34",
   "metadata": {},
   "outputs": [],
   "source": []
  }
 ],
 "metadata": {
  "kernelspec": {
   "display_name": "Python 3 (ipykernel)",
   "language": "python",
   "name": "python3"
  },
  "language_info": {
   "codemirror_mode": {
    "name": "ipython",
    "version": 3
   },
   "file_extension": ".py",
   "mimetype": "text/x-python",
   "name": "python",
   "nbconvert_exporter": "python",
   "pygments_lexer": "ipython3",
   "version": "3.7.11"
  }
 },
 "nbformat": 4,
 "nbformat_minor": 5
}
