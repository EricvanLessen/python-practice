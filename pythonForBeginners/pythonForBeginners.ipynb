{
 "cells": [
  {
   "cell_type": "markdown",
   "id": "7fa9fac4",
   "metadata": {},
   "source": [
    "## Python for beginners"
   ]
  },
  {
   "cell_type": "code",
   "execution_count": 1,
   "id": "eeef42c8",
   "metadata": {},
   "outputs": [
    {
     "name": "stdout",
     "output_type": "stream",
     "text": [
      "Python is easy\n"
     ]
    }
   ],
   "source": [
    "print(\"Python is easy\")"
   ]
  },
  {
   "cell_type": "code",
   "execution_count": null,
   "id": "f6f62834",
   "metadata": {},
   "outputs": [],
   "source": [
    "# comments\n",
    "# this is one"
   ]
  },
  {
   "cell_type": "code",
   "execution_count": 14,
   "id": "5eb1563e",
   "metadata": {},
   "outputs": [
    {
     "name": "stdout",
     "output_type": "stream",
     "text": [
      "<class 'int'>\n",
      "<class 'float'>\n",
      "<class 'str'>\n",
      "<class 'complex'>\n",
      "<class 'int'>\n",
      "<class 'int'>\n",
      "<class 'int'>\n",
      "<class 'bool'>\n",
      "10\n",
      "255\n",
      "27\n",
      "int cast 10\n",
      "bin cast 0b1010\n",
      "hex cast 0xa\n",
      "oct cast 0o12\n"
     ]
    }
   ],
   "source": [
    "# data types\n",
    "\n",
    "# five types are\n",
    "# None object that contains no value\n",
    "# Numeric int, float, complex\n",
    "# Sequences str, bytes, bytearray, list, tuple, range\n",
    "# Mapping for MapReduce\n",
    "\n",
    "a = 10\n",
    "f = 10.23\n",
    "s = \"You are the creator of your destiny\"\n",
    "d = 3+4j\n",
    "e = 0B1010 # binary becomes int\n",
    "g = 0XFF # hexadecimal becomes int\n",
    "h = 0O33 # octadecimal\n",
    "i = False\n",
    "\n",
    "print(type(a))\n",
    "print(type(f))\n",
    "print(type(s))\n",
    "print(type(d))\n",
    "print(type(e))\n",
    "print(type(g))\n",
    "print(type(h))\n",
    "print(type(i))\n",
    "\n",
    "print(e)\n",
    "print(g)\n",
    "print(h)\n",
    "\n",
    "# casting, convert types\n",
    "print(\"int cast {}\".format(int(f)))\n",
    "print(\"bin cast {}\".format(bin(10)))\n",
    "print(\"hex cast {}\".format(hex(10)))\n",
    "print(\"oct cast {}\".format(oct(10)))\n"
   ]
  },
  {
   "cell_type": "code",
   "execution_count": 18,
   "id": "51edfa8b",
   "metadata": {},
   "outputs": [],
   "source": [
    "# identifiers\n",
    "# case sensitive\n",
    "id = 2\n",
    "Id = 3\n",
    "_id = 4\n",
    "# two underscores indicate a special function\n",
    "# __init__ "
   ]
  },
  {
   "cell_type": "code",
   "execution_count": 19,
   "id": "35fc951b",
   "metadata": {},
   "outputs": [
    {
     "name": "stdout",
     "output_type": "stream",
     "text": [
      "Adam\n",
      "Smith\n",
      "90\n",
      "ajhd-adsf-sfdf-deee\n",
      "6.2\n",
      "192\n"
     ]
    }
   ],
   "source": [
    "# drivers license\n",
    "firstName = \"Adam\"\n",
    "lastName = \"Smith\"\n",
    "age = \"90\"\n",
    "ssn = \"ajhd-adsf-sfdf-deee\"\n",
    "height = \"6.2\"\n",
    "weight = \"192\"\n",
    "\n",
    "print(firstName)\n",
    "print(lastName)\n",
    "print(age)\n",
    "print(ssn)\n",
    "print(height)\n",
    "print(weight)"
   ]
  },
  {
   "cell_type": "code",
   "execution_count": 21,
   "id": "cc5321d3",
   "metadata": {},
   "outputs": [
    {
     "name": "stdout",
     "output_type": "stream",
     "text": [
      "You are the creator of your destiny. \n",
      "You are the creator of your destiny. You are the creator of your destiny. You are the creator of your destiny. \n",
      "u\n",
      "37\n",
      "You\n",
      "You are the creator of your destiny. \n",
      "ny.\n",
      "ny. \n",
      "Yuae\n",
      " your destiny. \n",
      " fo rotaerc eht era uoY\n",
      "creator of your destiny\n",
      "creator of your destiny      \n",
      "    creator of your destiny\n",
      "4\n",
      "-1\n",
      "2\n"
     ]
    }
   ],
   "source": [
    "# strings\n",
    "s1 = \"You are the creator of your destiny. \"\n",
    "\n",
    "# print\n",
    "print(s1)\n",
    "\n",
    "# multiply\n",
    "print(s1 * 3)\n",
    "\n",
    "# index\n",
    "print(s1[2])\n",
    "print(len(s1))\n",
    "print(s1[0:3])\n",
    "print(s1[0:])\n",
    "print(s1[-4:-1])\n",
    "print(s1[-4:])\n",
    "print(s1[0:8:2])\n",
    "print(s1[-15::1])\n",
    "print(s1[-15::-1])\n",
    "\n",
    "# strip \n",
    "s2 = \"    creator of your destiny      \"\n",
    "print(s2.strip())\n",
    "print(s2.lstrip())\n",
    "print(s2.rstrip())\n",
    "\n",
    "# find string in a string\n",
    "print(s1.find(\"are\", 0, len(s1)))\n",
    "print(s2.find(\"are\", 0, len(s1)))\n",
    "\n",
    "# count\n",
    "print(s2.count(\"t\"))"
   ]
  },
  {
   "cell_type": "code",
   "execution_count": 25,
   "id": "25a93ab1",
   "metadata": {},
   "outputs": [
    {
     "name": "stdout",
     "output_type": "stream",
     "text": [
      "10\n",
      "20.54\n",
      "True\n",
      "I am the best\n"
     ]
    }
   ],
   "source": [
    "# exercise\n",
    "\n",
    "a = int\n",
    "b = float\n",
    "c = bool\n",
    "d = str\n",
    "\n",
    "a = 10\n",
    "b = 20.54\n",
    "c = True\n",
    "d = \"I am the best\"\n",
    "\n",
    "print(a)\n",
    "print(b)\n",
    "print(c)\n",
    "print(d)"
   ]
  },
  {
   "cell_type": "code",
   "execution_count": 36,
   "id": "a853f032",
   "metadata": {},
   "outputs": [
    {
     "name": "stdout",
     "output_type": "stream",
     "text": [
      "[10, 20, 'name', -10, 30.5]\n",
      "-10\n",
      "[-10, 30.5]\n",
      "[10, 20, 'name', -10, 30.5, 10, 20, 'name', -10, 30.5, 10, 20, 'name', -10, 30.5, 10, 20, 'name', -10, 30.5]\n",
      "5\n",
      "[10, 20, 'name', -10, 30.5, 40]\n",
      "[10, 20, -10, 30.5, 40]\n",
      "[10, -10, 30.5, 40]\n",
      "40\n",
      "-10\n",
      "[10, -10, 30.5, 99, 40]\n",
      "[99, 40, 30.5, 10, -10]\n"
     ]
    }
   ],
   "source": [
    "# list\n",
    "lst = [10, 20, \"name\", -10, 30.5]\n",
    "\n",
    "# print\n",
    "print(lst)\n",
    "\n",
    "# index\n",
    "print(lst[3])\n",
    "print(lst[3:5])\n",
    "\n",
    "# multiply\n",
    "print(lst * 4)\n",
    "\n",
    "# length\n",
    "print(len(lst))\n",
    "\n",
    "# append\n",
    "lst.append(40)\n",
    "print(lst)\n",
    "\n",
    "# remove by value\n",
    "lst.remove(\"name\")\n",
    "print(lst)\n",
    "\n",
    "# remove the first list element\n",
    "del(lst[1])\n",
    "print(lst)\n",
    "\n",
    "# max/min\n",
    "print(max(lst))\n",
    "print(min(lst))\n",
    "\n",
    "# insert\n",
    "lst.insert(3, 99)\n",
    "print(lst)\n",
    "\n",
    "lst.sort(reverse = True)\n",
    "print(lst)"
   ]
  },
  {
   "cell_type": "code",
   "execution_count": 40,
   "id": "b8d8f659",
   "metadata": {},
   "outputs": [
    {
     "name": "stdout",
     "output_type": "stream",
     "text": [
      "(20, 30, 40, 50, 'xyz')\n",
      "<class 'tuple'>\n",
      "(20, 30, 40, 50, 'xyz', 20, 30, 40, 50, 'xyz', 20, 30, 40, 50, 'xyz')\n",
      "4\n",
      "(5, 6, 'a')\n"
     ]
    }
   ],
   "source": [
    "# Tuple\n",
    "# can not be modified, immutable\n",
    "# insertion order\n",
    "# duplicates are ok\n",
    "# different types are ok\n",
    "\n",
    "tpl = (20, 30, 40, 50, 'xyz')\n",
    "print(tpl)\n",
    "print(type(tpl))\n",
    "print(tpl * 3)\n",
    "print(tpl.index('xyz'))\n",
    "\n",
    "# cast\n",
    "lst = [5,6, 'a']\n",
    "print(tuple(lst))"
   ]
  },
  {
   "cell_type": "code",
   "execution_count": 46,
   "id": "ef158ff4",
   "metadata": {},
   "outputs": [
    {
     "name": "stdout",
     "output_type": "stream",
     "text": [
      "{'xyz', 10, 20, 30}\n",
      "{99, 10, 20, 88, 'xyz', 30}\n",
      "<class 'set'>\n",
      "{99, 10, 20, 88, 'xyz'}\n"
     ]
    }
   ],
   "source": [
    "# set\n",
    "s = {10, 20, 30, 'xyz', 10, 20, 30}\n",
    "print(s)\n",
    "s.update([88, 99])\n",
    "print(s)\n",
    "print(type(s))\n",
    "\n",
    "# print(s * 3) will throw an error\n",
    "\n",
    "s.remove(30)\n",
    "print(s)\n",
    "\n",
    "f = frozenset(s)\n",
    "# f.update(7) will throw an error\n",
    "# f.remove(10) will throw an error\n"
   ]
  },
  {
   "cell_type": "code",
   "execution_count": 48,
   "id": "79f51b71",
   "metadata": {},
   "outputs": [
    {
     "name": "stdout",
     "output_type": "stream",
     "text": [
      "1\n",
      "4\n",
      "7\n",
      "10\n",
      "13\n"
     ]
    }
   ],
   "source": [
    "# range\n",
    "r = range(1, 15, 3)\n",
    "\n",
    "for i in r:\n",
    "    print(i)"
   ]
  },
  {
   "cell_type": "code",
   "execution_count": 52,
   "id": "96a85c17",
   "metadata": {},
   "outputs": [
    {
     "name": "stdout",
     "output_type": "stream",
     "text": [
      "<class 'bytes'>\n",
      "<class 'bytearray'>\n",
      "bytearray(b'\\x01\\x03\\x14')\n"
     ]
    }
   ],
   "source": [
    "# list\n",
    "lst = [1, 3, 4]\n",
    "b = bytes(lst)\n",
    "print(type(b))\n",
    "# b[1] = 0 will throw an arrow \n",
    "\n",
    "# bytearray assignments work\n",
    "b1 = bytearray(lst)\n",
    "print(type(b1))\n",
    "b1[2] = 20\n",
    "print(b1)"
   ]
  },
  {
   "cell_type": "code",
   "execution_count": 56,
   "id": "b8a6eec6",
   "metadata": {},
   "outputs": [
    {
     "name": "stdout",
     "output_type": "stream",
     "text": [
      "{1: 'john', 2: 'bob', 3: 'bill'}\n",
      "dict_items([(1, 'john'), (2, 'bob'), (3, 'bill')])\n",
      "1\n",
      "2\n",
      "3\n",
      "john\n",
      "bob\n",
      "bill\n",
      "bill\n",
      "{1: 'john', 3: 'bill'}\n"
     ]
    }
   ],
   "source": [
    "# dict\n",
    "dict1 = {1: \"john\", 2: \"bob\", 3: \"bill\"}\n",
    "print(dict1)\n",
    "print(dict1.items())\n",
    "k = dict1.keys()\n",
    "for i in k: print(i)\n",
    "for i in dict1.values(): print(i)\n",
    "print(dict1[3])\n",
    "del dict1[2]\n",
    "print(dict1)"
   ]
  },
  {
   "cell_type": "code",
   "execution_count": 59,
   "id": "3bf88911",
   "metadata": {},
   "outputs": [
    {
     "name": "stdout",
     "output_type": "stream",
     "text": [
      "94819118089760\n",
      "94819118089760\n",
      "True\n",
      "94819118089760\n",
      "94819118089440\n",
      "False\n",
      "139738708230768\n",
      "139738708230768\n",
      "True\n"
     ]
    }
   ],
   "source": [
    "a = 20\n",
    "b = 20\n",
    "print(id(a))\n",
    "print(id(b))\n",
    "print(a is b)\n",
    "\n",
    "a = 20\n",
    "b = 10\n",
    "print(id(a))\n",
    "print(id(b))\n",
    "print(a is b)\n",
    "\n",
    "a = \"Hi\"\n",
    "b = \"Hi\"\n",
    "print(id(a))\n",
    "print(id(b))\n",
    "print(a is b)"
   ]
  },
  {
   "cell_type": "code",
   "execution_count": 63,
   "id": "7afdcacd",
   "metadata": {},
   "outputs": [],
   "source": [
    "# exercise\n",
    "countries = [\"South-Africa\", \"Marocco\", \"Spain\"]\n",
    "countries.append(\"Brazil\")\n",
    "del countries[2]\n",
    "countries.insert(2, \"Norway\")\n",
    "\n",
    "countries1 = {\"Hungary\", \"India\", \"Japan\"}\n",
    "countries1.remove(\"Hungary\")\n",
    "countries2 = {\"Switzerland\"}\n",
    "countries1.update(countries2)\n"
   ]
  },
  {
   "cell_type": "code",
   "execution_count": 4,
   "id": "f155fd05",
   "metadata": {},
   "outputs": [
    {
     "name": "stdout",
     "output_type": "stream",
     "text": [
      "None\n",
      "None\n"
     ]
    }
   ],
   "source": [
    "# None type\n",
    "def m1():\n",
    "    a = 10\n",
    "\n",
    "print(m1())\n",
    "a = None\n",
    "\n",
    "print(a)"
   ]
  },
  {
   "cell_type": "code",
   "execution_count": 6,
   "id": "c17b8fd7",
   "metadata": {},
   "outputs": [],
   "source": [
    "# Constant\n",
    "# Capitalized, can be changed but is a convention not to change this \n",
    "PI = 3.14 "
   ]
  },
  {
   "cell_type": "code",
   "execution_count": 11,
   "id": "08018a4c",
   "metadata": {},
   "outputs": [],
   "source": [
    "# del\n",
    "a = 10\n",
    "del a\n",
    "# print(a) not defined\n",
    "\n",
    "s = 'abcd'\n",
    "# del s[0] # no item deletion in a immutable type or oject, will throw an error\n"
   ]
  },
  {
   "cell_type": "code",
   "execution_count": 21,
   "id": "29e84e26",
   "metadata": {},
   "outputs": [
    {
     "name": "stdout",
     "output_type": "stream",
     "text": [
      "Hello § world\n",
      "Hello § world §  Hi\n",
      "This is Hello to the world\n",
      "This is Hello to the world with 10.455\n",
      "Name is Hello on world with 10.4546\n",
      "Name is Hello on world with 10.4546\n"
     ]
    }
   ],
   "source": [
    "# print \n",
    "a = \"Hello\"\n",
    "b = \"world\"\n",
    "c = \" Hi\"\n",
    "n = 10.4546\n",
    "\n",
    "print(a,b,sep=\" § \")\n",
    "print(a,b, c,sep=\" § \")\n",
    "\n",
    "print(\"This is %s to the %s\"%(a,b))\n",
    "\n",
    "print(\"This is %s to the %s with %.3f\"%(a, b, n))\n",
    "\n",
    "print(\"Name is {} on {} with {}\".format(a, b, n))\n",
    "\n",
    "h = \"Name is {} on {} with {}\".format(a, b, n)\n",
    "print(h)"
   ]
  },
  {
   "cell_type": "code",
   "execution_count": 7,
   "id": "1c4e2374",
   "metadata": {},
   "outputs": [
    {
     "name": "stdout",
     "output_type": "stream",
     "text": [
      "Enter three numbers: 3 5 6\n",
      "3\n",
      "5\n",
      "6\n",
      "Enter three numbers seperated by comma 2,3,4\n",
      "['2', '3', '4']\n"
     ]
    }
   ],
   "source": [
    "# input function\n",
    "for x in input(\"Enter three numbers: \").split():\n",
    "    print(x)\n",
    "    \n",
    "lst = [x for x in input(\"Enter three numbers seperated by comma \").split(\",\")]\n",
    "print(lst)\n",
    "\n"
   ]
  },
  {
   "cell_type": "code",
   "execution_count": 8,
   "id": "58790264",
   "metadata": {},
   "outputs": [
    {
     "name": "stdout",
     "output_type": "stream",
     "text": [
      "How many Players? 2\n",
      "Name? Tina\n",
      "Hobby? Foils\n",
      "Name? John\n",
      "Hobby? Metal\n",
      "{'Tina': 'Foils', 'John': 'Metal'}\n"
     ]
    }
   ],
   "source": [
    "n = int(input(\"How many Players? \"))\n",
    "player = {}\n",
    "for i in range(n):\n",
    "    name = input(\"Name? \")\n",
    "    hobby = input(\"Hobby? \")\n",
    "    player[name] = hobby\n",
    "print(player)"
   ]
  },
  {
   "cell_type": "code",
   "execution_count": 2,
   "id": "4c200f08",
   "metadata": {},
   "outputs": [
    {
     "name": "stdout",
     "output_type": "stream",
     "text": [
      "Vegan-cheese\n",
      "Lettuce\n",
      "Tomato-Sauce\n",
      "Onions\n",
      "Pickles\n",
      "Garlic\n",
      "Pick three toppings, seperate by spaceVegan-cheese Lettuce Tomato-Sauce\n",
      "How many Sandwiches, type a number30\n",
      "150 is the total price\n"
     ]
    }
   ],
   "source": [
    "# Exercise\n",
    "topping = ['Vegan-cheese', 'Lettuce', 'Tomato-Sauce', 'Onions', 'Pickles', 'Garlic']\n",
    "for i in topping:\n",
    "    print(i)\n",
    "pick = [x for x in input('Pick three toppings, seperate by space').split()]\n",
    "cost = int(input('How many Sandwiches, type a number'))\n",
    "print('{} is the total price'.format(cost*5))"
   ]
  },
  {
   "cell_type": "code",
   "execution_count": 5,
   "id": "cdeb6870",
   "metadata": {},
   "outputs": [
    {
     "name": "stdout",
     "output_type": "stream",
     "text": [
      "Input a number greater 10: 78\n",
      "You entered  78\n"
     ]
    }
   ],
   "source": [
    "# Flow --> mostly covered in Python for absolute beginners\n",
    "x = int(input(\"Input a number greater 10: \"))\n",
    "assert x>10, \"Wrong number\" # will show an assertion error\n",
    "print(\"You entered \",x)\n"
   ]
  },
  {
   "cell_type": "code",
   "execution_count": 9,
   "id": "3177e3d7",
   "metadata": {},
   "outputs": [
    {
     "name": "stdout",
     "output_type": "stream",
     "text": [
      "Enter a stringhallo world\n",
      "dlrow ollah\n"
     ]
    }
   ],
   "source": [
    "# reverse a string\n",
    "s = input(\"Enter a string\")\n",
    "print(''.join(reversed(s)))"
   ]
  },
  {
   "cell_type": "code",
   "execution_count": 10,
   "id": "016fb337",
   "metadata": {},
   "outputs": [
    {
     "name": "stdout",
     "output_type": "stream",
     "text": [
      "/home/haniel/anaconda3/lib/python3.7/site-packages/ipykernel_launcher.py\n",
      "-f\n",
      "/home/haniel/.local/share/jupyter/runtime/kernel-4abbb949-6ab3-4612-b5bd-f0b0b0899215.json\n",
      "3\n"
     ]
    }
   ],
   "source": [
    "# command line arguments\n",
    "import sys\n",
    "lst = sys.argv\n",
    "for i in lst: print(i)\n",
    "print(len(lst))"
   ]
  },
  {
   "cell_type": "code",
   "execution_count": 15,
   "id": "8556e653",
   "metadata": {},
   "outputs": [
    {
     "name": "stdout",
     "output_type": "stream",
     "text": [
      "678\n",
      "123\n"
     ]
    }
   ],
   "source": [
    "# functions accessing global variables\n",
    "x = 123\n",
    "\n",
    "def display():\n",
    "    x = 678\n",
    "    def printLocal(x):\n",
    "        print(x)\n",
    "    printLocal(x)\n",
    "    print(globals()['x'])\n",
    "    \n",
    "display()"
   ]
  },
  {
   "cell_type": "code",
   "execution_count": 16,
   "id": "eea5a4d9",
   "metadata": {},
   "outputs": [
    {
     "name": "stdout",
     "output_type": "stream",
     "text": [
      "678\n",
      "123\n",
      "678\n",
      "123\n"
     ]
    }
   ],
   "source": [
    "# assign function to a variable\n",
    "\n",
    "z = display\n",
    "z()\n",
    "z()"
   ]
  },
  {
   "cell_type": "code",
   "execution_count": 27,
   "id": "6f0d935d",
   "metadata": {},
   "outputs": [
    {
     "name": "stdout",
     "output_type": "stream",
     "text": [
      "678\n",
      "123\n",
      "returned\n",
      "678\n",
      "123\n",
      "returned\n"
     ]
    }
   ],
   "source": [
    "# pass function as a parameter and returning function, anything can be passed to a function, defaults\n",
    "def printLocal(x):\n",
    "    print(x)\n",
    "\n",
    "def display(p=printLocal):\n",
    "    x = 678\n",
    "    p(x)\n",
    "    print(globals()['x'])\n",
    "    def returnMe():\n",
    "        print(\"returned\")\n",
    "    return returnMe\n",
    "    \n",
    "returned = display(printLocal)\n",
    "returned()\n",
    "returned = display()\n",
    "returned()"
   ]
  },
  {
   "cell_type": "code",
   "execution_count": 26,
   "id": "7b261367",
   "metadata": {},
   "outputs": [
    {
     "name": "stdout",
     "output_type": "stream",
     "text": [
      "3628800\n",
      "3628800\n"
     ]
    }
   ],
   "source": [
    "# recursion\n",
    "def factorial1(n):\n",
    "    if n == 0:\n",
    "        return 1\n",
    "    else:\n",
    "        return n*factorial(n-1)\n",
    "n = factorial1(10)\n",
    "print(n)\n",
    "\n",
    "def factorial2(n):\n",
    "    if n == 0:\n",
    "        result = 1\n",
    "    else:\n",
    "        result = n * factorial(n - 1)\n",
    "    return result\n",
    "\n",
    "n = factorial2(10)\n",
    "print(n)"
   ]
  },
  {
   "cell_type": "code",
   "execution_count": 39,
   "id": "3f1f731a",
   "metadata": {},
   "outputs": [
    {
     "name": "stdout",
     "output_type": "stream",
     "text": [
      "10\n",
      "(20, 30, 40)\n",
      "{'name': 'Kim'}\n",
      "name Kim\n",
      "(20, 30, 40)\n",
      "{'name': 'Kim'}\n"
     ]
    }
   ],
   "source": [
    "# arguments\n",
    "# keyword arguments\n",
    "# args and kwargs may have any name\n",
    "# pass on args and kwargs\n",
    "def passIt(*x, **y):\n",
    "    print(x)\n",
    "    print(y)\n",
    "\n",
    "def myfun(x, *args, **kwargs):\n",
    "    print(x)\n",
    "    print(args)\n",
    "    print(kwargs)\n",
    "    for key, value in kwargs.items():\n",
    "        print(key, value)\n",
    "    passIt(*args, **kwargs)\n",
    "    \n",
    "myfun(10, 20, 30, 40, name=\"Kim\")"
   ]
  },
  {
   "cell_type": "code",
   "execution_count": 65,
   "id": "f9b1447d",
   "metadata": {},
   "outputs": [
    {
     "name": "stdout",
     "output_type": "stream",
     "text": [
      "361\n",
      "27\n",
      "27\n",
      "Yes\n",
      "[10, 2, 2]\n",
      "[20, 4, 4]\n",
      "28\n",
      "10\n",
      "10\n",
      "3.3333333333333335\n",
      "\n",
      "\n",
      "10\n",
      "11\n",
      "12\n",
      "13\n",
      "14\n",
      "15\n",
      "16\n",
      "17\n",
      "['False', 'None', 'True', 'and', 'as', 'assert', 'async', 'await', 'break', 'class', 'continue', 'def', 'del', 'elif', 'else', 'except', 'finally', 'for', 'from', 'global', 'if', 'import', 'in', 'is', 'lambda', 'nonlocal', 'not', 'or', 'pass', 'raise', 'return', 'try', 'while', 'with', 'yield']\n"
     ]
    }
   ],
   "source": [
    "# lambdas Anonymous functions\n",
    "f = lambda x:x*x\n",
    "result = f(19)\n",
    "print(result)\n",
    "\n",
    "# usually used in other functions such as map, reduce ...\n",
    "def cube(n):\n",
    "    return n**3\n",
    "\n",
    "print(cube(3))\n",
    "\n",
    "f = lambda n:n**3\n",
    "print(f(3))\n",
    "\n",
    "l = lambda x: 'Yes' if x%2 == 0 else 'No'\n",
    "print(l(10))\n",
    "\n",
    "s = lambda a,b: a + b\n",
    "s(3,4)\n",
    "\n",
    "lst = [10, 2, 33, 45, 89, 2]\n",
    "lst = list(filter(lambda x: x%2==0, lst))\n",
    "print(lst)\n",
    "\n",
    "# map\n",
    "lst = list(map(lambda n: n*2, lst))\n",
    "print(lst)\n",
    "\n",
    "# reduce\n",
    "from functools import reduce\n",
    "#reduce(function, sequence)\n",
    "lst = reduce(lambda x,y:x+y, lst)\n",
    "print(lst)\n",
    "\n",
    "# decorator\n",
    "def decor(fun):\n",
    "    def inner():\n",
    "        result = fun()\n",
    "        return result * 2\n",
    "    return inner\n",
    "\n",
    "def num():\n",
    "    return 5\n",
    "\n",
    "resultFun = decor(num)\n",
    "print(resultFun())\n",
    "\n",
    "# @decor\n",
    "# decorator\n",
    "def decor(fun):\n",
    "    def inner():\n",
    "        result = fun()\n",
    "        return result * 2\n",
    "    return inner\n",
    "\n",
    "@decor\n",
    "def num():\n",
    "    return 5\n",
    "\n",
    "print(num())\n",
    "\n",
    "# chain decorators\n",
    "def square(fun):\n",
    "    def inner():\n",
    "        n = fun()\n",
    "        return n/3\n",
    "    return inner\n",
    "\n",
    "@square\n",
    "@decor\n",
    "def num1():\n",
    "    return 5\n",
    "\n",
    "print(num1())\n",
    "\n",
    "print(\"\\n\")\n",
    "# generators\n",
    "def customgen(x,y):\n",
    "    while x < y:\n",
    "        yield x\n",
    "        x += 1\n",
    "        \n",
    "result = customgen(10,18)\n",
    "\n",
    "for i in result:print(i)\n",
    "    \n",
    "# dont use keywords for variables, functions etc. so lets check them\n",
    "import keyword\n",
    "print(keyword.kwlist)"
   ]
  },
  {
   "cell_type": "code",
   "execution_count": 6,
   "id": "7158ecfa",
   "metadata": {},
   "outputs": [
    {
     "name": "stdout",
     "output_type": "stream",
     "text": [
      "3.0\n",
      "8\n",
      "7\n",
      "2.2\n",
      "['__doc__', '__file__', '__loader__', '__name__', '__package__', '__spec__', 'acos', 'acosh', 'asin', 'asinh', 'atan', 'atan2', 'atanh', 'ceil', 'copysign', 'cos', 'cosh', 'degrees', 'e', 'erf', 'erfc', 'exp', 'expm1', 'fabs', 'factorial', 'floor', 'fmod', 'frexp', 'fsum', 'gamma', 'gcd', 'hypot', 'inf', 'isclose', 'isfinite', 'isinf', 'isnan', 'ldexp', 'lgamma', 'log', 'log10', 'log1p', 'log2', 'modf', 'nan', 'pi', 'pow', 'radians', 'remainder', 'sin', 'sinh', 'sqrt', 'tan', 'tanh', 'tau', 'trunc']\n",
      "Help on module math:\n",
      "\n",
      "NAME\n",
      "    math\n",
      "\n",
      "MODULE REFERENCE\n",
      "    https://docs.python.org/3.7/library/math\n",
      "    \n",
      "    The following documentation is automatically generated from the Python\n",
      "    source files.  It may be incomplete, incorrect or include features that\n",
      "    are considered implementation detail and may vary between Python\n",
      "    implementations.  When in doubt, consult the module reference at the\n",
      "    location listed above.\n",
      "\n",
      "DESCRIPTION\n",
      "    This module provides access to the mathematical functions\n",
      "    defined by the C standard.\n",
      "\n",
      "FUNCTIONS\n",
      "    acos(x, /)\n",
      "        Return the arc cosine (measured in radians) of x.\n",
      "    \n",
      "    acosh(x, /)\n",
      "        Return the inverse hyperbolic cosine of x.\n",
      "    \n",
      "    asin(x, /)\n",
      "        Return the arc sine (measured in radians) of x.\n",
      "    \n",
      "    asinh(x, /)\n",
      "        Return the inverse hyperbolic sine of x.\n",
      "    \n",
      "    atan(x, /)\n",
      "        Return the arc tangent (measured in radians) of x.\n",
      "    \n",
      "    atan2(y, x, /)\n",
      "        Return the arc tangent (measured in radians) of y/x.\n",
      "        \n",
      "        Unlike atan(y/x), the signs of both x and y are considered.\n",
      "    \n",
      "    atanh(x, /)\n",
      "        Return the inverse hyperbolic tangent of x.\n",
      "    \n",
      "    ceil(x, /)\n",
      "        Return the ceiling of x as an Integral.\n",
      "        \n",
      "        This is the smallest integer >= x.\n",
      "    \n",
      "    copysign(x, y, /)\n",
      "        Return a float with the magnitude (absolute value) of x but the sign of y.\n",
      "        \n",
      "        On platforms that support signed zeros, copysign(1.0, -0.0)\n",
      "        returns -1.0.\n",
      "    \n",
      "    cos(x, /)\n",
      "        Return the cosine of x (measured in radians).\n",
      "    \n",
      "    cosh(x, /)\n",
      "        Return the hyperbolic cosine of x.\n",
      "    \n",
      "    degrees(x, /)\n",
      "        Convert angle x from radians to degrees.\n",
      "    \n",
      "    erf(x, /)\n",
      "        Error function at x.\n",
      "    \n",
      "    erfc(x, /)\n",
      "        Complementary error function at x.\n",
      "    \n",
      "    exp(x, /)\n",
      "        Return e raised to the power of x.\n",
      "    \n",
      "    expm1(x, /)\n",
      "        Return exp(x)-1.\n",
      "        \n",
      "        This function avoids the loss of precision involved in the direct evaluation of exp(x)-1 for small x.\n",
      "    \n",
      "    fabs(x, /)\n",
      "        Return the absolute value of the float x.\n",
      "    \n",
      "    factorial(x, /)\n",
      "        Find x!.\n",
      "        \n",
      "        Raise a ValueError if x is negative or non-integral.\n",
      "    \n",
      "    floor(x, /)\n",
      "        Return the floor of x as an Integral.\n",
      "        \n",
      "        This is the largest integer <= x.\n",
      "    \n",
      "    fmod(x, y, /)\n",
      "        Return fmod(x, y), according to platform C.\n",
      "        \n",
      "        x % y may differ.\n",
      "    \n",
      "    frexp(x, /)\n",
      "        Return the mantissa and exponent of x, as pair (m, e).\n",
      "        \n",
      "        m is a float and e is an int, such that x = m * 2.**e.\n",
      "        If x is 0, m and e are both 0.  Else 0.5 <= abs(m) < 1.0.\n",
      "    \n",
      "    fsum(seq, /)\n",
      "        Return an accurate floating point sum of values in the iterable seq.\n",
      "        \n",
      "        Assumes IEEE-754 floating point arithmetic.\n",
      "    \n",
      "    gamma(x, /)\n",
      "        Gamma function at x.\n",
      "    \n",
      "    gcd(x, y, /)\n",
      "        greatest common divisor of x and y\n",
      "    \n",
      "    hypot(x, y, /)\n",
      "        Return the Euclidean distance, sqrt(x*x + y*y).\n",
      "    \n",
      "    isclose(a, b, *, rel_tol=1e-09, abs_tol=0.0)\n",
      "        Determine whether two floating point numbers are close in value.\n",
      "        \n",
      "          rel_tol\n",
      "            maximum difference for being considered \"close\", relative to the\n",
      "            magnitude of the input values\n",
      "          abs_tol\n",
      "            maximum difference for being considered \"close\", regardless of the\n",
      "            magnitude of the input values\n",
      "        \n",
      "        Return True if a is close in value to b, and False otherwise.\n",
      "        \n",
      "        For the values to be considered close, the difference between them\n",
      "        must be smaller than at least one of the tolerances.\n",
      "        \n",
      "        -inf, inf and NaN behave similarly to the IEEE 754 Standard.  That\n",
      "        is, NaN is not close to anything, even itself.  inf and -inf are\n",
      "        only close to themselves.\n",
      "    \n",
      "    isfinite(x, /)\n",
      "        Return True if x is neither an infinity nor a NaN, and False otherwise.\n",
      "    \n",
      "    isinf(x, /)\n",
      "        Return True if x is a positive or negative infinity, and False otherwise.\n",
      "    \n",
      "    isnan(x, /)\n",
      "        Return True if x is a NaN (not a number), and False otherwise.\n",
      "    \n",
      "    ldexp(x, i, /)\n",
      "        Return x * (2**i).\n",
      "        \n",
      "        This is essentially the inverse of frexp().\n",
      "    \n",
      "    lgamma(x, /)\n",
      "        Natural logarithm of absolute value of Gamma function at x.\n",
      "    \n",
      "    log(...)\n",
      "        log(x, [base=math.e])\n",
      "        Return the logarithm of x to the given base.\n",
      "        \n",
      "        If the base not specified, returns the natural logarithm (base e) of x.\n",
      "    \n",
      "    log10(x, /)\n",
      "        Return the base 10 logarithm of x.\n",
      "    \n",
      "    log1p(x, /)\n",
      "        Return the natural logarithm of 1+x (base e).\n",
      "        \n",
      "        The result is computed in a way which is accurate for x near zero.\n",
      "    \n",
      "    log2(x, /)\n",
      "        Return the base 2 logarithm of x.\n",
      "    \n",
      "    modf(x, /)\n",
      "        Return the fractional and integer parts of x.\n",
      "        \n",
      "        Both results carry the sign of x and are floats.\n",
      "    \n",
      "    pow(x, y, /)\n",
      "        Return x**y (x to the power of y).\n",
      "    \n",
      "    radians(x, /)\n",
      "        Convert angle x from degrees to radians.\n",
      "    \n",
      "    remainder(x, y, /)\n",
      "        Difference between x and the closest integer multiple of y.\n",
      "        \n",
      "        Return x - n*y where n*y is the closest integer multiple of y.\n",
      "        In the case where x is exactly halfway between two multiples of\n",
      "        y, the nearest even value of n is used. The result is always exact.\n",
      "    \n",
      "    sin(x, /)\n",
      "        Return the sine of x (measured in radians).\n",
      "    \n",
      "    sinh(x, /)\n",
      "        Return the hyperbolic sine of x.\n",
      "    \n",
      "    sqrt(x, /)\n",
      "        Return the square root of x.\n",
      "    \n",
      "    tan(x, /)\n",
      "        Return the tangent of x (measured in radians).\n",
      "    \n",
      "    tanh(x, /)\n",
      "        Return the hyperbolic tangent of x.\n",
      "    \n",
      "    trunc(x, /)\n",
      "        Truncates the Real x to the nearest Integral toward 0.\n",
      "        \n",
      "        Uses the __trunc__ magic method.\n",
      "\n",
      "DATA\n",
      "    e = 2.718281828459045\n",
      "    inf = inf\n",
      "    nan = nan\n",
      "    pi = 3.141592653589793\n",
      "    tau = 6.283185307179586\n",
      "\n",
      "FILE\n",
      "    /home/haniel/anaconda3/lib/python3.7/lib-dynload/math.cpython-37m-x86_64-linux-gnu.so\n",
      "\n",
      "\n"
     ]
    }
   ],
   "source": [
    "# modules\n",
    "from math import *\n",
    "\n",
    "print(sqrt(9))\n",
    "print(ceil(8))\n",
    "print(floor(7.9))\n",
    "print(fabs(-2.2))\n",
    "\n",
    "# print module functions\n",
    "print(dir(math))\n",
    "\n",
    "# help \n",
    "help(math)\n"
   ]
  },
  {
   "cell_type": "code",
   "execution_count": 18,
   "id": "416eec6a",
   "metadata": {},
   "outputs": [
    {
     "name": "stdout",
     "output_type": "stream",
     "text": [
      "0.9338747109190088\n",
      "0.7503729423102764\n",
      "0.8739319235827789\n",
      "16\n",
      "49\n",
      "36\n",
      "46.20528493933439\n",
      "22.14159425759591\n",
      "8.679557835618121\n",
      "45\n",
      "15\n",
      "30\n",
      "super\n",
      "22\n",
      "jfk\n",
      "jfk\n",
      "jfk\n"
     ]
    }
   ],
   "source": [
    "# modules\n",
    "from random import *\n",
    "\n",
    "for i in range(3):\n",
    "    print(random())\n",
    "for i in range(3):\n",
    "    print(randint(1,50))\n",
    "for i in range(3):\n",
    "    print(uniform(1,50))\n",
    "for i in range(3):\n",
    "    print(randrange(5,50, 5))\n",
    "lst = ['22', 'super', 'jfk', 38, \"ist\", 'hey']\n",
    "for i in range(5):\n",
    "    print(choice(lst))"
   ]
  },
  {
   "cell_type": "code",
   "execution_count": 28,
   "id": "6bb2fa8e",
   "metadata": {},
   "outputs": [
    {
     "name": "stdout",
     "output_type": "stream",
     "text": [
      "[1, 8, 27, 64, 125, 216, 343, 512, 729, 1000]\n",
      "[1, 8, 27, 64, 125, 216, 343, 512, 729, 1000]\n",
      "[0, 2, 4, 6, 8, 10, 12, 14, 16, 18, 20]\n",
      "[15, 8, -5, -24]\n",
      "[6]\n"
     ]
    }
   ],
   "source": [
    "# list comprehension\n",
    "lst = []\n",
    "for x in range(1,11):\n",
    "    lst.append(x**3)\n",
    "print(lst)\n",
    "\n",
    "lst = [x**3 for x in range(1,11)]\n",
    "print(lst)\n",
    "\n",
    "lst = [x for x in range(0,21) if x%2==0]\n",
    "print(lst)\n",
    "\n",
    "a = [2,3,4,5,6]\n",
    "b = [8,5,2,-1,-4]\n",
    "z = [a[i] * b[i] for i in range(1,len(a))]\n",
    "print(z)\n",
    "\n",
    "a = [2,4,6,8]\n",
    "b = [1,2,6,4]\n",
    "result = []\n",
    "z = [a[i] for i in range(1,len(a)) if a[i] == b[i]]\n",
    "print(z)"
   ]
  },
  {
   "cell_type": "code",
   "execution_count": 31,
   "id": "dc33786f",
   "metadata": {},
   "outputs": [
    {
     "name": "stdout",
     "output_type": "stream",
     "text": [
      "IPhone! It's awesome? 700\n"
     ]
    }
   ],
   "source": [
    "# OOP\n",
    "class Product:\n",
    "    def __init__(self):\n",
    "        self.name = 'IPhone!'\n",
    "        self.description = 'It\\'s awesome?'\n",
    "        self.price = 700\n",
    "\n",
    "p1 = Product()\n",
    "print(p1.name, p1.description, p1.price)"
   ]
  },
  {
   "cell_type": "code",
   "execution_count": 36,
   "id": "2569e280",
   "metadata": {},
   "outputs": [
    {
     "name": "stdout",
     "output_type": "stream",
     "text": [
      "Java Data course: [1, 9, 9, 4, 5]\n",
      "Java Web course: [5, 6, 3, 4, 5]\n",
      "Average Ratings for  Java Data course:  is  5.6\n",
      "Average Ratings for  Java Web course:  is  4.6\n"
     ]
    }
   ],
   "source": [
    "class Course:\n",
    "    def __init__(self, name, ratings):\n",
    "        self.name = name\n",
    "        self.ratings = ratings\n",
    "        \n",
    "    def average(self):\n",
    "        numberOfRatings = len(self.ratings)\n",
    "        average = sum(self.ratings)/numberOfRatings\n",
    "        print(\"Average Ratings for \", self.name, \" is \", average)\n",
    "\n",
    "c1 = Course(\"Java Data course:\", [1,9,9,4,5])\n",
    "print(c1.name, c1.ratings)\n",
    "\n",
    "c2 = Course(\"Java Web course:\", [5,6,3,4,5])\n",
    "print(c2.name, c2.ratings)\n",
    "\n",
    "c1.average()\n",
    "c2.average()"
   ]
  },
  {
   "cell_type": "code",
   "execution_count": 65,
   "id": "e6c2c4b6",
   "metadata": {},
   "outputs": [
    {
     "name": "stdout",
     "output_type": "stream",
     "text": [
      "Hello people!\n",
      "Zeni 100000 ['java', 'docker', 'ansible'] STEM\n",
      "inside destructor\n",
      "inside destructor\n",
      "Kevin 110000 ['python', 'kubernetes', 'aws'] STEM\n",
      "2\n",
      "True\n"
     ]
    }
   ],
   "source": [
    "# setter and getter are the mutuator methods\n",
    "\n",
    "class Programmer:\n",
    "    major = 'STEM'\n",
    "    numberOfProgrammer = 0\n",
    "    def __init__(self):\n",
    "        self.__college = True # __ hide field\n",
    "        Programmer.numberOfProgrammer += 1\n",
    "    def setName(self, n):\n",
    "        self.name = n\n",
    "    def getName(self):\n",
    "        return self.name\n",
    "    def setSalary(self, sal):\n",
    "        self.salary = sal\n",
    "    def getSalary(self):\n",
    "        return self.salary\n",
    "    def setTechnologies(self, technologies):\n",
    "        self.technologies = technologies\n",
    "    def getTechnologies(self):\n",
    "        return self.technologies\n",
    "    \n",
    "    # inner class\n",
    "    class Greeting:\n",
    "        def greet(self):\n",
    "            print(\"Hello people!\")\n",
    "            \n",
    "    def __del__(self):\n",
    "        print(\"inside destructor\")\n",
    "    \n",
    "    @staticmethod\n",
    "    def displayCount():\n",
    "        print(Programmer.numberOfProgrammer)\n",
    "        \n",
    "    \n",
    "p1 = Programmer()\n",
    "p1.setName(\"Zeni\")\n",
    "p1.setSalary(100000)\n",
    "p1.setTechnologies([\"java\", \"docker\", \"ansible\"])\n",
    "speak = p1.Greeting()\n",
    "speak.greet()\n",
    "\n",
    "print(p1.name, p1.salary, p1.technologies, p1.major)\n",
    "p1 = None\n",
    "\n",
    "p2 = Programmer()\n",
    "p2.setName(\"Kevin\")\n",
    "p2.setSalary(110000)\n",
    "p2.setTechnologies([\"python\", \"kubernetes\", \"aws\"])\n",
    "\n",
    "print(p2.name, p2.salary, p2.technologies, p2.major)\n",
    "\n",
    "Programmer.displayCount()    \n",
    "\n",
    "# access a 'private' field, name mangling\n",
    "print(p2._Programmer__college)"
   ]
  },
  {
   "cell_type": "code",
   "execution_count": 66,
   "id": "31a6173e",
   "metadata": {},
   "outputs": [],
   "source": [
    "# methods any name, when invorked, any number of times\n",
    "# constructor __init__, authomatically"
   ]
  },
  {
   "cell_type": "code",
   "execution_count": 67,
   "id": "2d63b343",
   "metadata": {},
   "outputs": [
    {
     "name": "stdout",
     "output_type": "stream",
     "text": [
      "True\n",
      "False\n",
      "True\n"
     ]
    }
   ],
   "source": [
    "import gc\n",
    "\n",
    "print(gc.isenabled())\n",
    "gc.disable()\n",
    "print(gc.isenabled())\n",
    "gc.enable()\n",
    "print(gc.isenabled())"
   ]
  },
  {
   "cell_type": "code",
   "execution_count": 30,
   "id": "cf780471",
   "metadata": {},
   "outputs": [
    {
     "name": "stdout",
     "output_type": "stream",
     "text": [
      "True\n",
      "BMW\n",
      "328i\n",
      "2018\n",
      "starting the three series\n",
      "True\n",
      "three series is being driven\n",
      "end ride, please drive again soon\n",
      "starting the five series\n",
      "five series is being driven\n",
      "end ride, please rate your ride in the app\n"
     ]
    }
   ],
   "source": [
    "# Inheritance\n",
    "# Method overriding, achieve 'runtime polymorphism for free' with dynamic types in Python\n",
    "# Abstract classes and interfaces\n",
    "from abc import abstractmethod, ABC\n",
    "\n",
    "# ABC from abc\n",
    "# abstract class can't be instantiated\n",
    "# becomes an interface with all methods abstracted\n",
    "class BMW(ABC):\n",
    "    def __init__(self, make, model, year):\n",
    "        self.make = make\n",
    "        self.model = model\n",
    "        self.year = year\n",
    "    @abstractmethod    \n",
    "    def start(self):\n",
    "        pass\n",
    "    @abstractmethod\n",
    "    def stop(self):\n",
    "       pass    \n",
    "    # child classes need a drive method\n",
    "    @abstractmethod\n",
    "    def drive(self):\n",
    "        pass\n",
    "        \n",
    "class ThreeSeries(BMW):\n",
    "    def __init__(self, cruiseControlEnabled, make, model, year):\n",
    "        BMW.__init__(self, make, model, year)\n",
    "        self.cruiseControlEnabled = cruiseControlEnabled\n",
    "        \n",
    "    def display(self):\n",
    "        print(self.cruiseControlEnabled)\n",
    "        \n",
    "    def drive(self):\n",
    "        print(\"three series is being driven\")\n",
    "        \n",
    "    # overriding respective method for interface\n",
    "    def start(self):\n",
    "        print(\"starting the three series\")\n",
    "    # super with methods\n",
    "    def stop(self):\n",
    "        super().stop()\n",
    "        print(\"end ride, please drive again soon\")\n",
    "        \n",
    "class FiveSeries(BMW):\n",
    "    def __init__(self, parkingAssistEnabled, make, model, year):\n",
    "        # use super instead of BMW.__init__\n",
    "        super().__init__(make, model, year)\n",
    "        self.parkingAssistEnabled = parkingAssistEnabled\n",
    "    # overriding respective method for interface\n",
    "    def start(self):\n",
    "        print(\"starting the five series\")\n",
    "    # super with methods\n",
    "    def stop(self):\n",
    "        super().stop()\n",
    "        print(\"end ride, please rate your ride in the app\")\n",
    "        \n",
    "    def drive(self):\n",
    "        print(\"five series is being driven\")\n",
    "\n",
    "threeSeries = ThreeSeries(True, \"BMW\", \"328i\", \"2018\")\n",
    "print(threeSeries.cruiseControlEnabled)\n",
    "print(threeSeries.make)\n",
    "print(threeSeries.model)\n",
    "print(threeSeries.year)\n",
    "threeSeries.start() # inherited\n",
    "threeSeries.display() # only in three series\n",
    "threeSeries.drive()\n",
    "threeSeries.stop()\n",
    "\n",
    "fiveSeries = FiveSeries(True, \"BMW\", \"5x\", \"2020\")\n",
    "fiveSeries.start()\n",
    "fiveSeries.drive()\n",
    "fiveSeries.stop()"
   ]
  },
  {
   "cell_type": "code",
   "execution_count": 14,
   "id": "1761c987",
   "metadata": {},
   "outputs": [
    {
     "name": "stdout",
     "output_type": "stream",
     "text": [
      "Duck, you dont undertand human talk\n",
      "Human, you don't understand duck talk\n",
      "Starting Airbus Engine\n",
      "Starting Airbus Engine\n"
     ]
    }
   ],
   "source": [
    "# DuckTyping, polymorphism\n",
    "# pass an object to a function\n",
    "def talk(obj):\n",
    "    obj.talk()\n",
    "    \n",
    "class Duck:\n",
    "    def talk(self):\n",
    "        print(\"Human, you don't understand duck talk\")\n",
    "\n",
    "class Human:\n",
    "    def talk(self):\n",
    "        print(\"Duck, you dont undertand human talk\")\n",
    "\n",
    "h=Human()\n",
    "talk(h)\n",
    "\n",
    "d=Duck()\n",
    "talk(d)\n"
   ]
  },
  {
   "cell_type": "code",
   "execution_count": 15,
   "id": "1d0ffc18",
   "metadata": {},
   "outputs": [
    {
     "name": "stdout",
     "output_type": "stream",
     "text": [
      "Starting Airbus Engine\n",
      "Starting Airbus Engine\n"
     ]
    }
   ],
   "source": [
    "# dependency injection\n",
    "class Flight:\n",
    "    def __init__(self, engine):\n",
    "        self.engine = engine\n",
    "    def startEngine(self):\n",
    "        self.engine.start()\n",
    "\n",
    "class AirbusEngine:\n",
    "    def start(self):\n",
    "        print(\"Starting Airbus Engine\")\n",
    "\n",
    "class BoeingEngine:\n",
    "    def start(self):\n",
    "        print(\"Starting Boeing Engine\")\n",
    "        \n",
    "ae = AirbusEngine()\n",
    "f = Flight(ae)\n",
    "f.startEngine()\n",
    "\n",
    "be = AirbusEngine()\n",
    "f = Flight(ae)\n",
    "f.startEngine()\n"
   ]
  },
  {
   "cell_type": "code",
   "execution_count": 18,
   "id": "37694180",
   "metadata": {},
   "outputs": [
    {
     "name": "stdout",
     "output_type": "stream",
     "text": [
      "30\n",
      "Hello how are you\n",
      "[1, 2, 3, 4, 5, 6]\n"
     ]
    }
   ],
   "source": [
    "# Operator overloading, polymorphic operator\n",
    "x = 10\n",
    "y = 20\n",
    "\n",
    "print(x + y)\n",
    "\n",
    "s1 = \"Hello \"\n",
    "s2 = \"how are you\"\n",
    "\n",
    "print(s1 + s2)\n",
    "\n",
    "l1 = [1,2,3]\n",
    "l2 = [4,5,6]\n",
    "print(l1 + l2)"
   ]
  },
  {
   "cell_type": "code",
   "execution_count": 10,
   "id": "bf5d9dd1",
   "metadata": {},
   "outputs": [
    {
     "name": "stdout",
     "output_type": "stream",
     "text": [
      "Enter two numbers: 4 0\n",
      "Division by zero is not allowed\n",
      "Please enter a non zero number\n",
      "file closed\n",
      "Code after exception\n"
     ]
    }
   ],
   "source": [
    "# exceptions\n",
    "# baseException\n",
    "#   Exception\n",
    "#     standardError EOFError, ZeroDivisionError, IndentationError\n",
    "#     warning DepreciatedWarning, importWarning\n",
    "\n",
    "# Handling exceptions\n",
    "try: \n",
    "    f = open(\"myfile\", \"w\")\n",
    "    a,b = [int(x) for x in input(\"Enter two numbers: \").split()]\n",
    "    c = a/b\n",
    "    f.write(\"Writing %d into file\" %c)\n",
    "    f.close()\n",
    "except ZeroDivisionError:\n",
    "    print(\"Division by zero is not allowed\")\n",
    "    print(\"Please enter a non zero number\")\n",
    "else:\n",
    "    print(\"You have entered a non zero number\")\n",
    "finally:\n",
    "    f.close()\n",
    "    print(\"file closed\")\n",
    "print(\"Code after exception\")"
   ]
  },
  {
   "cell_type": "code",
   "execution_count": 11,
   "id": "c76550aa",
   "metadata": {},
   "outputs": [
    {
     "ename": "SyntaxError",
     "evalue": "invalid syntax (1928694544.py, line 2)",
     "output_type": "error",
     "traceback": [
      "\u001b[0;36m  File \u001b[0;32m\"/tmp/ipykernel_115410/1928694544.py\"\u001b[0;36m, line \u001b[0;32m2\u001b[0m\n\u001b[0;31m    class OverTheLimitException(Exception)\u001b[0m\n\u001b[0m                                          ^\u001b[0m\n\u001b[0;31mSyntaxError\u001b[0m\u001b[0;31m:\u001b[0m invalid syntax\n"
     ]
    }
   ],
   "source": [
    "# custom error\n",
    "class OverTheLimitException(Exception)\n",
    "    def __init__(self,msg)\n",
    "        self.msg = msg\n",
    "\n",
    "def withdrawl(amount).\n",
    "    if(amount>2000):\n",
    "        raise OverTheLimitException(\"Withdrawal over 2000 per day is not possible\")\n",
    "        \n",
    "withdrawl(3000)\n",
    "        "
   ]
  },
  {
   "cell_type": "code",
   "execution_count": null,
   "id": "9849ba1f",
   "metadata": {},
   "outputs": [],
   "source": [
    "# Logging in action\n",
    "import logging\n",
    "\n",
    "logging.basicConfig(filename=\"mylog.log\", encoding='utf-8', level=logging.DEBUG)\n",
    "logging.error(\"Error\")\n",
    "logging.critical(\"Error\")\n",
    "logging.warning(\"Error\")\n",
    "logging.debug(\"Error\")\n",
    "logging.info(\"Error\")\n",
    "              "
   ]
  },
  {
   "cell_type": "code",
   "execution_count": 20,
   "id": "9fd45de7",
   "metadata": {},
   "outputs": [
    {
     "name": "stdout",
     "output_type": "stream",
     "text": [
      "Enter two numbers: 2 0\n"
     ]
    },
    {
     "name": "stderr",
     "output_type": "stream",
     "text": [
      "ERROR:root:Division by zero\n"
     ]
    },
    {
     "name": "stdout",
     "output_type": "stream",
     "text": [
      "Division by zero is not allowed\n",
      "Please enter a non zero number\n",
      "file closed\n",
      "Code after exception\n"
     ]
    }
   ],
   "source": [
    "# Logging exception handling demo\n",
    "try: \n",
    "    f = open(\"myfile\", \"w\")\n",
    "    a,b = [int(x) for x in input(\"Enter two numbers: \").split()]\n",
    "    logging.info(\"Division in progress\")\n",
    "    c = a/b\n",
    "    f.write(\"Writing %d into file\" %c)\n",
    "    f.close()\n",
    "except ZeroDivisionError:\n",
    "    print(\"Division by zero is not allowed\")\n",
    "    print(\"Please enter a non zero number\")\n",
    "    logging.error(\"Division by zero\")\n",
    "else:\n",
    "    print(\"You have entered a non zero number\")\n",
    "finally:\n",
    "    f.close()\n",
    "    print(\"file closed\")\n",
    "print(\"Code after exception\")"
   ]
  },
  {
   "cell_type": "code",
   "execution_count": 22,
   "id": "06f2236a",
   "metadata": {},
   "outputs": [
    {
     "name": "stdout",
     "output_type": "stream",
     "text": [
      "Enter an even number:7\n",
      "you have entered an odd number\n",
      "after assertion\n"
     ]
    }
   ],
   "source": [
    "# assertion case\n",
    "try: \n",
    "    num = int(input(\"Enter an even number:\"))\n",
    "    assert num%2==0, \"you have entered an odd number\"\n",
    "except AssertionError as obj:\n",
    "    print(obj)\n",
    "print(\"after assertion\")\n",
    "    \n"
   ]
  },
  {
   "cell_type": "code",
   "execution_count": 11,
   "id": "c807bb1e",
   "metadata": {},
   "outputs": [
    {
     "name": "stdout",
     "output_type": "stream",
     "text": [
      "Enter text: #\n",
      "#\n"
     ]
    }
   ],
   "source": [
    "# file i/o\n",
    "# w write\n",
    "# r read from the beginning to the end\n",
    "# a append\n",
    "# w+ write and read\n",
    "# r+ read, write and append\n",
    "# a+ appending and reading\n",
    "# x \n",
    "# f=open(\"fileName\", \"mode\", \"buffer\")\n",
    "\n",
    "# multiple lines\n",
    "import os, sys\n",
    "\n",
    "f = open(\"myfile.txt\", \"w\")\n",
    "s = input(\"Enter text: \")\n",
    "f.write(s)\n",
    "f.close()\n",
    "\n",
    "f = open(\"myfile.txt\", \"r\")\n",
    "s = f.read()\n",
    "print(s)\n",
    "f.close()\n",
    "\n",
    "\n"
   ]
  },
  {
   "cell_type": "code",
   "execution_count": 13,
   "id": "28fb08f0",
   "metadata": {},
   "outputs": [
    {
     "name": "stdout",
     "output_type": "stream",
     "text": [
      "Enter Text (Type # when you are done)\n",
      "#\n"
     ]
    }
   ],
   "source": [
    "# multiple lines\n",
    "f = open(\"myfile.txt\", \"w\")\n",
    "print(\"Enter Text (Type # when you are done)\")\n",
    "\n",
    "s = ''\n",
    "while s != '#':\n",
    "    s = input()\n",
    "    f.write(s + '\\n')\n",
    "    \n",
    "f.close()"
   ]
  },
  {
   "cell_type": "code",
   "execution_count": 14,
   "id": "28834edf",
   "metadata": {},
   "outputs": [
    {
     "name": "stdout",
     "output_type": "stream",
     "text": [
      "#\n",
      "\n",
      "File does not exist\n"
     ]
    }
   ],
   "source": [
    "# cehck if file exists\n",
    "\n",
    "if os.path.isfile('myfile.txt'):\n",
    "    f = open('myfile.txt', 'r')\n",
    "    s = f.read()\n",
    "    print(s)\n",
    "    f.close()\n",
    "else:\n",
    "    print(\"File does not exist\")\n",
    "    \n",
    "if os.path.isfile('myfile123.txt'):\n",
    "    f = open('myfile.txt', 'r')\n",
    "    s = f.read()\n",
    "    print(s)\n",
    "    f.close()\n",
    "else:\n",
    "    print(\"File does not exist\")\n",
    "\n"
   ]
  },
  {
   "cell_type": "code",
   "execution_count": 16,
   "id": "7d4bd83a",
   "metadata": {},
   "outputs": [
    {
     "name": "stdout",
     "output_type": "stream",
     "text": [
      "123 John 90\n"
     ]
    }
   ],
   "source": [
    "# pickle and unpickle object (serialize)\n",
    "import pickle, student\n",
    "\n",
    "f = open(\"student.dat\", \"wb\")\n",
    "s = student.Student(123, \"John\", 90)\n",
    "pickle.dump(s, f)\n",
    "f.close()\n",
    "\n",
    "f = open(\"student.dat\", \"rb\")\n",
    "obj = pickle.load(f)\n",
    "obj.display()\n"
   ]
  },
  {
   "cell_type": "code",
   "execution_count": 21,
   "id": "b289ad34",
   "metadata": {},
   "outputs": [
    {
     "name": "stdout",
     "output_type": "stream",
     "text": [
      "one\n",
      "['one', 'One']\n",
      "None\n",
      "Tak\n",
      "['One', 'One']\n",
      "['Take up ', ' One or or ', ' idea. One idea maybe ', ' at a time.']\n",
      "Take up 1 One or or 23 alternatives. One alternatives maybe 45 at a time.\n"
     ]
    }
   ],
   "source": [
    "# Regular expressions I\n",
    "# - pattern, search, email, password, validate, regex\n",
    "# - re - match, search, findall, split, sub\n",
    "\n",
    "# \\d digit\n",
    "# \\D non-digit\n",
    "# \\s whitespace\n",
    "# \\S non-whitespace\n",
    "# \\w numeric\n",
    "# \\W non-alpha numeric\n",
    "# \\b whitespace around words\n",
    "# \\A matches at the beginning of the string, search at the beginning\n",
    "# \\Z matches at the end of the string \n",
    "# + one or more digits\n",
    "# * zero or more \n",
    "# {m} exactly m occurences\n",
    "# ? zero or one\n",
    "# {m,n} min m to max n occurences, 0 to infinity if nothing specified\n",
    "\n",
    "import re\n",
    "\n",
    "s = \"Take up one idea. One idea at a time.\"\n",
    "\n",
    "# returns a  SRE_Match object\n",
    "result = re.search(r'o\\w\\w', s) # o followed by any four characters\n",
    "print(result.group())\n",
    "\n",
    "# returns a list\n",
    "result = re.findall(r'[oO]\\w\\w', s)\n",
    "print(result)\n",
    "\n",
    "# returns a  SRE_Match object\n",
    "result = re.match(r'o\\w\\w', s)\n",
    "result1 = re.match(r'T\\w\\w', s)\n",
    "print(result)\n",
    "print(result1.group())\n",
    "\n",
    "s = \"Take up 1 One or or 23 idea. One idea maybe 45 at a time.\"\n",
    "result = re.findall(r'O\\w{1,2}', s)\n",
    "print(result)\n",
    "\n",
    "result = re.split(r'\\d+', s)\n",
    "print(result)\n",
    "\n",
    "result = re.sub(r'idea', 'alternatives', s)\n",
    "print(result)\n",
    "\n"
   ]
  },
  {
   "cell_type": "code",
   "execution_count": 28,
   "id": "d0426708",
   "metadata": {},
   "outputs": [
    {
     "name": "stdout",
     "output_type": "stream",
     "text": [
      "['one', 'One']\n",
      "['one', 'One']\n",
      "['on', 'On']\n",
      "\n",
      "['on', 'On']\n",
      "['one', 'One']\n",
      "[]\n",
      "\n",
      "['one', 'One']\n"
     ]
    }
   ],
   "source": [
    "# Regular expressions II\n",
    "# - pattern, search, email, password, validate, regex\n",
    "# - re - match, search, findall, split, sub\n",
    "\n",
    "# \\d digit\n",
    "# \\D non-digit\n",
    "# \\s whitespace\n",
    "# \\S non-whitespace\n",
    "# \\w numeric\n",
    "# \\W non-alpha numeric\n",
    "# \\b whitespace around words\n",
    "# \\A matches at the beginning of the string, search at the beginning\n",
    "# \\Z matches at the end of the string \n",
    "# + one or more digits\n",
    "# * zero or more \n",
    "# {m} exactly m occurences\n",
    "# ? zero or one\n",
    "# {m,n} min m to max n occurences, 0 to infinity if nothing specified\n",
    "\n",
    "s = \"Take up one idea. One idea at a time.\"\n",
    "\n",
    "# Quantifiers\n",
    "# one or more of the preceding regular expression\n",
    "result = re.findall(r'[oO]\\w+', s)\n",
    "print(result)\n",
    "# zero or more of the preceding regular expression\n",
    "result = re.findall(r'[oO]\\w*', s)\n",
    "print(result)\n",
    "# zero or one of the preceding regular expression\n",
    "result = re.findall(r'[oO]\\w?', s) \n",
    "print(result)\n",
    "\n",
    "print()\n",
    "# m of the preceding regular expression, o or O followed by one alphanumeric character\n",
    "result = re.findall(r'[oO]\\w{1}', s) \n",
    "print(result)\n",
    "result = re.findall(r'[oO]\\w{2}', s) \n",
    "print(result)\n",
    "result = re.findall(r'[oO]\\w{3}', s) \n",
    "print(result)\n",
    "\n",
    "print()\n",
    "# m to n of the preceding regular expression\n",
    "result = re.findall(r'[oO]\\w{1,2}', s) \n",
    "print(result)\n",
    "\n"
   ]
  },
  {
   "cell_type": "code",
   "execution_count": 30,
   "id": "de7ae99f",
   "metadata": {},
   "outputs": [
    {
     "name": "stdout",
     "output_type": "stream",
     "text": [
      "['1-3-2012', '12-2-2022']\n"
     ]
    }
   ],
   "source": [
    "# Matching dates\n",
    "s = \"Take up one idea. 1-3-2012. One idea at a time in 12-2-2022.\"\n",
    "result = re.findall(r'\\d{1,2}-\\d{1,2}-\\d{4}', s)\n",
    "print(result)"
   ]
  },
  {
   "cell_type": "code",
   "execution_count": 34,
   "id": "696abea9",
   "metadata": {},
   "outputs": [
    {
     "name": "stdout",
     "output_type": "stream",
     "text": [
      "['1-3-2012', '12-2-2022']\n",
      "None\n",
      "Ta\n",
      "Take\n"
     ]
    }
   ],
   "source": [
    "# Special characters\n",
    "# \\ escape special character\n",
    "# . all except a new line\n",
    "# ^ all at the beginning of a string\n",
    "# $ at the end of a string\n",
    "# [...] in the range of a string e.g. a-z\n",
    "# [^...] all that are not in the brackets\n",
    "# (...) match the regular expression\n",
    "# (R|S) either regular expression R or regular expression S\n",
    "s = \"Take up one idea. 1-3-2012. One idea at a time in 12-2-2022.\"\n",
    "result = re.findall(r'\\d{1,2}-\\d{1,2}-\\d{4}', s)\n",
    "print(result)\n",
    "\n",
    "result = re.search(r'^O\\w', s)\n",
    "print(result)\n",
    "\n",
    "result = re.search(r'^T\\w', s)\n",
    "print(result.group())\n",
    "\n",
    "result = re.search(r'^T\\w*', s)\n",
    "print(result.group())"
   ]
  },
  {
   "cell_type": "code",
   "execution_count": 44,
   "id": "1230de2f",
   "metadata": {},
   "outputs": [
    {
     "name": "stdout",
     "output_type": "stream",
     "text": [
      "1643282358.9954274\n",
      "Thu Jan 27 12:19:18 2022\n",
      "2022-01-27 12:19:19.000179\n",
      "Current Date: 2022-1-27 12:19:19\n"
     ]
    }
   ],
   "source": [
    "# date and time\n",
    "# epoch start since jan 1st 1970\n",
    "# ctime() time\n",
    "# datetime datetime\n",
    "# sleep()\n",
    "# perf_counter()\n",
    "\n",
    "# time.time()\n",
    "\n",
    "import time, datetime\n",
    "epochseconds = time.time()\n",
    "print(epochseconds)\n",
    "\n",
    "s = time.ctime(epochseconds)\n",
    "print(s)\n",
    "\n",
    "dt = datetime.datetime.today()\n",
    "print(dt)\n",
    "print(\"Current Date: {}-{}-{} {}:{}:{}\".format(dt.year, dt.month, dt.day, dt.hour, dt.minute, dt.second))\n",
    "\n",
    "\n",
    "\n"
   ]
  },
  {
   "cell_type": "code",
   "execution_count": 48,
   "id": "2a7d7c95",
   "metadata": {},
   "outputs": [
    {
     "name": "stdout",
     "output_type": "stream",
     "text": [
      "2018-07-21 12:45:00\n"
     ]
    }
   ],
   "source": [
    "# create dates with combine\n",
    "from datetime import *\n",
    "\n",
    "d = date(2018, 7, 21)\n",
    "t = time(12, 45)\n",
    "\n",
    "dt = datetime.combine(d,t)\n",
    "print(dt)"
   ]
  },
  {
   "cell_type": "code",
   "execution_count": 54,
   "id": "689f7684",
   "metadata": {},
   "outputs": [
    {
     "name": "stdout",
     "output_type": "stream",
     "text": [
      "2016-07-12\n",
      "2016-08-12\n",
      "2017-08-12\n",
      "2017-08-30\n",
      "2018-08-12\n",
      "2018-09-12\n",
      "\n",
      "Excecution time: 3.0068739710004593 s\n"
     ]
    }
   ],
   "source": [
    "# sort dates, sleep, execution time,\n",
    "from datetime import *\n",
    "import time\n",
    "\n",
    "\n",
    "startTime = time.perf_counter()\n",
    "\n",
    "ldates = []\n",
    "d1 = date(2016, 8, 12)\n",
    "d2 = date(2017, 8, 12)\n",
    "d3 = date(2018, 8, 12)\n",
    "d4 = date(2016, 7, 12)\n",
    "d5 = date(2017, 8, 30)\n",
    "d6 = date(2018, 9, 12)\n",
    "\n",
    "ldates.append(d1)\n",
    "ldates.append(d2)\n",
    "ldates.append(d3)\n",
    "ldates.append(d4)\n",
    "ldates.append(d5)\n",
    "ldates.append(d6)\n",
    "\n",
    "ldates.sort()\n",
    "\n",
    "time.sleep(3)\n",
    "\n",
    "for d in ldates:\n",
    "    print(d)\n",
    "    \n",
    "endTime = time.perf_counter()\n",
    "\n",
    "print()\n",
    "print(\"Excecution time: {}s\".format(endTime - startTime))\n"
   ]
  },
  {
   "cell_type": "code",
   "execution_count": 56,
   "id": "c77a9370",
   "metadata": {},
   "outputs": [
    {
     "name": "stdout",
     "output_type": "stream",
     "text": [
      "Current Thread that is running: MainThread\n"
     ]
    }
   ],
   "source": [
    "# Treads Main Thread\n",
    "import threading\n",
    "\n",
    "print(\"Current Thread that is running:\", threading.current_thread().getName())\n",
    "\n",
    "if threading.current_thread() == threading.main_thread():\n",
    "    print(\"Main thread\")\n",
    "else:\n",
    "    print(\"Some other thread\")"
   ]
  },
  {
   "cell_type": "code",
   "execution_count": 62,
   "id": "beb9a3c6",
   "metadata": {},
   "outputs": [
    {
     "name": "stdout",
     "output_type": "stream",
     "text": [
      "Current Thread that is running: MainThread\n",
      "Current Thread that is running in displayNumers: Thread-10\n",
      "0\n",
      "1\n",
      "2\n",
      "3\n",
      "4\n",
      "5\n",
      "6\n",
      "7\n",
      "8\n",
      "9\n",
      "10\n"
     ]
    }
   ],
   "source": [
    "# Create the first thread, new thread from the main thread\n",
    "from threading import Thread\n",
    "\n",
    "def displayNumbers():\n",
    "    i = 0\n",
    "    print(\"Current Thread that is running in displayNumers:\", threading.current_thread().getName())\n",
    "    while(i <= 10):\n",
    "        print(i)\n",
    "        i += 1\n",
    "\n",
    "print(\"Current Thread that is running:\", threading.current_thread().getName())\n",
    "t = Thread(target=displayNumbers)\n",
    "t.start()"
   ]
  },
  {
   "cell_type": "code",
   "execution_count": 64,
   "id": "fa5b94ca",
   "metadata": {},
   "outputs": [
    {
     "name": "stdout",
     "output_type": "stream",
     "text": [
      "Current Thread that is running: MainThread\n",
      "Current Thread that is running in displayNumers: Thread-12\n",
      "0\n",
      "1\n",
      "2\n",
      "3\n",
      "4\n",
      "5\n",
      "6\n",
      "7\n",
      "8\n",
      "9\n",
      "10\n"
     ]
    }
   ],
   "source": [
    "# Create thread derivig from class\n",
    "\n",
    "class MyThread(Thread):\n",
    "    def run(self):\n",
    "        i = 0\n",
    "        print(\"Current Thread that is running in displayNumers:\", threading.current_thread().getName())\n",
    "        while(i <= 10):\n",
    "            print(i)\n",
    "            i += 1\n",
    "\n",
    "print(\"Current Thread that is running:\", threading.current_thread().getName())\n",
    "t = MyThread()\n",
    "t.start()"
   ]
  },
  {
   "cell_type": "code",
   "execution_count": 69,
   "id": "a25c63b1",
   "metadata": {},
   "outputs": [
    {
     "name": "stdout",
     "output_type": "stream",
     "text": [
      "Current Thread that is running: MainThread\n",
      "Current Thread that is running in displayNumers: Thread-23\n",
      "0\n",
      "1\n",
      "2\n",
      "3\n",
      "4\n",
      "5\n",
      "6\n",
      "7\n",
      "8\n",
      "9Current Thread that is running in displayNumers: Thread-24\n",
      "10\n",
      "\n",
      "Current Thread that is running in displayNumers:0\n",
      "1\n",
      "2\n",
      "3 Thread-25\n",
      "0\n",
      "1\n",
      "2\n",
      "3\n",
      "4\n",
      "5\n",
      "6\n",
      "7\n",
      "8\n",
      "9\n",
      "10\n",
      "\n",
      "4\n",
      "5\n",
      "6\n",
      "7\n",
      "8\n",
      "9\n",
      "10\n"
     ]
    }
   ],
   "source": [
    "# threading using a class\n",
    "\n",
    "class MyThread:\n",
    "    \n",
    "    def displayNumbers(self):\n",
    "        i = 0\n",
    "        print(\"Current Thread that is running in displayNumers:\", threading.current_thread().getName())\n",
    "        while(i <= 10):\n",
    "            print(i)\n",
    "            i += 1\n",
    "\n",
    "print(\"Current Thread that is running:\", threading.current_thread().getName())\n",
    "obj = MyThread()\n",
    "t = Thread(target=obj.displayNumbers)\n",
    "t.start()\n",
    "\n",
    "t1 = Thread(target=obj.displayNumbers)\n",
    "t1.start()\n",
    "\n",
    "t2 = Thread(target=obj.displayNumbers)\n",
    "t2.start()\n"
   ]
  },
  {
   "cell_type": "code",
   "execution_count": 73,
   "id": "7947ec5d",
   "metadata": {},
   "outputs": [
    {
     "name": "stdout",
     "output_type": "stream",
     "text": [
      "Current Thread that is running: MainThread\n",
      "Current Thread that is running in displayNumers: Thread-35\n",
      "Current Thread that is running in displayNumers: Thread-36\n",
      "Current Thread that is running in displayNumers: Thread-37\n",
      "0\n",
      "1\n",
      "2\n",
      "3\n",
      "4\n",
      "5\n",
      "6\n",
      "7\n",
      "8\n",
      "9\n",
      "10\n",
      "00\n",
      "\n",
      "1\n",
      "2\n",
      "3\n",
      "4\n",
      "15\n",
      "6\n",
      "7\n",
      "8\n",
      "9\n",
      "2\n",
      "3\n",
      "4\n",
      "5\n",
      "6\n",
      "7\n",
      "8\n",
      "9\n",
      "10\n",
      "\n",
      "10\n"
     ]
    }
   ],
   "source": [
    "# threading using a class, multithreading in action, delay in threads: push a thread into sleep\n",
    "import time \n",
    "\n",
    "class MyThread:\n",
    "    \n",
    "    def displayNumbers(self):\n",
    "        i = 0\n",
    "        print(\"Current Thread that is running in displayNumers:\", threading.current_thread().getName())\n",
    "        time.sleep(1)\n",
    "        while(i <= 10):\n",
    "            print(i)\n",
    "            i += 1\n",
    "\n",
    "print(\"Current Thread that is running:\", threading.current_thread().getName())\n",
    "obj = MyThread()\n",
    "t = Thread(target=obj.displayNumbers)\n",
    "t.start()\n",
    "\n",
    "t1 = Thread(target=obj.displayNumbers)\n",
    "t1.start()\n",
    "\n",
    "t2 = Thread(target=obj.displayNumbers)\n",
    "t2.start()"
   ]
  },
  {
   "cell_type": "code",
   "execution_count": 75,
   "id": "9e8aa241",
   "metadata": {},
   "outputs": [
    {
     "name": "stdout",
     "output_type": "stream",
     "text": [
      "Confirming a seat\n",
      "Processing the payment\n",
      "Printing the ticket\n",
      "Confirming a seat\n",
      "Processing the payment\n",
      "Printing the ticket\n",
      "Confirming a seat\n",
      "Processing the payment\n",
      "Printing the ticket\n"
     ]
    }
   ],
   "source": [
    "# usecase\n",
    "from threading import *\n",
    "\n",
    "class BookMyBus:\n",
    "    \n",
    "    def buy(self):\n",
    "        print(\"Confirming a seat\")\n",
    "        print(\"Processing the payment\")\n",
    "        print(\"Printing the ticket\")\n",
    "        \n",
    "obj = BookMyBus()\n",
    "t1 = Thread(target=obj.buy())\n",
    "t2 = Thread(target=obj.buy())\n",
    "t3 = Thread(target=obj.buy())\n",
    "\n",
    "t1.start()\n",
    "t2.start()\n",
    "t3.start()"
   ]
  },
  {
   "cell_type": "code",
   "execution_count": null,
   "id": "10370014",
   "metadata": {},
   "outputs": [],
   "source": [
    "# Thread synchronization\n",
    "# thread mutex, semaphore\n",
    "# first acquire a lock, then no thread can use the object until release\n",
    "# semaphore uses a counter \n",
    "\n"
   ]
  },
  {
   "cell_type": "code",
   "execution_count": 87,
   "id": "341e13d6",
   "metadata": {},
   "outputs": [
    {
     "name": "stdout",
     "output_type": "stream",
     "text": [
      "Seats left:  9\n",
      "Confirming a seat\n",
      "Processing the payment\n",
      "Printing the ticket\n",
      "Seats left:  6\n",
      "Confirming a seat\n",
      "Processing the payment\n",
      "Printing the ticket\n",
      "Seats left:  2\n",
      "Not enough seats available\n"
     ]
    }
   ],
   "source": [
    "# usecase, synchronize with a lock/semaphore\n",
    "from threading import *\n",
    "\n",
    "class BookMyBus:\n",
    "    \n",
    "    def __init__(self, availableSeats):\n",
    "        self.availableSeats = availableSeats\n",
    "        self.l = Lock() # or self.l = Semaphore()\n",
    "        \n",
    "    def buy(self, seatsRequested):\n",
    "        self.l.acquire()\n",
    "        print(\"Seats left: \", self.availableSeats)\n",
    "        if(self.availableSeats >= seatsRequested):\n",
    "            print(\"Confirming a seat\")\n",
    "            print(\"Processing the payment\")\n",
    "            print(\"Printing the ticket\")\n",
    "            self.availableSeats -= seatsRequested\n",
    "        else:\n",
    "            print(\"Not enough seats available\")\n",
    "        self.l.release()\n",
    "\n",
    "obj = BookMyBus(9)\n",
    "t1 = Thread(target=obj.buy, args=(3,))\n",
    "t2 = Thread(target=obj.buy, args=(4,))\n",
    "t3 = Thread(target=obj.buy, args=(3,))\n",
    "\n",
    "t1.start()\n",
    "t2.start()\n",
    "t3.start()"
   ]
  },
  {
   "cell_type": "code",
   "execution_count": 93,
   "id": "032fd215",
   "metadata": {},
   "outputs": [
    {
     "name": "stdout",
     "output_type": "stream",
     "text": [
      "item added\n",
      "item added\n",
      "item added\n",
      "item added\n",
      "Orders shipped  ['Product 1', 'Product 2', 'Product 3', 'Product 4']\n"
     ]
    }
   ],
   "source": [
    "# Thread communication, using a flag\n",
    "from threading import *\n",
    "from time import *\n",
    "\n",
    "class Producer: \n",
    "    \n",
    "    def __init__(self):\n",
    "        self.products = []\n",
    "        self.ordersplaced = False\n",
    "        \n",
    "    def produce(self):\n",
    "        for i in range(1,5):\n",
    "            self.products.append(\"Product \"+str(i))\n",
    "            sleep(1)\n",
    "            print(\"item added\")\n",
    "        self.ordersplaced = True\n",
    "\n",
    "class Consumer:\n",
    "    def __init__(self, prod):\n",
    "        self.prod = prod\n",
    "        \n",
    "    def consume(self):\n",
    "        while self.prod.ordersplaced == False:\n",
    "            sleep(0.2)\n",
    "        print(\"Orders shipped \", str(self.prod.products))\n",
    "        \n",
    "p = Producer()\n",
    "\n",
    "c = Consumer(p)\n",
    "\n",
    "t1 = Thread(target=p.produce())\n",
    "t2 = Thread(target=c.consume())\n"
   ]
  },
  {
   "cell_type": "code",
   "execution_count": 95,
   "id": "cbee9051",
   "metadata": {},
   "outputs": [
    {
     "name": "stdout",
     "output_type": "stream",
     "text": [
      "item added\n",
      "item added\n",
      "item added\n",
      "item added\n",
      "Orders shipped  ['Product 1', 'Product 2', 'Product 3', 'Product 4']\n"
     ]
    }
   ],
   "source": [
    "# Thread communication, using wait and notify\n",
    "from threading import *\n",
    "from time import *\n",
    "\n",
    "class Producer: \n",
    "    \n",
    "    def __init__(self):\n",
    "        self.products = []\n",
    "        self.c = Condition()\n",
    "        \n",
    "    def produce(self):\n",
    "        self.c.acquire()\n",
    "        \n",
    "        for i in range(1,5):\n",
    "            self.products.append(\"Product \"+str(i))\n",
    "            sleep(1)\n",
    "            print(\"item added\")\n",
    "        self.c.notify()\n",
    "        self.c.release()\n",
    "\n",
    "class Consumer:\n",
    "    def __init__(self, prod):\n",
    "        self.prod = prod\n",
    "        \n",
    "    def consume(self):\n",
    "        self.prod.c.acquire()\n",
    "        self.prod.c.wait(timeout = 0)\n",
    "        self.prod.c.release()\n",
    "        print(\"Orders shipped \", str(self.prod.products))\n",
    "        \n",
    "p = Producer()\n",
    "\n",
    "c = Consumer(p)\n",
    "\n",
    "t1 = Thread(target=p.produce())\n",
    "t2 = Thread(target=c.consume())\n"
   ]
  },
  {
   "cell_type": "code",
   "execution_count": 102,
   "id": "f28d9737",
   "metadata": {},
   "outputs": [
    {
     "name": "stdout",
     "output_type": "stream",
     "text": [
      "producing\n",
      "ready to consume\n",
      "\n",
      "\n",
      "produced\n",
      "consume data\n",
      "producing\n",
      "\n",
      "produced\n",
      "\n",
      "producing\n",
      "\n",
      "produced\n",
      "\n",
      "producing\n",
      "\n",
      " 2 produced\n",
      "\n",
      "producing\n",
      "\n",
      "\n",
      "\n",
      "produced\n",
      "\n",
      "ready to consume\n",
      "\n",
      "consume data 35 \n",
      "\n",
      "ready to consume\n",
      "\n",
      "consume data 28 \n",
      "\n",
      "ready to consume\n",
      "\n",
      "consume data 16 \n",
      "\n",
      "ready to consume\n",
      "\n",
      "consume data 50 \n",
      "\n",
      "ready to consume\n",
      "\n"
     ]
    }
   ],
   "source": [
    "# Queues and thread communication\n",
    "import random\n",
    "import time\n",
    "import queue\n",
    "from threading import *\n",
    "\n",
    "def producer(q):\n",
    "    i = 0\n",
    "    while i<5:\n",
    "        print(\"producing\\n\")\n",
    "        q.put(random.randint(1,50))\n",
    "        print(\"produced\\n\")\n",
    "        i += 1\n",
    "        \n",
    "def consumer(q):\n",
    "    i = 0\n",
    "    while i<5:\n",
    "        print(\"ready to consume\\n\")\n",
    "        print(\"consume data\", q.get(),'\\n')\n",
    "        time.sleep(3)\n",
    "        \n",
    "q = queue.Queue()\n",
    "t1 = Thread(target=producer, args=(q,))\n",
    "t2 = Thread(target=consumer, args=(q,))\n",
    "t1.start()\n",
    "t2.start()"
   ]
  },
  {
   "cell_type": "code",
   "execution_count": 104,
   "id": "0b64305a",
   "metadata": {},
   "outputs": [
    {
     "name": "stdout",
     "output_type": "stream",
     "text": [
      "400 100 500 50 \n",
      "50 500 100 400 \n",
      "50 100 400 500 "
     ]
    }
   ],
   "source": [
    "# three types of queue\n",
    "import queue\n",
    "\n",
    "q = queue.Queue()\n",
    "q.put(400)\n",
    "q.put(100)\n",
    "q.put(500)\n",
    "q.put(50)\n",
    "\n",
    "while not q.empty():\n",
    "    print(q.get(), end=' ')\n",
    "print()\n",
    "lq = queue.LifoQueue()\n",
    "lq.put(400)\n",
    "lq.put(100)\n",
    "lq.put(500)\n",
    "lq.put(50)\n",
    "\n",
    "while not lq.empty():\n",
    "    print(lq.get(), end=' ')\n",
    "print()\n",
    "pq = queue.PriorityQueue()\n",
    "pq.put(400)\n",
    "pq.put(100)\n",
    "pq.put(500)\n",
    "pq.put(50)\n",
    "\n",
    "while not pq.empty():\n",
    "    print(pq.get(), end=' ')"
   ]
  },
  {
   "cell_type": "code",
   "execution_count": 108,
   "id": "5ae720f7",
   "metadata": {},
   "outputs": [
    {
     "name": "stdout",
     "output_type": "stream",
     "text": [
      "(400, 'John') (100, 'Bob') (500, 'Ahmed') \n",
      "John Bob Ahmed \n"
     ]
    }
   ],
   "source": [
    "# types for queue: use tuples\n",
    "q = queue.Queue()\n",
    "q.put((400, \"John\"))\n",
    "q.put((100, \"Bob\"))\n",
    "q.put((500, \"Ahmed\"))\n",
    "\n",
    "while not q.empty():\n",
    "    print(q.get(), end=' ')\n",
    "print()\n",
    "q.put((400, \"John\"))\n",
    "q.put((100, \"Bob\"))\n",
    "q.put((500, \"Ahmed\"))  \n",
    "while not q.empty():\n",
    "    print(q.get()[1], end=' ')\n",
    "print()"
   ]
  },
  {
   "cell_type": "code",
   "execution_count": 112,
   "id": "407acc62",
   "metadata": {},
   "outputs": [],
   "source": [
    "# server, download html\n",
    "import urllib.request\n",
    "\n",
    "try:\n",
    "    url = urllib.request.urlopen(\"https://www.python.org/\")\n",
    "    content = url.read()\n",
    "    url.close()\n",
    "except urllib.error.HTTPError:\n",
    "    print(\"page not found\")\n",
    "f = open('python.html', 'wb')\n",
    "f.write(content)\n",
    "f.close()"
   ]
  },
  {
   "cell_type": "code",
   "execution_count": 115,
   "id": "7f0856e2",
   "metadata": {},
   "outputs": [],
   "source": [
    "# images, download image\n",
    "import urllib.request\n",
    "\n",
    "try:\n",
    "    url = \"https://www.python.org/static/img/python-logo@2x.png\"\n",
    "    urllib.request.urlretrieve(url, \"python.png\")\n",
    "except urllib.error.HTTPError:\n",
    "    print(\"image not found\")"
   ]
  },
  {
   "cell_type": "code",
   "execution_count": 2,
   "id": "4cc8c37f",
   "metadata": {},
   "outputs": [],
   "source": [
    "# socket programming: socket, connect - socket, bind, listen, accept, send/recv, close\n",
    "# import socket\n",
    "#\n",
    "# host = \"localhost\"\n",
    "# port = 4001\n",
    "# \n",
    "# s = socket.socket(socket.AF_INET, socket.SOCK_STREAM)\n",
    "# \n",
    "# s.bind((host,port))\n",
    "# print(\"Server listening on port:\",port)\n",
    "# s.listen(1)\n",
    "# \n",
    "# c, addr = s.accept()\n",
    "# print(\"Connection from:\", str(addr))\n",
    "# c.send(b\"Hello, how are you?\")\n",
    "# c.send(\"bye\".encode())\n",
    "# c.close()"
   ]
  },
  {
   "cell_type": "code",
   "execution_count": 3,
   "id": "51d8d2e4",
   "metadata": {},
   "outputs": [],
   "source": [
    "#client run with .py\n",
    "# import socket\n",
    "# s = socket.socket()\n",
    "#\n",
    "# s.connect((\"localhost\", 4000))\n",
    "# msg = s.recv(1024)\n",
    "#\n",
    "# while msg:\n",
    "#     print(\"Received: \", msg.decode())\n",
    "#     msg = s.recv(1024)\n",
    "#    \n",
    "# s.close()"
   ]
  },
  {
   "cell_type": "code",
   "execution_count": null,
   "id": "283f0497",
   "metadata": {},
   "outputs": [],
   "source": [
    "host = 'localhost'\n",
    "port = 6767\n",
    "\n",
    "s = socket.socket()\n",
    "\n",
    "s.connect8(\"localhost\", port))\n",
    "\n",
    "input(\"Enter a filename:\")\n",
    "\n",
    "s.send(fileName.encode())\n",
    "\n",
    "content = s.recv(1024)\n",
    "\n",
    "print(content.decode())\n",
    "\n",
    "s.close()"
   ]
  },
  {
   "cell_type": "code",
   "execution_count": 5,
   "id": "b577258b",
   "metadata": {},
   "outputs": [],
   "source": [
    "# sending e-mail\n",
    "# create message body, subject, from , to\n",
    "# smtp server login, send message\n",
    "# quit\n",
    "\n",
    "# import smtplib\n",
    "# from email.mime.text import MIMEText\n",
    "\n",
    "# body = \"This is a test email. How are you?\"\n",
    "# msg = MIMEText(body)\n",
    "# msg['From'] = \"a@b.com\"\n",
    "# msg['To'] = \"c@d.com\"\n",
    "# msg['Subject'] = \"Hello\"\n",
    "\n",
    "# server = smtplib.SMTP('smtp.b.com', 587)\n",
    "\n",
    "# server.starttls()\n",
    "\n",
    "# server.login(\"username\", \"password\")\n",
    "\n",
    "# server.send(msg)\n",
    "\n",
    "# print(\"Mail send\")\n",
    "\n",
    "# server.quit()"
   ]
  },
  {
   "cell_type": "code",
   "execution_count": null,
   "id": "1f00b862",
   "metadata": {},
   "outputs": [],
   "source": [
    "# database operations, CRUD operations\n",
    "# use docker for mysql and mongo"
   ]
  },
  {
   "cell_type": "code",
   "execution_count": 7,
   "id": "ce8f5e16",
   "metadata": {},
   "outputs": [
    {
     "name": "stdout",
     "output_type": "stream",
     "text": [
      "[1 2 3 4 5]\n",
      "['arr' 'ay']\n",
      "['python' 'django' 'django rest']\n"
     ]
    }
   ],
   "source": [
    "import numpy as np\n",
    "arr = np.array([1,2,3,4,5])\n",
    "carr = np.array(['arr', 'ay'])\n",
    "sarr = np.array(['python', 'django', 'django rest'])\n",
    "print(arr)\n",
    "print(carr)\n",
    "print(sarr)"
   ]
  },
  {
   "cell_type": "code",
   "execution_count": 11,
   "id": "1b67cf65",
   "metadata": {},
   "outputs": [
    {
     "name": "stdout",
     "output_type": "stream",
     "text": [
      "[  0.           2.04081633   4.08163265   6.12244898   8.16326531\n",
      "  10.20408163  12.24489796  14.28571429  16.32653061  18.36734694\n",
      "  20.40816327  22.44897959  24.48979592  26.53061224  28.57142857\n",
      "  30.6122449   32.65306122  34.69387755  36.73469388  38.7755102\n",
      "  40.81632653  42.85714286  44.89795918  46.93877551  48.97959184\n",
      "  51.02040816  53.06122449  55.10204082  57.14285714  59.18367347\n",
      "  61.2244898   63.26530612  65.30612245  67.34693878  69.3877551\n",
      "  71.42857143  73.46938776  75.51020408  77.55102041  79.59183673\n",
      "  81.63265306  83.67346939  85.71428571  87.75510204  89.79591837\n",
      "  91.83673469  93.87755102  95.91836735  97.95918367 100.        ]\n"
     ]
    }
   ],
   "source": [
    "from numpy import *\n",
    "larr = linspace(0, 100, 50) # is also default\n",
    "print(larr)"
   ]
  },
  {
   "cell_type": "code",
   "execution_count": 12,
   "id": "0e5f39ff",
   "metadata": {},
   "outputs": [
    {
     "name": "stdout",
     "output_type": "stream",
     "text": [
      "[1.00000000e+000 1.09854114e+002 1.20679264e+004 1.32571137e+006\n",
      " 1.45634848e+008 1.59985872e+010 1.75751062e+012 1.93069773e+014\n",
      " 2.12095089e+016 2.32995181e+018 2.55954792e+020 2.81176870e+022\n",
      " 3.08884360e+024 3.39322177e+026 3.72759372e+028 4.09491506e+030\n",
      " 4.49843267e+032 4.94171336e+034 5.42867544e+036 5.96362332e+038\n",
      " 6.55128557e+040 7.19685673e+042 7.90604321e+044 8.68511374e+046\n",
      " 9.54095476e+048 1.04811313e+051 1.15139540e+053 1.26485522e+055\n",
      " 1.38949549e+057 1.52641797e+059 1.67683294e+061 1.84206997e+063\n",
      " 2.02358965e+065 2.22299648e+067 2.44205309e+069 2.68269580e+071\n",
      " 2.94705170e+073 3.23745754e+075 3.55648031e+077 3.90693994e+079\n",
      " 4.29193426e+081 4.71486636e+083 5.17947468e+085 5.68986603e+087\n",
      " 6.25055193e+089 6.86648845e+091 7.54312006e+093 8.28642773e+095\n",
      " 9.10298178e+097 1.00000000e+100]\n"
     ]
    }
   ],
   "source": [
    "lgarr = logspace(0,100)\n",
    "print(lgarr)"
   ]
  },
  {
   "cell_type": "code",
   "execution_count": 13,
   "id": "df419ca7",
   "metadata": {},
   "outputs": [
    {
     "name": "stdout",
     "output_type": "stream",
     "text": [
      "[ 1  2  3  4  5  6  7  8  9 10 11 12 13 14 15 16 17 18 19]\n",
      "[ 1.   1.5  2.   2.5  3.   3.5  4.   4.5  5.   5.5  6.   6.5  7.   7.5\n",
      "  8.   8.5  9.   9.5 10.  10.5 11.  11.5 12.  12.5 13.  13.5 14.  14.5\n",
      " 15.  15.5 16.  16.5 17.  17.5 18.  18.5 19.  19.5]\n"
     ]
    }
   ],
   "source": [
    "aarr = arange(1,20)\n",
    "print(aarr)"
   ]
  },
  {
   "cell_type": "code",
   "execution_count": 14,
   "id": "75ba39d1",
   "metadata": {},
   "outputs": [
    {
     "name": "stdout",
     "output_type": "stream",
     "text": [
      "[ 1.   1.5  2.   2.5  3.   3.5  4.   4.5  5.   5.5  6.   6.5  7.   7.5\n",
      "  8.   8.5  9.   9.5 10.  10.5 11.  11.5 12.  12.5 13.  13.5 14.  14.5\n",
      " 15.  15.5 16.  16.5 17.  17.5 18.  18.5 19.  19.5]\n"
     ]
    }
   ],
   "source": [
    "as_arr = arange(1,20, 0.5) # with step value\n",
    "print(as_arr)"
   ]
  },
  {
   "cell_type": "code",
   "execution_count": 15,
   "id": "77f2d00f",
   "metadata": {},
   "outputs": [
    {
     "name": "stdout",
     "output_type": "stream",
     "text": [
      "[0. 0. 0. 0. 0. 0. 0. 0. 0. 0.]\n"
     ]
    }
   ],
   "source": [
    "print(zeros(10))"
   ]
  },
  {
   "cell_type": "code",
   "execution_count": 16,
   "id": "06880da4",
   "metadata": {},
   "outputs": [
    {
     "name": "stdout",
     "output_type": "stream",
     "text": [
      "[1. 1. 1. 1. 1. 1. 1. 1. 1. 1.]\n"
     ]
    }
   ],
   "source": [
    "print(ones(10))"
   ]
  },
  {
   "cell_type": "code",
   "execution_count": 20,
   "id": "5cf82a23",
   "metadata": {},
   "outputs": [
    {
     "name": "stdout",
     "output_type": "stream",
     "text": [
      "[ 6  8 10 12]\n",
      "[-1  0  1  2]\n",
      "[ 0.84147098  0.90929743  0.14112001 -0.7568025 ]\n",
      "[ 0.54030231 -0.41614684 -0.9899925  -0.65364362]\n",
      "2.5\n",
      "1.118033988749895\n",
      "[1 2 3 4]\n",
      "1\n",
      "4\n",
      "[1.         1.41421356 1.73205081 2.        ]\n",
      "10\n"
     ]
    }
   ],
   "source": [
    "# math functions\n",
    "from numpy import *\n",
    "a1 = array([1,2,3,4])\n",
    "a2 = array([5,6,7,8])\n",
    "print(a1+a2)\n",
    "print(a1-2)\n",
    "print(sin(a1))\n",
    "print(cos(a1))\n",
    "print(mean(a1))\n",
    "print(std(a1))\n",
    "print(abs(a1))\n",
    "print(min(a1))\n",
    "print(max(a1))\n",
    "print(sqrt(a1))\n",
    "print(sum(a1))"
   ]
  },
  {
   "cell_type": "code",
   "execution_count": 26,
   "id": "6ec3ec12",
   "metadata": {},
   "outputs": [
    {
     "name": "stdout",
     "output_type": "stream",
     "text": [
      "[ True  True  True  True False]\n",
      "[False False False False  True]\n",
      "[False False False False False]\n",
      "[ True  True  True  True False]\n",
      "False\n",
      "[False  True  True  True False]\n",
      "[False  True  True  True False]\n",
      "[ 10   0  50   0 110]\n"
     ]
    }
   ],
   "source": [
    "# array comparison\n",
    "a1 = array([10, 31, 50, 71, 110])\n",
    "a2 = array([20, 40, 60, 80, 100])\n",
    "\n",
    "print(a1<a2)\n",
    "print(a1>a2)\n",
    "print(a1==a2)\n",
    "print(a1<=a2)\n",
    "# ...\n",
    "print(all(a1<=a2))\n",
    "print(logical_and(a1>10, a1<101))\n",
    "print(logical_and(a1>10, a1<101))\n",
    "print(where(a1%2==0, a1, 0))"
   ]
  },
  {
   "cell_type": "code",
   "execution_count": 29,
   "id": "92bf56b5",
   "metadata": {},
   "outputs": [
    {
     "name": "stdout",
     "output_type": "stream",
     "text": [
      "shallow copy\n",
      "a1 [1 2 3 4 5 6 7 8 9]\n",
      "a2 [1 2 3 4 5 6 7 8 9]\n",
      "after modification\n",
      "a1 [ 1  2  3 40  5  6  7  8  9]\n",
      "a2 [ 1  2  3 40  5  6  7  8  9]\n",
      "\n",
      "deep copy\n",
      "after modification\n",
      "a1 [1 2 3 4 5 6 7 8 9]\n",
      "a2 [ 1  2  3 40  5  6  7  8  9]\n"
     ]
    }
   ],
   "source": [
    "# copying arrays\n",
    "a1 = arange(1,10)\n",
    "a2 = a1.view()\n",
    "print(\"shallow copy\")\n",
    "print('a1', a1)\n",
    "print('a2', a2)\n",
    "a2[3] = 40\n",
    "print(\"after modification\")\n",
    "print('a1', a1)\n",
    "print('a2', a2)\n",
    "print()\n",
    "print(\"deep copy\")\n",
    "a1 = arange(1,10)\n",
    "a2 = a1.copy()\n",
    "a2[3] = 40\n",
    "print(\"after modification\")\n",
    "print('a1', a1)\n",
    "print('a2', a2)"
   ]
  },
  {
   "cell_type": "code",
   "execution_count": 32,
   "id": "abe3c0f4",
   "metadata": {},
   "outputs": [
    {
     "name": "stdout",
     "output_type": "stream",
     "text": [
      "[ 6  7  8  9 10 11]\n",
      "[ 4  6  8 10]\n"
     ]
    }
   ],
   "source": [
    "# slicing\n",
    "from numpy import *\n",
    "\n",
    "a = arange(3,12)\n",
    "print(a[3:])\n",
    "print(a[1:8:2])"
   ]
  },
  {
   "cell_type": "code",
   "execution_count": 44,
   "id": "5c66423b",
   "metadata": {},
   "outputs": [
    {
     "name": "stdout",
     "output_type": "stream",
     "text": [
      "1\n",
      "2\n",
      "3\n",
      "(8,)\n",
      "(2, 4)\n",
      "(2, 2, 2)\n",
      "[[ 1  2]\n",
      " [ 3 40]\n",
      " [ 5  6]\n",
      " [ 7  8]]\n",
      "8\n",
      "8\n",
      "8\n",
      "8\n",
      "8\n",
      "8\n",
      "int64\n",
      "int64\n",
      "int64\n",
      "64\n",
      "64\n",
      "64\n"
     ]
    }
   ],
   "source": [
    "# multidimensional arrays\n",
    "from numpy import *\n",
    "\n",
    "a1 = np.array([1,  2,  3, 40, 5,  6,  7,  8])\n",
    "a2 = np.array([[1,  2,  3, 40],[  5,  6,  7,  8]])\n",
    "a3 = np.array([[[1,  2],[ 3, 40]],[[  5,  6],[   7,  8]]])\n",
    "\n",
    "print(a1.ndim)\n",
    "print(a2.ndim)\n",
    "print(a3.ndim)\n",
    "\n",
    "print(a1.shape)\n",
    "print(a2.shape)\n",
    "print(a3.shape)\n",
    "\n",
    "a2.shape = (4,2)\n",
    "print(a2)\n",
    "\n",
    "print(a1.size)\n",
    "print(a2.size)\n",
    "print(a3.size)\n",
    "\n",
    "print(a1.itemsize)\n",
    "print(a2.itemsize)\n",
    "print(a3.itemsize)\n",
    "\n",
    "print(a1.dtype)\n",
    "print(a2.dtype)\n",
    "print(a3.dtype)\n",
    "\n",
    "print(a1.nbytes)\n",
    "print(a2.nbytes)\n",
    "print(a3.nbytes)"
   ]
  },
  {
   "cell_type": "code",
   "execution_count": 50,
   "id": "12d2ddbe",
   "metadata": {},
   "outputs": [
    {
     "name": "stdout",
     "output_type": "stream",
     "text": [
      "a1 [ 0  1  2  3  4  5  6  7  8  9 10 11]\n",
      "a2 [[ 0  1  2]\n",
      " [ 3  4  5]\n",
      " [ 6  7  8]\n",
      " [ 9 10 11]]\n",
      "a3 [[[ 0  1  2]\n",
      "  [ 3  4  5]]\n",
      "\n",
      " [[ 6  7  8]\n",
      "  [ 9 10 11]]]\n",
      "[ 0  1  2  3  4  5  6  7  8  9 10 11]\n",
      "\n",
      "[[1. 1. 1.]\n",
      " [1. 1. 1.]]\n",
      "[[1 1 1]\n",
      " [1 1 1]]\n",
      "[[0 0 0]\n",
      " [0 0 0]]\n"
     ]
    }
   ],
   "source": [
    "# a few functions\n",
    "from numpy import *\n",
    "\n",
    "a1 = arange(12)\n",
    "print('a1', a1)\n",
    "\n",
    "a2 = reshape(a1, (4,3))\n",
    "print('a2', a2)\n",
    "a3 = reshape(a1, (2,2,3))\n",
    "print('a3', a3)\n",
    "print(a3.flatten())\n",
    "print()\n",
    "print(ones((2,3))) # datatype float\n",
    "print(ones((2,3), int))\n",
    "print(zeros((2,3), int))"
   ]
  },
  {
   "cell_type": "markdown",
   "id": "c09e5c72",
   "metadata": {},
   "source": [
    "## mysql, postgres mongodb"
   ]
  },
  {
   "cell_type": "code",
   "execution_count": 33,
   "id": "e22df3bb",
   "metadata": {},
   "outputs": [],
   "source": [
    "# ! pip install mysql-connector-python\n",
    "import mysql.connector"
   ]
  },
  {
   "cell_type": "code",
   "execution_count": 7,
   "id": "dbed0414",
   "metadata": {},
   "outputs": [
    {
     "name": "stdout",
     "output_type": "stream",
     "text": [
      "Connected to mysql db\n"
     ]
    }
   ],
   "source": [
    "conn = mysql.connector.connect(host = 'localhost', database = 'mydb', user = 'root', password = 'root')\n",
    "\n",
    "if conn.is_connected():\n",
    "    print(\"Connected to mysql db\")\n",
    "    \n",
    "conn.close()"
   ]
  },
  {
   "cell_type": "code",
   "execution_count": 10,
   "id": "737364f2",
   "metadata": {},
   "outputs": [
    {
     "name": "stdout",
     "output_type": "stream",
     "text": [
      "Connected to mysql db\n",
      "(1, 'John', 10000)\n",
      "(2, 'Bob', 20000)\n"
     ]
    }
   ],
   "source": [
    "# CRUD operations, do twice but insert first : insert into emp values(1,'John', 10000)\n",
    "conn = mysql.connector.connect(host = 'localhost', database = 'mydb', user = 'root', password = 'root')\n",
    "\n",
    "if conn.is_connected():\n",
    "    print(\"Connected to mysql db\")\n",
    "    \n",
    "cursor = conn.cursor()\n",
    "\n",
    "cursor.execute('select * from emp')\n",
    "\n",
    "row = cursor.fetchone()\n",
    "\n",
    "while row is not None:\n",
    "    print(row)\n",
    "    row = cursor.fetchone()\n",
    "    \n",
    "cursor.close()\n",
    "    \n",
    "conn.close()"
   ]
  },
  {
   "cell_type": "code",
   "execution_count": 16,
   "id": "24e01fd7",
   "metadata": {},
   "outputs": [
    {
     "name": "stdout",
     "output_type": "stream",
     "text": [
      "Connected to mysql db\n",
      "Number of rows:  2\n",
      "(1, 'John', 10000)\n",
      "(2, 'Bob', 20000)\n"
     ]
    }
   ],
   "source": [
    "# fetch all\n",
    "# do twice but insert first : insert into emp values(1,'John', 10000)\n",
    "conn = mysql.connector.connect(host = 'localhost', database = 'mydb', user = 'root', password = 'root')\n",
    "\n",
    "if conn.is_connected():\n",
    "    print(\"Connected to mysql db\")\n",
    "    \n",
    "cursor = conn.cursor()\n",
    "\n",
    "cursor.execute('select * from emp')\n",
    "\n",
    "rows = cursor.fetchall()\n",
    "\n",
    "print(\"Number of rows: \", cursor.rowcount)\n",
    "\n",
    "for row in rows:\n",
    "    print(row)\n",
    "    \n",
    "cursor.close()\n",
    "    \n",
    "conn.close()"
   ]
  },
  {
   "cell_type": "code",
   "execution_count": 21,
   "id": "0f6211c9",
   "metadata": {},
   "outputs": [
    {
     "name": "stdout",
     "output_type": "stream",
     "text": [
      "Connected to mysql db\n",
      "Added employee successfully\n",
      "Number of rows:  3\n",
      "(1, 'John', 10000)\n",
      "(2, 'Bob', 20000)\n",
      "(4, 'Fred', 35000)\n"
     ]
    }
   ],
   "source": [
    "# Create\n",
    "conn = mysql.connector.connect(host = 'localhost', database = 'mydb', user = 'root', password = 'root')\n",
    "\n",
    "if conn.is_connected():\n",
    "    print(\"Connected to mysql db\")\n",
    "    \n",
    "cursor = conn.cursor()\n",
    "\n",
    "try:\n",
    "    cursor.execute(\"insert into emp values (4, 'Fred', 35000)\")\n",
    "    conn.commit()\n",
    "    print(\"Added employee successfully\")\n",
    "except:\n",
    "    conn.rollback()\n",
    "\n",
    "cursor.execute('select * from emp')\n",
    "\n",
    "rows = cursor.fetchall()\n",
    "\n",
    "print(\"Number of rows: \", cursor.rowcount)\n",
    "\n",
    "for row in rows:\n",
    "    print(row)\n",
    "    \n",
    "cursor.close()\n",
    "    \n",
    "conn.close()"
   ]
  },
  {
   "cell_type": "code",
   "execution_count": 20,
   "id": "b0a00c91",
   "metadata": {},
   "outputs": [
    {
     "name": "stdout",
     "output_type": "stream",
     "text": [
      "Connected to mysql db\n",
      "Deleted employee successfully\n",
      "Number of rows:  2\n",
      "(1, 'John', 10000)\n",
      "(2, 'Bob', 20000)\n"
     ]
    }
   ],
   "source": [
    "# Delete\n",
    "\n",
    "def delete(id):\n",
    "    conn = mysql.connector.connect(host = 'localhost', database = 'mydb', user = 'root', password = 'root')\n",
    "\n",
    "    if conn.is_connected():\n",
    "        print(\"Connected to mysql db\")\n",
    "\n",
    "    cursor = conn.cursor()\n",
    "    str = \"delete from emp where id='%d'\"\n",
    "    args=id\n",
    "\n",
    "    try:\n",
    "        cursor.execute(str % args)\n",
    "        conn.commit()        \n",
    "        print(\"Deleted employee successfully\")\n",
    "    except:\n",
    "        conn.rollback()\n",
    "    finally:\n",
    "        cursor.execute('select * from emp')\n",
    "        rows = cursor.fetchall()\n",
    "        print(\"Number of rows: \", cursor.rowcount)\n",
    "        for row in rows:\n",
    "            print(row)        \n",
    "        cursor.close()\n",
    "        conn.close()\n",
    "        \n",
    "delete(3)"
   ]
  },
  {
   "cell_type": "code",
   "execution_count": 23,
   "id": "18ac5cbd",
   "metadata": {},
   "outputs": [
    {
     "name": "stdout",
     "output_type": "stream",
     "text": [
      "Collecting psycopg2-binary\n",
      "  Downloading psycopg2_binary-2.9.3-cp37-cp37m-manylinux_2_17_x86_64.manylinux2014_x86_64.whl (3.0 MB)\n",
      "\u001b[K     |████████████████████████████████| 3.0 MB 4.4 MB/s eta 0:00:01\n",
      "\u001b[?25hInstalling collected packages: psycopg2-binary\n",
      "Successfully installed psycopg2-binary-2.9.3\n"
     ]
    }
   ],
   "source": [
    "# For postgres\n",
    "# setup via docker, see added files\n",
    "#create database employeedb;\n",
    "#\\c employeedb;\n",
    "#create table employee (id serial primary key,name varchar(30),sal real);\n",
    "#create user test with encrypted password 'password';\n",
    "#grant privileges on database employeedb to test;\n",
    "#grant all privileges on table employee to test;\n",
    "#grant all privileges on sequence employee_id_seq to test;\n",
    "!pip install psycopg2-binary\n",
    "\n"
   ]
  },
  {
   "cell_type": "code",
   "execution_count": 24,
   "id": "dd88a089",
   "metadata": {},
   "outputs": [],
   "source": [
    "import psycopg2"
   ]
  },
  {
   "cell_type": "code",
   "execution_count": 32,
   "id": "caf1e5a0",
   "metadata": {},
   "outputs": [],
   "source": [
    "connection = psycopg2.connect(database=\"employeedb\", user=\"test\", password=\"password\", host=\"127.0.0.1\", port=\"5432\")\n",
    "\n",
    "print(\"connected to employedb\")\n",
    "\n",
    "cursor = connection.cursor()\n",
    "\n",
    "cursor.execute(\"insert into employee (name, sal) values ('Firstname', 2000000)\")\n",
    "connection.commit()\n",
    "\n",
    "cursor.execute(\"select * from employee\")\n",
    "rows = cursor.fetchall()\n",
    "\n",
    "for row in rows:\n",
    "    print(\"ID\", row[0])\n",
    "    print(\"Name\", row[1])\n",
    "    print( row[2])\n",
    "\n",
    "print(\"employer created\")\n",
    "\n",
    "connection.close()"
   ]
  },
  {
   "cell_type": "code",
   "execution_count": 34,
   "id": "e3d333ea",
   "metadata": {},
   "outputs": [
    {
     "name": "stdout",
     "output_type": "stream",
     "text": [
      "Collecting pymongo\n",
      "  Downloading pymongo-4.0.1-cp37-cp37m-manylinux_2_17_x86_64.manylinux2014_x86_64.whl (452 kB)\n",
      "\u001b[K     |████████████████████████████████| 452 kB 3.7 MB/s eta 0:00:01\n",
      "\u001b[?25hInstalling collected packages: pymongo\n",
      "Successfully installed pymongo-4.0.1\n"
     ]
    }
   ],
   "source": [
    "# mongodb\n",
    "!pip install pymongo"
   ]
  },
  {
   "cell_type": "code",
   "execution_count": 40,
   "id": "0515dcec",
   "metadata": {},
   "outputs": [
    {
     "name": "stdout",
     "output_type": "stream",
     "text": [
      "Database Created\n",
      "Collection Database\n",
      "<pymongo.results.InsertOneResult object at 0x7ff4113115a0>\n"
     ]
    }
   ],
   "source": [
    "import pymongo\n",
    "\n",
    "from pymongo import MongoClient\n",
    "# client = MongoClient('192.168.2.104', 21017)\n",
    "#client = MongoClient(host='localhost',\n",
    "#                     port=21017,\n",
    "#                     username='mongo',\n",
    "#                     password='mongo',\n",
    "#                     authMechanism='SCRAM-SHA-256')\n",
    "client = MongoClient(\"mongodb://localhost:27017/\")\n",
    "\n",
    "database = client['mydb']\n",
    "print('Database Created')\n",
    "collection = database['product']\n",
    "print('Collection Database')\n",
    "product = {\n",
    "    \"name\": \"iPhone\",\n",
    "    \"price\": 340\n",
    "}\n",
    "\n",
    "result = collection.insert_one(product)\n",
    "print(result.inserted_id)"
   ]
  },
  {
   "cell_type": "code",
   "execution_count": 41,
   "id": "f3518d7c",
   "metadata": {},
   "outputs": [
    {
     "name": "stdout",
     "output_type": "stream",
     "text": [
      "Database Created\n",
      "Collection Database\n",
      "[ObjectId('61f6a277c8144f68349798e8'), ObjectId('61f6a277c8144f68349798e9'), ObjectId('61f6a277c8144f68349798ea')]\n"
     ]
    }
   ],
   "source": [
    "from pymongo import MongoClient\n",
    "# client = MongoClient('192.168.2.104', 21017)\n",
    "#client = MongoClient(host='localhost',\n",
    "#                     port=21017,\n",
    "#                     username='mongo',\n",
    "#                     password='mongo',\n",
    "#                     authMechanism='SCRAM-SHA-256')\n",
    "client = MongoClient(\"mongodb://localhost:27017/\")\n",
    "\n",
    "database = client['mydb']\n",
    "print('Database Created')\n",
    "collection = database['product']\n",
    "print('Collection Database')\n",
    "product = [{\n",
    "    \"name\": \"IPhone\",\n",
    "    \"price\": 1000\n",
    "},  {\n",
    "    \"name\": \"Mac Book\",\n",
    "    \"price\": 2000\n",
    "},  {\n",
    "    \"name\": \"Dell\",\n",
    "    \"price\": 1500\n",
    "}]\n",
    "\n",
    "result = collection.insert_many(product)\n",
    "print(result.inserted_ids)"
   ]
  },
  {
   "cell_type": "code",
   "execution_count": 43,
   "id": "e4cc5d8f",
   "metadata": {},
   "outputs": [
    {
     "name": "stdout",
     "output_type": "stream",
     "text": [
      "{'_id': ObjectId('61f6a0e2c8144f68349798e4'), 'name': 'iPhone', 'price': 340}\n",
      "{'_id': ObjectId('61f6a0e2c8144f68349798e4'), 'name': 'iPhone', 'price': 340}\n",
      "{'_id': ObjectId('61f6a0f3c8144f68349798e6'), 'name': 'iPhone', 'price': 340}\n",
      "{'_id': ObjectId('61f6a277c8144f68349798e8'), 'name': 'IPhone', 'price': 1000}\n",
      "{'_id': ObjectId('61f6a277c8144f68349798e9'), 'name': 'Mac Book', 'price': 2000}\n",
      "{'_id': ObjectId('61f6a277c8144f68349798ea'), 'name': 'Dell', 'price': 1500}\n"
     ]
    }
   ],
   "source": [
    "collection = database['product']\n",
    "print(collection.find_one())\n",
    "cursor = collection.find()\n",
    "for e in cursor:\n",
    "    print(e)"
   ]
  },
  {
   "cell_type": "code",
   "execution_count": 45,
   "id": "13bacadf",
   "metadata": {},
   "outputs": [
    {
     "name": "stdout",
     "output_type": "stream",
     "text": [
      "{'_id': ObjectId('61f6a277c8144f68349798ea'), 'name': 'Dell', 'price': 1500}\n"
     ]
    }
   ],
   "source": [
    "# filter data to find data\n",
    "collection = database['product']\n",
    "\n",
    "cursor = collection.find({\"name\": \"Dell\"})\n",
    "for e in cursor:\n",
    "    print(e)"
   ]
  },
  {
   "cell_type": "code",
   "execution_count": 47,
   "id": "92b5cfa0",
   "metadata": {},
   "outputs": [
    {
     "name": "stdout",
     "output_type": "stream",
     "text": [
      "{'_id': ObjectId('61f6a277c8144f68349798ea'), 'name': 'Dell', 'price': 1800}\n"
     ]
    }
   ],
   "source": [
    "filter = {\"name\": \"Dell\"}\n",
    "collection.update_one(filter, {\"$set\":{\"price\": 1800}}) # no return value\n",
    "\n",
    "cursor = collection.find({\"name\": \"Dell\"})\n",
    "for e in cursor:\n",
    "    print(e)"
   ]
  },
  {
   "cell_type": "code",
   "execution_count": 49,
   "id": "2793e22e",
   "metadata": {},
   "outputs": [
    {
     "name": "stdout",
     "output_type": "stream",
     "text": [
      "1\n",
      "{'_id': ObjectId('61f6a277c8144f68349798ea'), 'name': 'Dell', 'price': 1600}\n"
     ]
    }
   ],
   "source": [
    "filter = {\"name\": \"Dell\"}\n",
    "result = collection.update_one(filter, {\"$set\":{\"price\": 1600}}) # no return value\n",
    "print(result.modified_count)\n",
    "\n",
    "cursor = collection.find({\"name\": \"Dell\"})\n",
    "for e in cursor:\n",
    "    print(e)"
   ]
  },
  {
   "cell_type": "code",
   "execution_count": 51,
   "id": "3498e6c8",
   "metadata": {},
   "outputs": [],
   "source": [
    "filter = {\"name\": \"Dell\"}\n",
    "collection.delete_one(filter) # no return value\n",
    "\n",
    "cursor = collection.find({\"name\": \"Dell\"})\n",
    "for e in cursor:\n",
    "    print(e)\n",
    "    \n",
    "# prints nothing\n",
    "# delete_many with a filter"
   ]
  },
  {
   "cell_type": "code",
   "execution_count": 52,
   "id": "b286dffc",
   "metadata": {},
   "outputs": [],
   "source": [
    "# environments which pip\n",
    "# create environments and deactivate them, see docs"
   ]
  },
  {
   "cell_type": "markdown",
   "id": "40aeb164",
   "metadata": {},
   "source": [
    "## unit tests"
   ]
  },
  {
   "cell_type": "code",
   "execution_count": 63,
   "id": "87f34ba5",
   "metadata": {},
   "outputs": [],
   "source": [
    "# setUp and TearDown is invoked before every test\n",
    "\n",
    "#import unittest\n",
    "#from creditCardValidation import *\n",
    "#\n",
    "#class CreditCardValidationTest(unittest.TestCase):\n",
    "#    def setUp(self):\n",
    "#        print('Setup')\n",
    "#\n",
    "#    def test_validationCard_valid(self):\n",
    "#        result = validateCard(date(2023,2,2))\n",
    "#        self.assertEqual('Valid', result)\n",
    "#\n",
    "#        \n",
    "#    def test_validationCard_expired(self):\n",
    "#        result = validateCard(date(2020,2,2))\n",
    "#        self.assertEqual('Valid', result)\n",
    "#        self.assertRaises(RuntimeError)\n",
    "#        \n",
    "#    def tearDown(self):\n",
    "#        print(\"tearDown\")\n",
    "#        \n",
    "#if __name__ == '__main__':\n",
    "#    unittest.main()"
   ]
  },
  {
   "cell_type": "code",
   "execution_count": null,
   "id": "8285496d",
   "metadata": {},
   "outputs": [],
   "source": []
  }
 ],
 "metadata": {
  "kernelspec": {
   "display_name": "Python 3 (ipykernel)",
   "language": "python",
   "name": "python3"
  },
  "language_info": {
   "codemirror_mode": {
    "name": "ipython",
    "version": 3
   },
   "file_extension": ".py",
   "mimetype": "text/x-python",
   "name": "python",
   "nbconvert_exporter": "python",
   "pygments_lexer": "ipython3",
   "version": "3.7.11"
  }
 },
 "nbformat": 4,
 "nbformat_minor": 5
}
