{
 "cells": [
  {
   "cell_type": "code",
   "execution_count": 4,
   "id": "618da072",
   "metadata": {},
   "outputs": [
    {
     "name": "stdout",
     "output_type": "stream",
     "text": [
      "apr\n",
      "ri\n",
      "cots\n"
     ]
    }
   ],
   "source": [
    "# strings\n",
    "s = \"apricots\"\n",
    "\n",
    "# slicing strings\n",
    "print(s[:3])\n",
    "print(s[2:4])\n",
    "print(s[4:])"
   ]
  },
  {
   "cell_type": "code",
   "execution_count": 5,
   "id": "1d3b96f4",
   "metadata": {},
   "outputs": [
    {
     "name": "stdout",
     "output_type": "stream",
     "text": [
      "R2-D2\n"
     ]
    }
   ],
   "source": [
    "# concat strings\n",
    "concatenated = \"R2\" + \"-\" + \"D2\"\n",
    "print(concatenated)"
   ]
  },
  {
   "cell_type": "code",
   "execution_count": 1,
   "id": "e7033a1a",
   "metadata": {},
   "outputs": [
    {
     "name": "stdout",
     "output_type": "stream",
     "text": [
      "<class 'bool'>\n",
      "<class 'int'>\n",
      "<class 'float'>\n"
     ]
    }
   ],
   "source": [
    "# type()\n",
    "a = False\n",
    "b = 29\n",
    "c = 4.1352\n",
    "\n",
    "print(type(a))\n",
    "print(type(b))\n",
    "print(type(c))"
   ]
  },
  {
   "cell_type": "code",
   "execution_count": 2,
   "id": "defb605b",
   "metadata": {},
   "outputs": [
    {
     "name": "stdout",
     "output_type": "stream",
     "text": [
      "<class 'str'>\n",
      "<class 'str'>\n",
      "<class 'str'>\n"
     ]
    }
   ],
   "source": [
    "# str()\n",
    "a = False\n",
    "b = 29\n",
    "c = 4.1352\n",
    "\n",
    "print(type(str(a)))\n",
    "print(type(str(b)))\n",
    "print(type(str(c)))"
   ]
  },
  {
   "cell_type": "code",
   "execution_count": 4,
   "id": "752b0bf9",
   "metadata": {},
   "outputs": [
    {
     "name": "stdout",
     "output_type": "stream",
     "text": [
      "\"Do \t or do not \tthere is no try\"\n"
     ]
    }
   ],
   "source": [
    "# escape sequences\n",
    "print(\"\\\"Do \\t or do not \\tthere is no try\\\"\")"
   ]
  },
  {
   "cell_type": "code",
   "execution_count": 10,
   "id": "2aa378d8",
   "metadata": {},
   "outputs": [
    {
     "name": "stdout",
     "output_type": "stream",
     "text": [
      "Please enter your name.Eric\n",
      "Your name is Eric.\n",
      "<class 'str'>\n",
      "What is your favorite number.29\n",
      "Your favorite number is 29.\n",
      "<class 'str'>\n"
     ]
    }
   ],
   "source": [
    "# input\n",
    "name = input(\"Please enter your name.\")\n",
    "print(\"Your name is \" + name + \".\")\n",
    "print(type(name))\n",
    "\n",
    "number = input(\"What is your favorite number.\")\n",
    "print(\"Your favorite number is \" + number + \".\")\n",
    "print(type(name))"
   ]
  },
  {
   "cell_type": "code",
   "execution_count": 17,
   "id": "76b25353",
   "metadata": {},
   "outputs": [
    {
     "name": "stdout",
     "output_type": "stream",
     "text": [
      "4\n",
      "5\n",
      "15\n",
      "10\n",
      "2\n"
     ]
    }
   ],
   "source": [
    "# functions\n",
    "def function_name_1():\n",
    "    print(2 + 2)\n",
    "    \n",
    "def function_name_2(parameter):\n",
    "    print(parameter + 2)\n",
    "    \n",
    "def default_example(num1 = 7, num2 = 8):\n",
    "    print(num1 + num2)\n",
    "\n",
    "function_name_1()\n",
    "\n",
    "function_name_2(3)\n",
    "\n",
    "default_example()\n",
    "default_example(2)\n",
    "default_example(1,1)"
   ]
  },
  {
   "cell_type": "code",
   "execution_count": 19,
   "id": "41c688b3",
   "metadata": {},
   "outputs": [
    {
     "name": "stdout",
     "output_type": "stream",
     "text": [
      "The car can travel 20 miles per gallon.\n",
      "The car's fuel tank can hold 18 gallons.\n",
      "The car can travel 373 miles on a full tank.\n"
     ]
    }
   ],
   "source": [
    "    from random import randint\n",
    "    # generates random integer between and inclusive of 10 and 25 to represent gas in the car's fuel tank\n",
    "    fuel = randint(10, 25)\n",
    "    # generates random integer between and inclusive of 200 and 400 to represent miles the car can go without refueling\n",
    "    miles = randint(200, 400)\n",
    "    # calculates and displays the MPG of the car assuming car manufacturers overestimates in their claims\n",
    "    print(\"The car can travel \" + str(miles // fuel) + \" miles per gallon.\")\n",
    "    # displays the number of gallons of fuel that the car's fuel tank can hold\n",
    "    print(\"The car's fuel tank can hold \" + str(fuel) + \" gallons.\")\n",
    "    # displays the number of miles that the car can travel on a full tank\n",
    "    print(\"The car can travel \" + str(miles) + \" miles on a full tank.\")"
   ]
  },
  {
   "cell_type": "code",
   "execution_count": 20,
   "id": "f3cc6be8",
   "metadata": {},
   "outputs": [
    {
     "name": "stdout",
     "output_type": "stream",
     "text": [
      "hello world\n",
      "this is a string\n"
     ]
    }
   ],
   "source": [
    "example = \"hello world\" # global\n",
    "\n",
    "def loc_ex():\n",
    "        example = \"this is a string\" # local\n",
    "        return example\n",
    "    \n",
    "print(example)\n",
    "print(loc_ex())"
   ]
  },
  {
   "cell_type": "code",
   "execution_count": 23,
   "id": "5a2fcc3f",
   "metadata": {},
   "outputs": [
    {
     "name": "stdout",
     "output_type": "stream",
     "text": [
      "Type the name of a vegetable.corn\n",
      "The vegetable is corn.\n"
     ]
    }
   ],
   "source": [
    "# flow control\n",
    "veg = input(\"Type the name of a vegetable.\")\n",
    "\n",
    "if veg == \"corn\":\n",
    "    print(\"The vegetable is corn.\")\n",
    "else:\n",
    "    print(\"The vegetable is not corn.\")\n"
   ]
  },
  {
   "cell_type": "code",
   "execution_count": 25,
   "id": "e6d21fde",
   "metadata": {},
   "outputs": [
    {
     "ename": "SyntaxError",
     "evalue": "invalid syntax (2902693840.py, line 6)",
     "output_type": "error",
     "traceback": [
      "\u001b[0;36m  File \u001b[0;32m\"/tmp/ipykernel_7387/2902693840.py\"\u001b[0;36m, line \u001b[0;32m6\u001b[0m\n\u001b[0;31m    elif\u001b[0m\n\u001b[0m        ^\u001b[0m\n\u001b[0;31mSyntaxError\u001b[0m\u001b[0;31m:\u001b[0m invalid syntax\n"
     ]
    }
   ],
   "source": [
    "# elif control\n",
    "user_num = int(input(\"Please enter an integer.\"))\n",
    "\n",
    "if user_num < 0:\n",
    "    print(\"The number you entered is less than 0.\")\n",
    "elif user_numer == 0\n",
    "    print(\"The number you entered is 0.\")\n",
    "elif 0 < user_number:\n",
    "    print(\"The number you entered is more than 0.\")"
   ]
  },
  {
   "cell_type": "code",
   "execution_count": null,
   "id": "866bfe7d",
   "metadata": {},
   "outputs": [],
   "source": []
  }
 ],
 "metadata": {
  "kernelspec": {
   "display_name": "Python 3 (ipykernel)",
   "language": "python",
   "name": "python3"
  },
  "language_info": {
   "codemirror_mode": {
    "name": "ipython",
    "version": 3
   },
   "file_extension": ".py",
   "mimetype": "text/x-python",
   "name": "python",
   "nbconvert_exporter": "python",
   "pygments_lexer": "ipython3",
   "version": "3.7.11"
  }
 },
 "nbformat": 4,
 "nbformat_minor": 5
}
