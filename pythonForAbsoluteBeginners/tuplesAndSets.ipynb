{
 "cells": [
  {
   "cell_type": "markdown",
   "id": "b4575e40",
   "metadata": {},
   "source": [
    "# Tuples\n",
    "\n",
    "Tuple is an immutable list. Similar to lists a tuple can contain a heterogeneous sequence of elements, but it is impossible to append, edit or remove any individual elements within a tuple.\n",
    "\n",
    "## Creating tuples\n",
    "Tuples are enclosed in parenthesis, and commas separate the items within them."
   ]
  },
  {
   "cell_type": "code",
   "execution_count": 1,
   "id": "c376ed54",
   "metadata": {},
   "outputs": [
    {
     "data": {
      "text/plain": [
       "tuple"
      ]
     },
     "execution_count": 1,
     "metadata": {},
     "output_type": "execute_result"
    }
   ],
   "source": [
    "# Empty tuple\n",
    "new_tup = ()  \n",
    "type(new_tup)"
   ]
  },
  {
   "cell_type": "code",
   "execution_count": 2,
   "id": "b19c02d3",
   "metadata": {},
   "outputs": [
    {
     "data": {
      "text/plain": [
       "tuple"
      ]
     },
     "execution_count": 2,
     "metadata": {},
     "output_type": "execute_result"
    }
   ],
   "source": [
    " # A tuple of integers\n",
    "new_tup = (10, 20, 30, 40) \n",
    "type(new_tup)"
   ]
  },
  {
   "cell_type": "code",
   "execution_count": 3,
   "id": "c2995e92",
   "metadata": {},
   "outputs": [
    {
     "data": {
      "text/plain": [
       "tuple"
      ]
     },
     "execution_count": 3,
     "metadata": {},
     "output_type": "execute_result"
    }
   ],
   "source": [
    "# A tuple of mixed data type\n",
    "new_tup = (10, 20.2, 'thirty', 40)  \n",
    "type(new_tup)"
   ]
  },
  {
   "cell_type": "code",
   "execution_count": 4,
   "id": "e3381d05",
   "metadata": {},
   "outputs": [
    {
     "data": {
      "text/plain": [
       "tuple"
      ]
     },
     "execution_count": 4,
     "metadata": {},
     "output_type": "execute_result"
    }
   ],
   "source": [
    "# A nested tuple\n",
    "new_tup = ((10, 20, 30), (10.1, 20.2, 30.3),\n",
    "           (\"ten\", \"twenty\", \"thirty\"))  \n",
    "type(new_tup)"
   ]
  },
  {
   "cell_type": "code",
   "execution_count": 5,
   "id": "ac23ddc8",
   "metadata": {},
   "outputs": [
    {
     "data": {
      "text/plain": [
       "tuple"
      ]
     },
     "execution_count": 5,
     "metadata": {},
     "output_type": "execute_result"
    }
   ],
   "source": [
    "# A deeply nested tuple\n",
    "new_tup = (10, (20.2, (\"thirty\", (40))))  \n",
    "type(new_tup)"
   ]
  },
  {
   "cell_type": "markdown",
   "id": "886ebd1b",
   "metadata": {},
   "source": [
    "## Can we manipulate a tuple?\n",
    "\n",
    "There are no methods supported by tuples that can help us manipulate a tuple once formed. Tuple does not even support assigning a new item at any particular index. "
   ]
  },
  {
   "cell_type": "code",
   "execution_count": 6,
   "id": "9ff768a3",
   "metadata": {},
   "outputs": [
    {
     "name": "stdout",
     "output_type": "stream",
     "text": [
      "(10, 20, 30, 40)\n"
     ]
    }
   ],
   "source": [
    "# This is the 'original' tuple which you have created\n",
    "my_tup = (10, 20, 30, 40)\n",
    "\n",
    "print(my_tup)"
   ]
  },
  {
   "cell_type": "code",
   "execution_count": 7,
   "id": "f0a71150",
   "metadata": {},
   "outputs": [
    {
     "data": {
      "text/plain": [
       "10"
      ]
     },
     "execution_count": 7,
     "metadata": {},
     "output_type": "execute_result"
    }
   ],
   "source": [
    "# Returning the item at the 0th index\n",
    "my_tup[0]  "
   ]
  },
  {
   "cell_type": "code",
   "execution_count": 8,
   "id": "3de210be",
   "metadata": {},
   "outputs": [
    {
     "ename": "TypeError",
     "evalue": "'tuple' object does not support item assignment",
     "output_type": "error",
     "traceback": [
      "\u001b[0;31m---------------------------------------------------------------------------\u001b[0m",
      "\u001b[0;31mTypeError\u001b[0m                                 Traceback (most recent call last)",
      "\u001b[0;32m/tmp/ipykernel_6827/732859315.py\u001b[0m in \u001b[0;36m<module>\u001b[0;34m\u001b[0m\n\u001b[1;32m      1\u001b[0m \u001b[0;31m# Assigning a new item to the 0th index\u001b[0m\u001b[0;34m\u001b[0m\u001b[0;34m\u001b[0m\u001b[0m\n\u001b[0;32m----> 2\u001b[0;31m \u001b[0mmy_tup\u001b[0m\u001b[0;34m[\u001b[0m\u001b[0;36m0\u001b[0m\u001b[0;34m]\u001b[0m \u001b[0;34m=\u001b[0m \u001b[0;34m'40'\u001b[0m\u001b[0;34m\u001b[0m\u001b[0;34m\u001b[0m\u001b[0m\n\u001b[0m",
      "\u001b[0;31mTypeError\u001b[0m: 'tuple' object does not support item assignment"
     ]
    }
   ],
   "source": [
    "# Assigning a new item to the 0th index\n",
    "my_tup[0] = '40'"
   ]
  },
  {
   "cell_type": "code",
   "execution_count": null,
   "id": "475c3edf",
   "metadata": {},
   "outputs": [],
   "source": [
    "# Trying to Append '50' at the 4th index of the created tuple.\n",
    "my_tup.append(50)"
   ]
  },
  {
   "cell_type": "markdown",
   "id": "ead6ec48",
   "metadata": {},
   "source": [
    "But we can certainly find the length of a tuple.\n",
    "\n",
    "<b>len</b> (x) <br>\n",
    "It returns the length of the tuple."
   ]
  },
  {
   "cell_type": "code",
   "execution_count": null,
   "id": "5237c552",
   "metadata": {},
   "outputs": [],
   "source": [
    "len(my_tup)"
   ]
  },
  {
   "cell_type": "markdown",
   "id": "e84ccc9f",
   "metadata": {},
   "source": [
    "# Sets\n",
    "\n",
    "A set is an unordered collection with no duplicate elements. They are useful to create lists that hold only unique values and are also mutable. The elements of a set can be anything like numbers, strings or characters.\n",
    "\n",
    "## Creating & printing sets\n",
    "Curly braces or the set () function can be used to create sets, and the items within them are separated by commas."
   ]
  },
  {
   "cell_type": "code",
   "execution_count": null,
   "id": "70789eb4",
   "metadata": {},
   "outputs": [],
   "source": [
    "# Empty Set ---> An empty set cannot be created\n",
    "new_set = {} \n",
    "type(new_set)"
   ]
  },
  {
   "cell_type": "code",
   "execution_count": null,
   "id": "388ec64b",
   "metadata": {},
   "outputs": [],
   "source": [
    "new_set = {'Neo', 'Morphius', 'Trinity', 'Agent Smith', 'Oracle'} \n",
    "type(new_set)"
   ]
  },
  {
   "cell_type": "code",
   "execution_count": null,
   "id": "e6b752ad",
   "metadata": {},
   "outputs": [],
   "source": [
    "print(new_set)"
   ]
  },
  {
   "cell_type": "code",
   "execution_count": null,
   "id": "e2d7d04a",
   "metadata": {},
   "outputs": [],
   "source": [
    "# Now there are 5 'Agent Smiths' in our set. What will happen if we print this set?\n",
    "new_set = {'Neo', 'Morphius', 'Trinity', 'Agent Smith',\n",
    "           'Agent Smith', 'Agent Smith', 'Agent Smith', 'Oracle'}\n",
    "\n",
    "# The set will only print unique values\n",
    "print(new_set)  "
   ]
  },
  {
   "cell_type": "code",
   "execution_count": null,
   "id": "cca521a8",
   "metadata": {},
   "outputs": [],
   "source": [
    "# Using the set () function to create sets\n",
    "x_set = set('THEMATRIX')\n",
    "\n",
    "type(x_set)"
   ]
  },
  {
   "cell_type": "code",
   "execution_count": null,
   "id": "d44bb823",
   "metadata": {},
   "outputs": [],
   "source": [
    "# 'THE MATRIX' has two 'T's. Only unique values will be printed.\n",
    "print (x_set) "
   ]
  },
  {
   "cell_type": "code",
   "execution_count": null,
   "id": "0eb6add4",
   "metadata": {},
   "outputs": [],
   "source": [
    "# An additional example\n",
    "y_set = set('THETERMINATOR')\n",
    "\n",
    "print(y_set)"
   ]
  },
  {
   "cell_type": "markdown",
   "id": "4478710c",
   "metadata": {},
   "source": [
    "## Set operations\n",
    "\n",
    "You can even perform mathematical operations like set union, set intersection, set difference and symmetric difference amongst different datasets."
   ]
  },
  {
   "cell_type": "code",
   "execution_count": null,
   "id": "626c67ad",
   "metadata": {},
   "outputs": [],
   "source": [
    "# We will create 2 new sets. The 'x_set' and the 'y_set'.\n",
    "\n",
    "x_set = set('ABCDE')\n",
    "y_set = set('CDEFG')\n",
    "\n",
    "print(x_set)\n",
    "print(y_set)"
   ]
  },
  {
   "cell_type": "markdown",
   "id": "7b1dcf2d",
   "metadata": {},
   "source": [
    "<b> x.union(y) </b> <br>\n",
    "This method returns all the unique items that are present in the two sets, as a new set."
   ]
  },
  {
   "cell_type": "code",
   "execution_count": null,
   "id": "5f839a18",
   "metadata": {},
   "outputs": [],
   "source": [
    "x_set.union(y_set)"
   ]
  },
  {
   "cell_type": "code",
   "execution_count": null,
   "id": "d3efc1f1",
   "metadata": {},
   "outputs": [],
   "source": [
    "# Union can be performed by using the pipe '|' operator also\n",
    "x_set | y_set "
   ]
  },
  {
   "cell_type": "markdown",
   "id": "3ddb17fc",
   "metadata": {},
   "source": [
    "<b> x.intersection(y) </b> <br>\n",
    "This method returns the common items that are present in two sets, as a new set."
   ]
  },
  {
   "cell_type": "code",
   "execution_count": null,
   "id": "fe1ec194",
   "metadata": {},
   "outputs": [],
   "source": [
    "x_set.intersection(y_set)"
   ]
  },
  {
   "cell_type": "code",
   "execution_count": null,
   "id": "95456a1b",
   "metadata": {},
   "outputs": [],
   "source": [
    "# Intersection can be performed by using the ampersand '&' operator\n",
    "x_set & y_set  "
   ]
  },
  {
   "cell_type": "markdown",
   "id": "af46768d",
   "metadata": {},
   "source": [
    "<b> x.difference(y) </b> <br>\n",
    "This method returns the items of 'set 1' which are not common (repetitive) to the 'set 2', as a new set. "
   ]
  },
  {
   "cell_type": "code",
   "execution_count": null,
   "id": "473fb176",
   "metadata": {},
   "outputs": [],
   "source": [
    "x_set.difference(y_set)"
   ]
  },
  {
   "cell_type": "code",
   "execution_count": null,
   "id": "b2dd1a2f",
   "metadata": {},
   "outputs": [],
   "source": [
    "# Difference can be performed using the minus '-' operator\n",
    "x_set - y_set  "
   ]
  },
  {
   "cell_type": "markdown",
   "id": "a60cddf4",
   "metadata": {},
   "source": [
    "<b> difference_update () </b> <br>\n",
    "This method removes all the elements of 'set 2' common to 'set 1' in 'set1'. It updates 'set 1'."
   ]
  },
  {
   "cell_type": "code",
   "execution_count": null,
   "id": "85310c7d",
   "metadata": {},
   "outputs": [],
   "source": [
    "x_set.difference_update(y_set)\n",
    "\n",
    "print(x_set)\n",
    "print(y_set)"
   ]
  },
  {
   "cell_type": "code",
   "execution_count": null,
   "id": "89b56a47",
   "metadata": {},
   "outputs": [],
   "source": [
    "x_set = set('ABCDE')\n",
    "y_set = set('CDEFG')\n",
    "\n",
    "# Difference update can be abbreviated in the shown manner i.e. 'x = x-y'\n",
    "x_set = x_set - y_set\n",
    "\n",
    "print(x_set)\n",
    "print(y_set)"
   ]
  },
  {
   "cell_type": "markdown",
   "id": "5a2f57ed",
   "metadata": {},
   "source": [
    "<b>x.isdisjoint(y)</b> <br>\n",
    "This method returns True if two sets have null intersection. "
   ]
  },
  {
   "cell_type": "code",
   "execution_count": null,
   "id": "9032905c",
   "metadata": {},
   "outputs": [],
   "source": [
    "x_set = set('ABCDE')\n",
    "y_set = set('CDEFG')\n",
    "\n",
    "x_set.isdisjoint(y_set)"
   ]
  },
  {
   "cell_type": "code",
   "execution_count": null,
   "id": "7d530120",
   "metadata": {},
   "outputs": [],
   "source": [
    "x_set = set('ABC')\n",
    "y_set = set('EFG')\n",
    "\n",
    "x_set.isdisjoint(y_set)"
   ]
  },
  {
   "cell_type": "markdown",
   "id": "8c16e70f",
   "metadata": {},
   "source": [
    "<b>y.issubset(x)</b> <br>\n",
    "This method returns True for 'Set 2', if all the elements of 'Set 2' are present in 'Set 1'"
   ]
  },
  {
   "cell_type": "code",
   "execution_count": null,
   "id": "4084f9b8",
   "metadata": {},
   "outputs": [],
   "source": [
    "x_set = set('ABCDE')\n",
    "y_set = set('CDEFG')\n",
    "\n",
    "y_set.issubset(x_set)"
   ]
  },
  {
   "cell_type": "code",
   "execution_count": null,
   "id": "00f1f364",
   "metadata": {},
   "outputs": [],
   "source": [
    "x_set = set('ABCDE')\n",
    "y_set = set('CDE')\n",
    "\n",
    "y_set.issubset(x_set)"
   ]
  },
  {
   "cell_type": "code",
   "execution_count": null,
   "id": "5dcbf729",
   "metadata": {},
   "outputs": [],
   "source": [
    "# One can check a subset using a less than '<' operator.\n",
    "y_set < x_set  "
   ]
  },
  {
   "cell_type": "markdown",
   "id": "55f5bbfb",
   "metadata": {},
   "source": [
    "<b>x.issuperset(y)</b><br>\n",
    "This method returns True for 'Set 1' if all the elements of Set 2 are present in 'Set 1'. "
   ]
  },
  {
   "cell_type": "code",
   "execution_count": null,
   "id": "e9591a70",
   "metadata": {},
   "outputs": [],
   "source": [
    "x_set = set('ABCDE')\n",
    "y_set = set('CDEFG')\n",
    "\n",
    "x_set.issuperset(y_set)"
   ]
  },
  {
   "cell_type": "code",
   "execution_count": null,
   "id": "b71ab9b4",
   "metadata": {},
   "outputs": [],
   "source": [
    "x_set = set('ABCDE')\n",
    "y_set = set('CDE')\n",
    "\n",
    "x_set.issuperset(y_set)"
   ]
  },
  {
   "cell_type": "code",
   "execution_count": null,
   "id": "653efe69",
   "metadata": {},
   "outputs": [],
   "source": [
    "# One can check a superset using a greater than '>' operator.\n",
    "x_set > y_set  "
   ]
  },
  {
   "cell_type": "markdown",
   "id": "002713ac",
   "metadata": {},
   "source": [
    "<b>x.add(e)</b> <br>\n",
    "It adds a single item to the set and updates the set."
   ]
  },
  {
   "cell_type": "code",
   "execution_count": null,
   "id": "623cd81f",
   "metadata": {},
   "outputs": [],
   "source": [
    "x_set = set('ABCDE')\n",
    "\n",
    "print(x_set)"
   ]
  },
  {
   "cell_type": "code",
   "execution_count": null,
   "id": "790fb3a1",
   "metadata": {},
   "outputs": [],
   "source": [
    "x_set.add('FGH')\n",
    "\n",
    "print(x_set)"
   ]
  },
  {
   "cell_type": "markdown",
   "id": "d1391554",
   "metadata": {},
   "source": [
    "<b> x.discard(e)</b> <br>\n",
    "It removes a single item from the set and updates it."
   ]
  },
  {
   "cell_type": "code",
   "execution_count": null,
   "id": "023e5b61",
   "metadata": {},
   "outputs": [],
   "source": [
    "print(x_set)"
   ]
  },
  {
   "cell_type": "code",
   "execution_count": null,
   "id": "e3ce6611",
   "metadata": {},
   "outputs": [],
   "source": [
    "x_set.discard('FGH')\n",
    "\n",
    "print(x_set)"
   ]
  },
  {
   "cell_type": "markdown",
   "id": "3aeea07d",
   "metadata": {},
   "source": [
    "<b> x.pop () </b> <br>\n",
    "It pops and returns any arbitary item from the set."
   ]
  },
  {
   "cell_type": "code",
   "execution_count": null,
   "id": "7cc3af19",
   "metadata": {},
   "outputs": [],
   "source": [
    "print(x_set)"
   ]
  },
  {
   "cell_type": "code",
   "execution_count": null,
   "id": "0f129692",
   "metadata": {},
   "outputs": [],
   "source": [
    "x_set.pop()"
   ]
  },
  {
   "cell_type": "markdown",
   "id": "3ab977c3",
   "metadata": {},
   "source": [
    "<b> x.copy () </b> <br>\n",
    "It creates a shallow copy of any set."
   ]
  },
  {
   "cell_type": "code",
   "execution_count": null,
   "id": "d1e0053d",
   "metadata": {},
   "outputs": [],
   "source": [
    "# There are only 4 items in the set, since one just got popped in the above cell execution.\n",
    "print(x_set)"
   ]
  },
  {
   "cell_type": "code",
   "execution_count": null,
   "id": "fd1368e2",
   "metadata": {},
   "outputs": [],
   "source": [
    "x_set.copy()"
   ]
  },
  {
   "cell_type": "markdown",
   "id": "9db5cd40",
   "metadata": {},
   "source": [
    "<b> x.clear() </b> <br>\n",
    "It clears all the items of the set."
   ]
  },
  {
   "cell_type": "code",
   "execution_count": null,
   "id": "74f437d3",
   "metadata": {},
   "outputs": [],
   "source": [
    "print(x_set)"
   ]
  },
  {
   "cell_type": "code",
   "execution_count": null,
   "id": "43dd7c32",
   "metadata": {},
   "outputs": [],
   "source": [
    "x_set.clear()\n",
    "\n",
    "print(x_set)"
   ]
  },
  {
   "cell_type": "markdown",
   "id": "7fe90c38",
   "metadata": {},
   "source": [
    "This is where we will end this section on Data Structures. In the next section, we will learn how to import and visualize time series data. <br><br>"
   ]
  }
 ],
 "metadata": {
  "anaconda-cloud": {},
  "kernelspec": {
   "display_name": "Python 3 (ipykernel)",
   "language": "python",
   "name": "python3"
  },
  "language_info": {
   "codemirror_mode": {
    "name": "ipython",
    "version": 3
   },
   "file_extension": ".py",
   "mimetype": "text/x-python",
   "name": "python",
   "nbconvert_exporter": "python",
   "pygments_lexer": "ipython3",
   "version": "3.9.7"
  }
 },
 "nbformat": 4,
 "nbformat_minor": 5
}
