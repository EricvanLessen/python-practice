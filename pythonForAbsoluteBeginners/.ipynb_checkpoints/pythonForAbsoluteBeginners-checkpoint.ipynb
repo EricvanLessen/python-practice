{
 "cells": [
  {
   "cell_type": "code",
   "execution_count": 4,
   "id": "618da072",
   "metadata": {},
   "outputs": [
    {
     "name": "stdout",
     "output_type": "stream",
     "text": [
      "apr\n",
      "ri\n",
      "cots\n"
     ]
    }
   ],
   "source": [
    "# strings\n",
    "s = \"apricots\"\n",
    "\n",
    "# slicing strings\n",
    "print(s[:3])\n",
    "print(s[2:4])\n",
    "print(s[4:])"
   ]
  },
  {
   "cell_type": "code",
   "execution_count": 5,
   "id": "1d3b96f4",
   "metadata": {},
   "outputs": [
    {
     "name": "stdout",
     "output_type": "stream",
     "text": [
      "R2-D2\n"
     ]
    }
   ],
   "source": [
    "# concat strings\n",
    "concatenated = \"R2\" + \"-\" + \"D2\"\n",
    "print(concatenated)"
   ]
  },
  {
   "cell_type": "code",
   "execution_count": 1,
   "id": "e7033a1a",
   "metadata": {},
   "outputs": [
    {
     "name": "stdout",
     "output_type": "stream",
     "text": [
      "<class 'bool'>\n",
      "<class 'int'>\n",
      "<class 'float'>\n"
     ]
    }
   ],
   "source": [
    "# type()\n",
    "a = False\n",
    "b = 29\n",
    "c = 4.1352\n",
    "\n",
    "print(type(a))\n",
    "print(type(b))\n",
    "print(type(c))"
   ]
  },
  {
   "cell_type": "code",
   "execution_count": 2,
   "id": "f720c533",
   "metadata": {},
   "outputs": [
    {
     "name": "stdout",
     "output_type": "stream",
     "text": [
      "<class 'str'>\n",
      "<class 'str'>\n",
      "<class 'str'>\n"
     ]
    }
   ],
   "source": [
    "# str()\n",
    "a = False\n",
    "b = 29\n",
    "c = 4.1352\n",
    "\n",
    "print(type(str(a)))\n",
    "print(type(str(b)))\n",
    "print(type(str(c)))"
   ]
  },
  {
   "cell_type": "code",
   "execution_count": 4,
   "id": "0afdc4e4",
   "metadata": {},
   "outputs": [
    {
     "name": "stdout",
     "output_type": "stream",
     "text": [
      "\"Do \t or do not \tthere is no try\"\n"
     ]
    }
   ],
   "source": [
    "# escape sequences\n",
    "print(\"\\\"Do \\t or do not \\tthere is no try\\\"\")"
   ]
  },
  {
   "cell_type": "code",
   "execution_count": 10,
   "id": "b0c63247",
   "metadata": {},
   "outputs": [
    {
     "name": "stdout",
     "output_type": "stream",
     "text": [
      "Please enter your name.Eric\n",
      "Your name is Eric.\n",
      "<class 'str'>\n",
      "What is your favorite number.29\n",
      "Your favorite number is 29.\n",
      "<class 'str'>\n"
     ]
    }
   ],
   "source": [
    "# input\n",
    "name = input(\"Please enter your name.\")\n",
    "print(\"Your name is \" + name + \".\")\n",
    "print(type(name))\n",
    "\n",
    "number = input(\"What is your favorite number.\")\n",
    "print(\"Your favorite number is \" + number + \".\")\n",
    "print(type(name))"
   ]
  },
  {
   "cell_type": "code",
   "execution_count": 17,
   "id": "cb6b2491",
   "metadata": {},
   "outputs": [
    {
     "name": "stdout",
     "output_type": "stream",
     "text": [
      "4\n",
      "5\n",
      "15\n",
      "10\n",
      "2\n"
     ]
    }
   ],
   "source": [
    "# functions\n",
    "def function_name_1():\n",
    "    print(2 + 2)\n",
    "    \n",
    "def function_name_2(parameter):\n",
    "    print(parameter + 2)\n",
    "    \n",
    "def default_example(num1 = 7, num2 = 8):\n",
    "    print(num1 + num2)\n",
    "\n",
    "function_name_1()\n",
    "\n",
    "function_name_2(3)\n",
    "\n",
    "default_example()\n",
    "default_example(2)\n",
    "default_example(1,1)"
   ]
  },
  {
   "cell_type": "code",
   "execution_count": 19,
   "id": "c5602839",
   "metadata": {},
   "outputs": [
    {
     "name": "stdout",
     "output_type": "stream",
     "text": [
      "The car can travel 20 miles per gallon.\n",
      "The car's fuel tank can hold 18 gallons.\n",
      "The car can travel 373 miles on a full tank.\n"
     ]
    }
   ],
   "source": [
    "    from random import randint\n",
    "    # generates random integer between and inclusive of 10 and 25 to represent gas in the car's fuel tank\n",
    "    fuel = randint(10, 25)\n",
    "    # generates random integer between and inclusive of 200 and 400 to represent miles the car can go without refueling\n",
    "    miles = randint(200, 400)\n",
    "    # calculates and displays the MPG of the car assuming car manufacturers overestimates in their claims\n",
    "    print(\"The car can travel \" + str(miles // fuel) + \" miles per gallon.\")\n",
    "    # displays the number of gallons of fuel that the car's fuel tank can hold\n",
    "    print(\"The car's fuel tank can hold \" + str(fuel) + \" gallons.\")\n",
    "    # displays the number of miles that the car can travel on a full tank\n",
    "    print(\"The car can travel \" + str(miles) + \" miles on a full tank.\")"
   ]
  },
  {
   "cell_type": "code",
   "execution_count": 20,
   "id": "1a877ff5",
   "metadata": {},
   "outputs": [
    {
     "name": "stdout",
     "output_type": "stream",
     "text": [
      "hello world\n",
      "this is a string\n"
     ]
    }
   ],
   "source": [
    "example = \"hello world\" # global\n",
    "\n",
    "def loc_ex():\n",
    "        example = \"this is a string\" # local\n",
    "        return example\n",
    "    \n",
    "print(example)\n",
    "print(loc_ex())"
   ]
  },
  {
   "cell_type": "code",
   "execution_count": 23,
   "id": "e6e575a8",
   "metadata": {},
   "outputs": [
    {
     "name": "stdout",
     "output_type": "stream",
     "text": [
      "Type the name of a vegetable.corn\n",
      "The vegetable is corn.\n"
     ]
    }
   ],
   "source": [
    "# if else flow control\n",
    "veg = input(\"Type the name of a vegetable.\")\n",
    "\n",
    "if veg == \"corn\":\n",
    "    print(\"The vegetable is corn.\")\n",
    "else:\n",
    "    print(\"The vegetable is not corn.\")\n"
   ]
  },
  {
   "cell_type": "code",
   "execution_count": 30,
   "id": "d8ed8101",
   "metadata": {},
   "outputs": [
    {
     "name": "stdout",
     "output_type": "stream",
     "text": [
      "Please enter an integer.-1\n",
      "The number you entered is less than 0.\n"
     ]
    }
   ],
   "source": [
    "# elif flow control\n",
    "user_num = int(input(\"Please enter an integer.\"))\n",
    "\n",
    "if user_num < 0:\n",
    "    print(\"The number you entered is less than 0.\")\n",
    "elif user_num == 0:\n",
    "    print(\"The number you entered is 0.\")\n",
    "elif 0 < user_num:\n",
    "    print(\"The number you entered is greater than 0.\")"
   ]
  },
  {
   "cell_type": "code",
   "execution_count": 32,
   "id": "0e7457a5",
   "metadata": {},
   "outputs": [
    {
     "name": "stdout",
     "output_type": "stream",
     "text": [
      "Enter anything\n",
      "You did not enter a string\n"
     ]
    }
   ],
   "source": [
    "# empty string is falsy\n",
    "example = input(\"Enter anything\")\n",
    "\n",
    "if example: \n",
    "    print(\"Thank you for entering something\")\n",
    "else:\n",
    "    print(\"You did not enter a string\")\n",
    "    "
   ]
  },
  {
   "cell_type": "code",
   "execution_count": 33,
   "id": "66c1d806",
   "metadata": {},
   "outputs": [
    {
     "name": "stdout",
     "output_type": "stream",
     "text": [
      "Enter anything\n",
      "You did not enter a string\n"
     ]
    }
   ],
   "source": [
    "# Easier to understand\n",
    "example = input(\"Enter anything\")\n",
    "\n",
    "if example != \"\": \n",
    "    print(\"Thank you for entering something\")\n",
    "else:\n",
    "    print(\"You did not enter a string\")"
   ]
  },
  {
   "cell_type": "code",
   "execution_count": 35,
   "id": "2e73c90b",
   "metadata": {},
   "outputs": [
    {
     "name": "stdout",
     "output_type": "stream",
     "text": [
      "False\n",
      "False\n",
      "True\n",
      "True\n"
     ]
    }
   ],
   "source": [
    "# some boolean evaluations\n",
    "print(bool(0))\n",
    "print(bool(\"\"))\n",
    "print(bool(\"String\"))\n",
    "print(bool(3.29))"
   ]
  },
  {
   "cell_type": "code",
   "execution_count": 37,
   "id": "57a65597",
   "metadata": {},
   "outputs": [
    {
     "name": "stdout",
     "output_type": "stream",
     "text": [
      "something 0\n",
      "something 1\n",
      "something 2\n"
     ]
    }
   ],
   "source": [
    "# while loop\n",
    "counter = 0\n",
    "while counter < 3:\n",
    "    print(\"something \"  + str(counter))\n",
    "    counter += 1"
   ]
  },
  {
   "cell_type": "code",
   "execution_count": 39,
   "id": "8ffbdd22",
   "metadata": {},
   "outputs": [
    {
     "name": "stdout",
     "output_type": "stream",
     "text": [
      "h\n",
      "o\n",
      "u\n",
      "s\n",
      "e\n"
     ]
    }
   ],
   "source": [
    "# for loops\n",
    "word = \"house\"\n",
    "\n",
    "for letter in word: \n",
    "    print(letter)"
   ]
  },
  {
   "cell_type": "code",
   "execution_count": 42,
   "id": "5b3e342b",
   "metadata": {},
   "outputs": [
    {
     "name": "stdout",
     "output_type": "stream",
     "text": [
      "0\n",
      "1\n",
      "2\n",
      "3\n",
      "4\n"
     ]
    }
   ],
   "source": [
    "# range\n",
    "one_input = range(5)\n",
    "for num in one_input: \n",
    "    print(num)"
   ]
  },
  {
   "cell_type": "code",
   "execution_count": 45,
   "id": "31a56948",
   "metadata": {},
   "outputs": [
    {
     "name": "stdout",
     "output_type": "stream",
     "text": [
      "3\n",
      "4\n",
      "5\n",
      "6\n",
      "7\n"
     ]
    }
   ],
   "source": [
    "# range two inputs\n",
    "one_input = range(3, 8)\n",
    "for num in one_input: \n",
    "    print(num)"
   ]
  },
  {
   "cell_type": "code",
   "execution_count": 47,
   "id": "7517452d",
   "metadata": {},
   "outputs": [
    {
     "name": "stdout",
     "output_type": "stream",
     "text": [
      "3\n",
      "5\n",
      "7\n",
      "9\n",
      "11\n"
     ]
    }
   ],
   "source": [
    "# range three inputs\n",
    "one_input = range(3, 12, 2)\n",
    "for num in one_input: \n",
    "    print(num)"
   ]
  },
  {
   "cell_type": "code",
   "execution_count": 50,
   "id": "243efd3c",
   "metadata": {},
   "outputs": [
    {
     "name": "stdout",
     "output_type": "stream",
     "text": [
      "15\n",
      "12\n",
      "9\n",
      "6\n",
      "3\n"
     ]
    }
   ],
   "source": [
    "# range three inputs, backwards\n",
    "one_input = range(15, 1, -3)\n",
    "for num in one_input: \n",
    "    print(num)"
   ]
  },
  {
   "cell_type": "code",
   "execution_count": 72,
   "id": "825289c4",
   "metadata": {},
   "outputs": [
    {
     "name": "stdout",
     "output_type": "stream",
     "text": [
      "1\n",
      "False\n",
      "False\n",
      "True\n",
      "mix\n",
      "\n",
      "2\n",
      "False\n",
      "True\n",
      "\n",
      "3\n",
      "False\n",
      "True\n",
      "\n",
      "4\n",
      "False\n",
      "True\n",
      "\n",
      "5\n",
      "False\n",
      "True\n",
      "\n",
      "6\n",
      "True\n",
      "True\n",
      "False\n",
      "\n",
      "7\n",
      "Hello... planet... earth\n",
      "['Hello,', 'planet,', 'earth']\n",
      "['Hello ', ' planet ', ' earth']\n",
      "['Hello', 'planet', 'earth']\n"
     ]
    }
   ],
   "source": [
    "# string methods\n",
    "print(\"1\")\n",
    "print(\"Mixed Case\".isupper())\n",
    "print(\"Mixed Case\".islower())\n",
    "print(\"MIX\".isupper())\n",
    "print(\"MIX\".lower())\n",
    "print(\"\\n2\")\n",
    "print(\"27ab\".isalpha())\n",
    "print(\"abcd\".isalpha())\n",
    "print(\"\\n3\")\n",
    "print(\" - \".isspace())\n",
    "print(\"  \".isspace())\n",
    "print(\"\\n4\")\n",
    "print(\"12 \".isdecimal())\n",
    "print(\"123\".isdecimal())\n",
    "print(\"\\n5\")\n",
    "print(\"This Is A not Title\".istitle())\n",
    "print(\"This Is A Title\".istitle())\n",
    "print(\"\\n6\")\n",
    "print(\"This Is A Title\".startswith(\"T\"))\n",
    "print(\"This Is A Title\".endswith(\"e\"))\n",
    "print(\"This Is A Title\".endswith(\"v\"))\n",
    "print(\"\\n7\")\n",
    "print(\"... \".join([\"Hello\", \"planet\", \"earth\"]))\n",
    "print(\"Hello, planet, earth\".split())\n",
    "print(\"Hello - planet - earth\".split(\"-\"))\n",
    "print(\"Hello - planet - earth\".split(\" - \"))"
   ]
  },
  {
   "cell_type": "code",
   "execution_count": null,
   "id": "888a0b71",
   "metadata": {},
   "outputs": [],
   "source": [
    "# playing with strings\n",
    "mixed_case = \"A Song of Ice and Fire\"\n",
    "print(mixed_case.isupper())  \n",
    "print(mixed_case.islower())  \n",
    "print(mixed_case.upper())  \n",
    "print(mixed_case.lower())  \n",
    "print(mixed_case.istitle())  \n",
    "title_case = mixed_case.title()\n",
    "print(title_case)  \n",
    "print(mixed_case.startswith(\"A\"))  \n",
    "print(mixed_case.endswith(\"e\"))  \n",
    "words = mixed_case.split()\n",
    "print(words)  \n",
    "print(\"\".join(words).isalpha())  \n",
    "print(\"\\n\")\n",
    "print(\"\\n\")\n",
    "the_string = \"North Dakota\"\n",
    "print(the_string.rjust(17))  \n",
    "print(the_string.ljust(17, \"*\"))  \n",
    "center_plus = the_string.center(16, \"+\")  \n",
    "print(center_plus)\n",
    "print(the_string.lstrip(\"North\"))\n",
    "print(center_plus.rstrip(\"+\"))  \n",
    "print(center_plus.strip(\"+\"))  \n",
    "print(the_string.replace(\"North\", \"South\"))  "
   ]
  },
  {
   "cell_type": "code",
   "execution_count": null,
   "id": "585646a5",
   "metadata": {},
   "outputs": [],
   "source": []
  },
  {
   "cell_type": "code",
   "execution_count": 78,
   "id": "ff5a421b",
   "metadata": {},
   "outputs": [
    {
     "name": "stdout",
     "output_type": "stream",
     "text": [
      "    hello world\n",
      "hello world    there\n",
      "  hello world  there\n",
      "++hello world++there\n"
     ]
    }
   ],
   "source": [
    "# ljust, rjust\n",
    "print(\"hello world\".rjust(15)) # move to the right, right justify\n",
    "print(\"hello world\".ljust(15) + \"there\") # left justify\n",
    "print(\"hello world\".center(15) + \"there\") # center\n",
    "print(\"hello world\".center(15, \"+\") + \"there\") # center"
   ]
  },
  {
   "cell_type": "code",
   "execution_count": 88,
   "id": "fd4637e6",
   "metadata": {},
   "outputs": [
    {
     "name": "stdout",
     "output_type": "stream",
     "text": [
      "I had an exciting trip!\n",
      "I had an exciting trip!1111\n",
      "111I had an exciting \n",
      "111I had an exciting trip!1111\n",
      "111I had an exciting \n"
     ]
    }
   ],
   "source": [
    "# strip, rstrip, lstrip\n",
    "print(\"111I had an exciting trip!1111\".strip(\"1\"))\n",
    "print(\"111I had an exciting trip!1111\".lstrip(\"1\"))\n",
    "print(\"111I had an exciting trip!1111\".rstrip(\"trip!1111\"))\n",
    "# all characters to remove\n",
    "print(\"111I had an exciting trip!1111\".rstrip(\"t1111rip!\"))"
   ]
  },
  {
   "cell_type": "code",
   "execution_count": 90,
   "id": "9c14ebf9",
   "metadata": {},
   "outputs": [
    {
     "name": "stdout",
     "output_type": "stream",
     "text": [
      "Hello ocean\n"
     ]
    }
   ],
   "source": [
    "# replace\n",
    "print(\"Hello world\".replace(\"world\", \"ocean\"))"
   ]
  },
  {
   "cell_type": "code",
   "execution_count": 91,
   "id": "3c4ad4fd",
   "metadata": {},
   "outputs": [
    {
     "name": "stdout",
     "output_type": "stream",
     "text": [
      "11\n"
     ]
    }
   ],
   "source": [
    "# len()\n",
    "print(len(\"Hello world\"))"
   ]
  },
  {
   "cell_type": "code",
   "execution_count": 93,
   "id": "ae0764d3",
   "metadata": {},
   "outputs": [
    {
     "name": "stdout",
     "output_type": "stream",
     "text": [
      "Hello world, this is a message. How is the weather.\n"
     ]
    }
   ],
   "source": [
    "# format function\n",
    "print(\"Hello {}, this is a {}. How is the {}\".format(\"world\", \"message\", \"weather.\"))"
   ]
  },
  {
   "cell_type": "code",
   "execution_count": 1,
   "id": "6bd26cea",
   "metadata": {},
   "outputs": [
    {
     "name": "stdout",
     "output_type": "stream",
     "text": [
      "['b', 'l', 'a', 'h']\n"
     ]
    }
   ],
   "source": [
    "# list\n",
    "list_1 = [5, 4, 3, 2, 1]\n",
    "list_2 = [2.3, 4.5, 5.6]\n",
    "list_3 = [\"blue\", \"green\", \"red\"]\n",
    "list_4 = [[1, 2, 3], [4, 5, 6]]\n",
    "\n",
    "print(list(\"blah\"))"
   ]
  },
  {
   "cell_type": "code",
   "execution_count": 4,
   "id": "78b5c6c9",
   "metadata": {},
   "outputs": [
    {
     "name": "stdout",
     "output_type": "stream",
     "text": [
      "True\n",
      "False\n",
      "True\n"
     ]
    }
   ],
   "source": [
    "# list contains\n",
    "checked_list = [1, 2, 4, 5]\n",
    "print(1 in checked_list)\n",
    "print(8 in checked_list)\n",
    "print(8 not in checked_list)"
   ]
  },
  {
   "cell_type": "code",
   "execution_count": 14,
   "id": "99ebe91e",
   "metadata": {},
   "outputs": [
    {
     "name": "stdout",
     "output_type": "stream",
     "text": [
      "7\n",
      "7\n",
      "[7, 8, 9]\n",
      "[1, 2, 3]\n",
      "['Hello', True]\n",
      "[4, 5]\n",
      "[4, 5, 6]\n"
     ]
    }
   ],
   "source": [
    "# list indexes and slicing\n",
    "index_examples = [[1, 2, 3], [4, 5, 6], [7, 8, 9]]\n",
    "print(index_examples[2][0])\n",
    "print(index_examples[2][0])\n",
    "print(index_examples[-1])\n",
    "print(index_examples[-0])\n",
    "\n",
    "mixed_list = [\"Hello\", True, 1, 3, 4, 5, 6]\n",
    "\n",
    "# slicing includes the last indexed element\n",
    "print(mixed_list[0:2])\n",
    "print(mixed_list[-3:-1])\n",
    "print(mixed_list[-3:])"
   ]
  },
  {
   "cell_type": "code",
   "execution_count": null,
   "id": "da3dd1f9",
   "metadata": {},
   "outputs": [],
   "source": []
  },
  {
   "cell_type": "code",
   "execution_count": 20,
   "id": "c2095ee6",
   "metadata": {},
   "outputs": [
    {
     "name": "stdout",
     "output_type": "stream",
     "text": [
      "['mars', 'earth', 'venus', 'earth']\n",
      "['earth', 'venus', 'earth']\n",
      "['venus', 'earth']\n"
     ]
    }
   ],
   "source": [
    "# lists del and remove\n",
    "# del removes by index, remove removes by value\n",
    "planets = [\"pluto\", \"mars\", \"earth\", \"venus\", \"earth\"]\n",
    "del planets[0]\n",
    "print(planets)\n",
    "\n",
    "# print planets.remove(\"mars\") will print None\n",
    "planets.remove(\"mars\")\n",
    "print(planets)\n",
    "\n",
    "# removes the first item\n",
    "planets.remove(\"earth\")\n",
    "print(planets)"
   ]
  },
  {
   "cell_type": "code",
   "execution_count": 24,
   "id": "d0d81ee5",
   "metadata": {},
   "outputs": [
    {
     "name": "stdout",
     "output_type": "stream",
     "text": [
      "['cat', 'dog', 'parrot', 'horse']\n",
      "['cat', 'fish', 'dog', 'parrot', 'horse']\n"
     ]
    }
   ],
   "source": [
    "# list append, insert\n",
    "pets = [\"cat\", \"dog\", \"parrot\"]\n",
    "pets.append(\"horse\")\n",
    "print(pets)\n",
    "\n",
    "pets.insert(1, \"fish\")\n",
    "print(pets)"
   ]
  },
  {
   "cell_type": "code",
   "execution_count": 25,
   "id": "9b00687f",
   "metadata": {},
   "outputs": [
    {
     "name": "stdout",
     "output_type": "stream",
     "text": [
      "[-19, 2.718, 4, 1000]\n"
     ]
    }
   ],
   "source": [
    "# sort\n",
    "num_list = [2.718, 4, -19, 1000]\n",
    "num_list.sort()\n",
    "print(num_list)"
   ]
  },
  {
   "cell_type": "code",
   "execution_count": 27,
   "id": "3055671c",
   "metadata": {},
   "outputs": [
    {
     "name": "stdout",
     "output_type": "stream",
     "text": [
      "0\n",
      "2\n"
     ]
    }
   ],
   "source": [
    "# index method\n",
    "metals = [\"copper\", \"gold\", \"silver\", \"iron\", \"silver\"]\n",
    "print(metals.index(\"copper\"))\n",
    "print(metals.index(\"silver\"))"
   ]
  },
  {
   "cell_type": "code",
   "execution_count": 28,
   "id": "34d70031",
   "metadata": {},
   "outputs": [
    {
     "name": "stdout",
     "output_type": "stream",
     "text": [
      "silver\n",
      "['copper', 'gold', 'silver', 'iron']\n"
     ]
    }
   ],
   "source": [
    "# pop methods\n",
    "popped = metals.pop()\n",
    "print(popped)\n",
    "print(metals)"
   ]
  },
  {
   "cell_type": "code",
   "execution_count": 31,
   "id": "b7aebb97",
   "metadata": {},
   "outputs": [
    {
     "name": "stdout",
     "output_type": "stream",
     "text": [
      "[1, 9, 3, 4, 5]\n"
     ]
    }
   ],
   "source": [
    "# List: mutable\n",
    "# Strings: immutable\n",
    "ex_1 = [1, 2, 3, 4, 5]\n",
    "ex_1[1] = 9\n",
    "print(ex_1)\n",
    "\n",
    "ex_2 = \"123\"\n",
    "# ex_2[1] = \"A\" will throw an error, strings are immutable\n"
   ]
  },
  {
   "cell_type": "code",
   "execution_count": 33,
   "id": "893b3b7b",
   "metadata": {},
   "outputs": [
    {
     "name": "stdout",
     "output_type": "stream",
     "text": [
      "[7, 2, 3, 4, 5, 6]\n",
      "[7, 2, 3, 4, 5, 6]\n",
      "[7, 2, 3, 4, 5, 6]\n",
      "[10, 2, 3, 4, 5, 6]\n"
     ]
    }
   ],
   "source": [
    "# copy by reference and deepcopy\n",
    "ex_1 = [1, 2, 3, 4, 5, 6]\n",
    "ex_2 = ex_1\n",
    "ex_2[0] = 7\n",
    "print(ex_1)\n",
    "print(ex_2)\n",
    "\n",
    "import copy\n",
    "\n",
    "ex_3 = copy.deepcopy(ex_1)\n",
    "ex_3[0] = 10\n",
    "print(ex_1)\n",
    "print(ex_3)"
   ]
  },
  {
   "cell_type": "code",
   "execution_count": 44,
   "id": "eea68d91",
   "metadata": {},
   "outputs": [
    {
     "name": "stdout",
     "output_type": "stream",
     "text": [
      "xbox\n",
      "corundum\n",
      "False\n",
      "True\n"
     ]
    }
   ],
   "source": [
    "# Dictionaries\n",
    "dict_1 = {\"microsoft\": \"xbox\", \"sony\": \"playstation\", \"nintendo\": \"wii\"}\n",
    "print(dict[\"microsoft\"])\n",
    "dict_2 = {5: \"corundum\", \"some\": \"thing\"}\n",
    "# print(dict_2[0]) # key error message\n",
    "print(dict_2[5])\n",
    "\n",
    "# check for keys \n",
    "print(0 in dict_1)\n",
    "print(\"sony\" in dict_1)"
   ]
  },
  {
   "cell_type": "code",
   "execution_count": 59,
   "id": "ef14350b",
   "metadata": {},
   "outputs": [
    {
     "name": "stdout",
     "output_type": "stream",
     "text": [
      "dict_keys([1994, 1969, 1982])\n",
      "\n",
      "\n",
      "[1994, 1969, 1982]\n",
      "\n",
      "\n",
      "1994\n",
      "1969\n",
      "1982\n",
      "\n",
      "\n",
      "bill\n",
      "emily\n",
      "elizabeth\n",
      "\n",
      "\n",
      "1994 bill\n",
      "1969 emily\n",
      "1982 elizabeth\n",
      "\n",
      "\n",
      "False\n",
      "True\n",
      "\n",
      "\n",
      "elizabeth\n",
      "\n",
      "\n",
      "elizabeth\n",
      "\n",
      "\n",
      "1980 is not a key\n"
     ]
    }
   ],
   "source": [
    "# dictionaries\n",
    "birth_years = {1994: \"bill\", 1969: \"emily\", 1982: \"elizabeth\"}\n",
    "\n",
    "# print as dict_keys\n",
    "print(birth_years.keys())\n",
    "print(\"\\n\")\n",
    "\n",
    "# print as list\n",
    "print(list(birth_years.keys()))\n",
    "print(\"\\n\")\n",
    "\n",
    "# print key\n",
    "for key in birth_years.keys():\n",
    "    print(key)\n",
    "print(\"\\n\")\n",
    "\n",
    "# print value\n",
    "for value in birth_years.values():\n",
    "    print(value)\n",
    "print(\"\\n\")\n",
    "    \n",
    "# print item\n",
    "for key, value in birth_years.items():\n",
    "    print(key, value)\n",
    "print(\"\\n\")\n",
    "\n",
    "print(\"elizabeth\" in birth_years.keys())\n",
    "print(\"elizabeth\" in birth_years.values())\n",
    "print(\"\\n\")\n",
    "\n",
    "# check for key\n",
    "if 1982 in birth_years: \n",
    "    print(birth_years[1982])\n",
    "print(\"\\n\")\n",
    "\n",
    "# check for key and value with get\n",
    "print(birth_years.get(1982))\n",
    "print(\"\\n\")\n",
    "\n",
    "# check for key and value with get if no key available\n",
    "print(birth_years.get(1980, \"1980 is not a key\"))"
   ]
  },
  {
   "cell_type": "code",
   "execution_count": 70,
   "id": "38710025",
   "metadata": {},
   "outputs": [
    {
     "name": "stdout",
     "output_type": "stream",
     "text": [
      "{'address': '1600 Pennsylvania Avenue NW'}\n",
      "{'a': ['1600 Pennsylvania Avenue NW', 'so'], 'd': ['1600 Pennsylvania Avenue NW', 'so'], 'e': ['1600 Pennsylvania Avenue NW', 'so']}\n",
      "[10, 2, 3, 4, 5, 6]\n",
      "{'a': ['1600 Pennsylvania Avenue NW', 'so'], 'e': ['1600 Pennsylvania Avenue NW', 'so']}\n",
      "\n",
      "\n",
      "{'a': ['1600 Pennsylvania Avenue NW', 'so']}\n"
     ]
    }
   ],
   "source": [
    "# list methods\n",
    "# fromkeys()\n",
    "# pop()\n",
    "# popitem()\n",
    "\n",
    "ex_1 = {}.fromkeys([\"address\"], \"1600 Pennsylvania Avenue NW\")\n",
    "\n",
    "# second parameter is used as value for every key\n",
    "ex_2 = {}.fromkeys(\"ade\", \"1600 Pennsylvania Avenue NW\")\n",
    "ex_2 = {}.fromkeys(\"ade\", [\"1600 Pennsylvania Avenue NW\", \"so\"])\n",
    "\n",
    "print(ex_1)\n",
    "print(ex_2)\n",
    "print(ex_3)\n",
    "\n",
    "# type the key as dicts are unordered to use pop of dicts\n",
    "ex_2.pop(\"d\")\n",
    "print(ex_2)\n",
    "print(\"\\n\")\n",
    "\n",
    "# pop any item\n",
    "ex_2.popitem()\n",
    "print(ex_2)"
   ]
  },
  {
   "cell_type": "code",
   "execution_count": 71,
   "id": "8c9c4c21",
   "metadata": {},
   "outputs": [
    {
     "name": "stdout",
     "output_type": "stream",
     "text": [
      "{'city_a': 500, 'city_2': 2000}\n"
     ]
    }
   ],
   "source": [
    "# update method for dicts\n",
    "city_info = {\"city_a\": 1000, \"city_2\": 2000}\n",
    "\n",
    "city_a = {\"city_a\": 500}\n",
    "\n",
    "city_info.update(city_a)\n",
    "\n",
    "print(city_info)"
   ]
  },
  {
   "cell_type": "code",
   "execution_count": 4,
   "id": "79d573dc",
   "metadata": {},
   "outputs": [
    {
     "name": "stdout",
     "output_type": "stream",
     "text": [
      "{}\n",
      "{'a1': 1, 'b_': 2, 'c_3': 3}\n"
     ]
    }
   ],
   "source": [
    "# dict function, cant use numbers as keys\n",
    "empty = dict()\n",
    "print(empty)\n",
    "with_values = dict(a1=1, b_=2, c_3 = 3)\n",
    "print(with_values)"
   ]
  },
  {
   "cell_type": "code",
   "execution_count": 16,
   "id": "8f4957ba",
   "metadata": {},
   "outputs": [
    {
     "name": "stdout",
     "output_type": "stream",
     "text": [
      "('a', 'b', 'c', 'd', 'e')\n",
      "(2.718, False, [1, 2, 3])\n",
      "('a', 'b', 'c')\n",
      "c\n",
      "48\n",
      "64\n"
     ]
    }
   ],
   "source": [
    "# tuples are immutable\n",
    "tuple_1 = (\"a\", \"b\", \"c\", \"d\", \"e\")\n",
    "tuple_2 = tuple([2.718, False, [1, 2, 3]])\n",
    "tuple_3 = tuple(\"abc\")\n",
    "print(tuple_1)\n",
    "print(tuple_2)\n",
    "print(tuple_3)\n",
    "print(tuple_1[2])\n",
    "# tuple_1[3] = \"b\" will throw an error\n",
    "\n",
    "# list is bigger in storage\n",
    "tuple_4 = (1,2,3)\n",
    "list_x = [1,2,3]\n",
    "size_tuple = tuple_4.__sizeof__\n",
    "size_list = list_x.__sizeof__\n",
    "print(size_tuple())\n",
    "print(size_list())\n",
    "\n",
    "# lists cant be used as keys but tuples can be used as keys\n"
   ]
  },
  {
   "cell_type": "code",
   "execution_count": 19,
   "id": "625b7113",
   "metadata": {},
   "outputs": [
    {
     "name": "stdout",
     "output_type": "stream",
     "text": [
      "(1, 4, 7, 10)\n",
      "(2, 4, 6, 8, 10)\n",
      "(8, 7, 6, 5, 4, 3, 2, 1)\n",
      "(9, 7, 5, 3, 1)\n"
     ]
    }
   ],
   "source": [
    "# tuple slicing\n",
    "ints = (1, 2, 3, 4, 5, 6, 7, 8, 9, 10)\n",
    "print(ints[::3]) # stride length of 3\n",
    "print(ints[1::2]) # evens only\n",
    "print(ints[7::-1]) # backwards from 8\n",
    "print(ints[8::-2]) # odds only"
   ]
  },
  {
   "cell_type": "code",
   "execution_count": 22,
   "id": "92863a6f",
   "metadata": {},
   "outputs": [
    {
     "name": "stdout",
     "output_type": "stream",
     "text": [
      "(7, 8, 9)\n",
      "2\n",
      "3\n"
     ]
    }
   ],
   "source": [
    "nested = (1, 2, 3, (4, 5, 6), (7, 8, 9), 7, 3, 2, 1)\n",
    "print(nested[4])\n",
    "print(nested.count(3))\n",
    "print(nested.index((4, 5, 6)))"
   ]
  },
  {
   "cell_type": "code",
   "execution_count": 52,
   "id": "36b45c8e",
   "metadata": {},
   "outputs": [
    {
     "name": "stdout",
     "output_type": "stream",
     "text": [
      "{'orange', 'apple', 'banana'}\n",
      "None\n",
      "{'orange', 'apple'}\n",
      "Fruit set copy: {'orange', 'apple'}\n",
      "{'star trek', 'halo', 'star wars'}\n",
      "{5, 6, 7}\n",
      "Set d is set_d {1, 2, 3, 4}\n",
      "{1, 3, 5, 7}\n",
      "1\n",
      "3\n",
      "5\n",
      "7\n",
      "False\n",
      "{4, 6, 8, 10, 12}\n",
      "{'a', 'p', 'c', 'l', 's'}\n"
     ]
    }
   ],
   "source": [
    "# sets\n",
    "fruits = [\"apple\", \"apple\", \"apple\", \"banana\", \"orange\"]\n",
    "fruit_set = set(fruits)\n",
    "print(set(fruit_set))\n",
    "print(fruit_set.remove(\"banana\"))\n",
    "print(fruit_set)\n",
    "fruit_set_copy = fruit_set.copy()\n",
    "fruit_set.add(\"ananas\")\n",
    "print(\"Fruit set copy: {}\".format(fruit_set_copy))\n",
    "\n",
    "# set methods\n",
    "scifi = {\"star trek\", \"star wars\", \"halo\"}\n",
    "scifi.add(\"star wars\")\n",
    "print(scifi)\n",
    "\n",
    "# intersections\n",
    "set_a = {1, 2, 3, 4, 5, 6, 7}\n",
    "set_b = {5, 6, 7, 8, 9}\n",
    "set_c = set_a & set_b\n",
    "set_d = set_a - set_b\n",
    "print(set_c)\n",
    "print(\"Set d is set_d {}\".format(set_d))\n",
    "\n",
    "# set with range\n",
    "set_1 = set(range(1, 9, 2))\n",
    "print(set_1)\n",
    " \n",
    "# print sets\n",
    "for num in set_1:\n",
    "    print(num)\n",
    "print(9 in set_1)\n",
    "\n",
    "# set comprehension\n",
    "comp_1 = {even + 2 for even in range(2, 11, 2)}\n",
    "comp_2 = {char.lower() for char in \"ALLCAPS\"}\n",
    "print(comp_1)\n",
    "print(comp_2)"
   ]
  },
  {
   "cell_type": "code",
   "execution_count": null,
   "id": "a9bc93d5",
   "metadata": {},
   "outputs": [],
   "source": []
  }
 ],
 "metadata": {
  "kernelspec": {
   "display_name": "Python 3 (ipykernel)",
   "language": "python",
   "name": "python3"
  },
  "language_info": {
   "codemirror_mode": {
    "name": "ipython",
    "version": 3
   },
   "file_extension": ".py",
   "mimetype": "text/x-python",
   "name": "python",
   "nbconvert_exporter": "python",
   "pygments_lexer": "ipython3",
   "version": "3.7.11"
  }
 },
 "nbformat": 4,
 "nbformat_minor": 5
}
